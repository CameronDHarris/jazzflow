{
  "nbformat": 4,
  "nbformat_minor": 0,
  "metadata": {
    "colab": {
      "provenance": [],
      "authorship_tag": "ABX9TyNCkCPM4X9ZZjMwk9ufHxWX"
    },
    "kernelspec": {
      "name": "python3",
      "display_name": "Python 3"
    },
    "language_info": {
      "name": "python"
    }
  },
  "cells": [
    {
      "cell_type": "markdown",
      "source": [
        "# Imports/Installs"
      ],
      "metadata": {
        "id": "JpL6cD852qvp"
      }
    },
    {
      "cell_type": "code",
      "source": [
        "pip install pretty_midi"
      ],
      "metadata": {
        "colab": {
          "base_uri": "https://localhost:8080/"
        },
        "id": "6GRIjbrGhMbo",
        "outputId": "f8e0de16-1455-4618-d7f6-f3b9e766707f"
      },
      "execution_count": 1,
      "outputs": [
        {
          "output_type": "stream",
          "name": "stdout",
          "text": [
            "Looking in indexes: https://pypi.org/simple, https://us-python.pkg.dev/colab-wheels/public/simple/\n",
            "Collecting pretty_midi\n",
            "  Downloading pretty_midi-0.2.9.tar.gz (5.6 MB)\n",
            "\u001b[2K     \u001b[90m━━━━━━━━━━━━━━━━━━━━━━━━━━━━━━━━━━━━━━━━\u001b[0m \u001b[32m5.6/5.6 MB\u001b[0m \u001b[31m17.9 MB/s\u001b[0m eta \u001b[36m0:00:00\u001b[0m\n",
            "\u001b[?25h  Preparing metadata (setup.py) ... \u001b[?25l\u001b[?25hdone\n",
            "Requirement already satisfied: numpy>=1.7.0 in /usr/local/lib/python3.8/dist-packages (from pretty_midi) (1.21.6)\n",
            "Collecting mido>=1.1.16\n",
            "  Downloading mido-1.2.10-py2.py3-none-any.whl (51 kB)\n",
            "\u001b[2K     \u001b[90m━━━━━━━━━━━━━━━━━━━━━━━━━━━━━━━━━━━━━━━━\u001b[0m \u001b[32m51.1/51.1 KB\u001b[0m \u001b[31m2.3 MB/s\u001b[0m eta \u001b[36m0:00:00\u001b[0m\n",
            "\u001b[?25hRequirement already satisfied: six in /usr/local/lib/python3.8/dist-packages (from pretty_midi) (1.15.0)\n",
            "Building wheels for collected packages: pretty_midi\n",
            "  Building wheel for pretty_midi (setup.py) ... \u001b[?25l\u001b[?25hdone\n",
            "  Created wheel for pretty_midi: filename=pretty_midi-0.2.9-py3-none-any.whl size=5591954 sha256=34b5049c8d77442d9ebdfd2efeaeafb6942ddf27e8fe3cad85dd57c916ddbaea\n",
            "  Stored in directory: /root/.cache/pip/wheels/2a/5a/e3/30eeb9a99350f3f7e21258fcb132743eef1a4f49b3505e76b6\n",
            "Successfully built pretty_midi\n",
            "Installing collected packages: mido, pretty_midi\n",
            "Successfully installed mido-1.2.10 pretty_midi-0.2.9\n"
          ]
        }
      ]
    },
    {
      "cell_type": "code",
      "execution_count": 27,
      "metadata": {
        "id": "6ifri0w-f8jL"
      },
      "outputs": [],
      "source": [
        "import os\n",
        "import numpy as np\n",
        "import pretty_midi\n",
        "import seaborn as sns\n",
        "import librosa, librosa.display\n",
        "import matplotlib.pyplot as plt\n",
        "import pandas as pd\n",
        "import statsmodels.api as sm"
      ]
    },
    {
      "cell_type": "code",
      "source": [
        "from google.colab import drive\n",
        "drive.mount('/content/drive')"
      ],
      "metadata": {
        "colab": {
          "base_uri": "https://localhost:8080/"
        },
        "id": "bl9kUibFhzao",
        "outputId": "110f445f-6b16-4161-85ff-2d7831f5f459"
      },
      "execution_count": 3,
      "outputs": [
        {
          "output_type": "stream",
          "name": "stdout",
          "text": [
            "Mounted at /content/drive\n"
          ]
        }
      ]
    },
    {
      "cell_type": "markdown",
      "source": [
        "# EDA"
      ],
      "metadata": {
        "id": "e6e2tJnC2tU3"
      }
    },
    {
      "cell_type": "code",
      "source": [
        "test_data = pretty_midi.PrettyMIDI('/content/BenWebster_ByeByeBlackbird_FINAL.mid')"
      ],
      "metadata": {
        "id": "VUyTQKathjJ8"
      },
      "execution_count": 4,
      "outputs": []
    },
    {
      "cell_type": "code",
      "source": [
        "print(test_data.instruments)\n",
        "print(test_data.get_tempo_changes())\n",
        "print(test_data.estimate_tempi())"
      ],
      "metadata": {
        "colab": {
          "base_uri": "https://localhost:8080/"
        },
        "id": "gMpExkRulR7R",
        "outputId": "040c4290-32bd-4284-fe7d-58c6710dc3d7"
      },
      "execution_count": null,
      "outputs": [
        {
          "output_type": "stream",
          "name": "stdout",
          "text": [
            "[Instrument(program=0, is_drum=False, name=\"Melody\")]\n",
            "(array([0.]), array([141.00030315]))\n",
            "(array([190.64829722, 187.30003016, 172.70850529, 179.40396425,\n",
            "       158.1311811 , 188.2909767 , 191.83035043, 145.7445933 ,\n",
            "       166.08624666, 143.2384032 , 164.50035368, 185.24380003,\n",
            "       132.79916428, 151.36134779, 175.14270558, 191.22543636,\n",
            "       189.88417579, 162.92111257, 150.95943237, 132.92336271,\n",
            "       147.66577203, 123.14810404, 157.70130993, 156.78798188,\n",
            "       194.52975956, 188.52408221, 192.54664442, 159.06027147,\n",
            "       192.27314066,  98.22952905, 190.38015615, 190.38015615,\n",
            "       183.85098951, 191.32196611, 190.64829722, 176.94155689,\n",
            "       159.48193346, 186.0622557 , 182.61084793, 148.95217719,\n",
            "       163.08468798, 120.32025869, 119.39165691, 184.47739833,\n",
            "       185.4250562 , 150.67935921,  87.32922002, 184.16366126,\n",
            "       101.39347642, 189.31509234, 185.4250562 , 169.55360045,\n",
            "       184.58221503, 188.0004042 ,  91.35677684, 188.0004042 ,\n",
            "       191.54758164, 119.2601683 , 189.31509234, 190.64829722,\n",
            "       173.91043815, 188.0004042 , 190.20181409, 184.58221503,\n",
            "       160.18969352, 149.29443863, 191.09688145, 192.0004128 ,\n",
            "       189.75741732, 176.17391457,  96.57095674, 174.65844003,\n",
            "       172.43349175, 166.08624666, 183.53937766, 181.6916658 ,\n",
            "        87.47030115, 182.9193122 , 170.80162905, 172.43349175,\n",
            "        79.15806493, 160.18969352, 189.31509234, 149.98370197,\n",
            "       149.15734548, 184.79220618, 189.31509234, 188.0004042 ,\n",
            "       184.16366126,  81.29747209, 182.9193122 , 189.97935582,\n",
            "        75.40963288, 146.33544976, 179.88078541, 179.88078541,\n",
            "       185.4250562 ,  86.21674588, 180.48038803, 225.60048504,\n",
            "        55.5894419 , 106.58290632, 161.1432036 ,  39.63698127,\n",
            "        43.73515057, 142.48451687, 132.05882051,  73.3660114 ,\n",
            "        53.9284028 , 246.10962004,  47.6620743 ,  88.18260002,\n",
            "        34.79698998,  46.04091531,  51.86218047,  63.10503078,\n",
            "        30.83377928,  40.34583935,  31.66322597,  68.53685622,\n",
            "        42.70040726,  35.95226853, 111.86800911,  34.09579119,\n",
            "        37.2380443 ]), array([0.03579418, 0.02908277, 0.02684564, 0.02237136, 0.02237136,\n",
            "       0.02013423, 0.01789709, 0.01789709, 0.01789709, 0.01789709,\n",
            "       0.01565996, 0.01565996, 0.01565996, 0.01565996, 0.01565996,\n",
            "       0.01565996, 0.01565996, 0.01342282, 0.01342282, 0.01342282,\n",
            "       0.01342282, 0.01342282, 0.01342282, 0.01342282, 0.01342282,\n",
            "       0.01118568, 0.01118568, 0.01118568, 0.01118568, 0.01118568,\n",
            "       0.01118568, 0.01118568, 0.00894855, 0.00894855, 0.00894855,\n",
            "       0.00894855, 0.00894855, 0.00894855, 0.00894855, 0.00894855,\n",
            "       0.00894855, 0.00894855, 0.00894855, 0.00894855, 0.00671141,\n",
            "       0.00671141, 0.00671141, 0.00671141, 0.00671141, 0.00671141,\n",
            "       0.00671141, 0.00671141, 0.00671141, 0.00671141, 0.00671141,\n",
            "       0.00671141, 0.00671141, 0.00671141, 0.00671141, 0.00671141,\n",
            "       0.00671141, 0.00671141, 0.00671141, 0.00671141, 0.00671141,\n",
            "       0.00671141, 0.00671141, 0.00671141, 0.00671141, 0.00671141,\n",
            "       0.00671141, 0.00447427, 0.00447427, 0.00447427, 0.00447427,\n",
            "       0.00447427, 0.00447427, 0.00447427, 0.00447427, 0.00447427,\n",
            "       0.00447427, 0.00447427, 0.00447427, 0.00447427, 0.00447427,\n",
            "       0.00447427, 0.00447427, 0.00447427, 0.00447427, 0.00447427,\n",
            "       0.00447427, 0.00447427, 0.00447427, 0.00447427, 0.00447427,\n",
            "       0.00447427, 0.00447427, 0.00447427, 0.00447427, 0.00447427,\n",
            "       0.00447427, 0.00223714, 0.00223714, 0.00223714, 0.00223714,\n",
            "       0.00223714, 0.00223714, 0.00223714, 0.00223714, 0.00223714,\n",
            "       0.00223714, 0.00223714, 0.00223714, 0.00223714, 0.00223714,\n",
            "       0.00223714, 0.00223714, 0.00223714, 0.00223714, 0.00223714,\n",
            "       0.00223714, 0.00223714, 0.00223714, 0.00223714, 0.00223714]))\n"
          ]
        }
      ]
    },
    {
      "cell_type": "code",
      "source": [
        "print(test_data.get_pitch_class_transition_matrix())"
      ],
      "metadata": {
        "colab": {
          "base_uri": "https://localhost:8080/"
        },
        "id": "jnjBvUKhxOXo",
        "outputId": "14e2b369-48d4-4b70-c256-42cd066051da"
      },
      "execution_count": null,
      "outputs": [
        {
          "output_type": "stream",
          "name": "stdout",
          "text": [
            "[[ 1.  2.  1.  0.  1.  0.  0.  2.  0.  1.  3. 16.]\n",
            " [ 1.  0.  4.  0.  1.  0.  0.  0.  0.  0.  1.  1.]\n",
            " [ 3.  3.  2.  4. 12.  2.  1.  0.  2.  0.  2. 11.]\n",
            " [ 1.  1.  1.  1.  7.  0.  0.  0.  0.  0.  0.  0.]\n",
            " [ 5.  1.  8.  1.  3.  8.  3.  3.  0.  0.  0.  1.]\n",
            " [ 0.  0.  6.  3.  4.  2.  4.  2.  0.  2.  0.  0.]\n",
            " [ 0.  0.  2.  0.  2.  0.  0.  7.  0.  1.  1.  2.]\n",
            " [ 0.  0.  8.  0.  1.  4.  1.  4.  8.  6.  3.  6.]\n",
            " [ 1.  0.  2.  0.  0.  2.  1.  0.  0.  3.  0.  8.]\n",
            " [ 0.  0.  2.  0.  4.  1.  3.  4.  3.  5.  1.  7.]\n",
            " [ 2.  1.  1.  0.  1.  0.  0.  3.  0.  0.  0.  6.]\n",
            " [13.  1. 15.  0.  2.  2.  2.  3.  1. 13.  2.  5.]]\n"
          ]
        }
      ]
    },
    {
      "cell_type": "code",
      "source": [
        "plt.bar(np.arange(12), test_data.get_pitch_class_histogram());\n",
        "plt.xticks(np.arange(12), ['C', 'C#', 'D', 'D#', 'E', 'F', 'F#', 'G', 'G#', 'A', 'A#', 'B'])\n",
        "plt.xlabel('Note')\n",
        "plt.ylabel('Proportion')"
      ],
      "metadata": {
        "colab": {
          "base_uri": "https://localhost:8080/",
          "height": 297
        },
        "id": "0kjjfioGyND6",
        "outputId": "161649d7-dc46-4bc3-9e1e-86217ffd37b4"
      },
      "execution_count": null,
      "outputs": [
        {
          "output_type": "execute_result",
          "data": {
            "text/plain": [
              "Text(0, 0.5, 'Proportion')"
            ]
          },
          "metadata": {},
          "execution_count": 9
        },
        {
          "output_type": "display_data",
          "data": {
            "text/plain": [
              "<Figure size 432x288 with 1 Axes>"
            ],
            "image/png": "[encoded data removed]"
          },
          "metadata": {
            "needs_background": "light"
          }
        }
      ]
    },
    {
      "cell_type": "code",
      "source": [
        "plt.bar(np.arange(12), test_data.get_pitch_class_histogram(use_duration=True));\n",
        "plt.xticks(np.arange(12), ['C', 'C#', 'D', 'D#', 'E', 'F', 'F#', 'G', 'G#', 'A', 'A#', 'B'])\n",
        "plt.xlabel('Note')\n",
        "plt.ylabel('Proportion')"
      ],
      "metadata": {
        "colab": {
          "base_uri": "https://localhost:8080/",
          "height": 297
        },
        "id": "uVqg26zgyTOZ",
        "outputId": "f6331c66-4328-4422-f26d-8fa7ea6eeee9"
      },
      "execution_count": null,
      "outputs": [
        {
          "output_type": "execute_result",
          "data": {
            "text/plain": [
              "Text(0, 0.5, 'Proportion')"
            ]
          },
          "metadata": {},
          "execution_count": 11
        },
        {
          "output_type": "display_data",
          "data": {
            "text/plain": [
              "<Figure size 432x288 with 1 Axes>"
            ],
            "image/png": "[encoded data removed]"
          },
          "metadata": {
            "needs_background": "light"
          }
        }
      ]
    },
    {
      "cell_type": "code",
      "source": [
        "fig, (ax1, ax2) = plt.subplots(1,2)\n",
        "sns.heatmap(test_data.get_pitch_class_transition_matrix(normalize=True), ax=ax1)\n",
        "sns.heatmap(test_data.get_pitch_class_transition_matrix(time_thresh=0.1, normalize=True), ax=ax2)"
      ],
      "metadata": {
        "colab": {
          "base_uri": "https://localhost:8080/",
          "height": 287
        },
        "id": "pcEaZgsClS9K",
        "outputId": "065b6e12-09fe-40aa-be21-871af248e432"
      },
      "execution_count": 6,
      "outputs": [
        {
          "output_type": "execute_result",
          "data": {
            "text/plain": [
              "<matplotlib.axes._subplots.AxesSubplot at 0x7f1eda785eb0>"
            ]
          },
          "metadata": {},
          "execution_count": 6
        },
        {
          "output_type": "display_data",
          "data": {
            "text/plain": [
              "<Figure size 432x288 with 4 Axes>"
            ],
            "image/png": "[encoded data removed]"
          },
          "metadata": {
            "needs_background": "light"
          }
        }
      ]
    },
    {
      "cell_type": "code",
      "source": [
        "transition_matrix = test_data.get_pitch_class_transition_matrix()\n",
        "print(transition_matrix)"
      ],
      "metadata": {
        "colab": {
          "base_uri": "https://localhost:8080/"
        },
        "id": "gjZcWUG31yBg",
        "outputId": "a0aa143f-7ca7-42e2-9c9b-3d6be6bbc169"
      },
      "execution_count": 7,
      "outputs": [
        {
          "output_type": "stream",
          "name": "stdout",
          "text": [
            "[[ 1.  2.  1.  0.  1.  0.  0.  2.  0.  1.  3. 16.]\n",
            " [ 1.  0.  4.  0.  1.  0.  0.  0.  0.  0.  1.  1.]\n",
            " [ 3.  3.  2.  4. 12.  2.  1.  0.  2.  0.  2. 11.]\n",
            " [ 1.  1.  1.  1.  7.  0.  0.  0.  0.  0.  0.  0.]\n",
            " [ 5.  1.  8.  1.  3.  8.  3.  3.  0.  0.  0.  1.]\n",
            " [ 0.  0.  6.  3.  4.  2.  4.  2.  0.  2.  0.  0.]\n",
            " [ 0.  0.  2.  0.  2.  0.  0.  7.  0.  1.  1.  2.]\n",
            " [ 0.  0.  8.  0.  1.  4.  1.  4.  8.  6.  3.  6.]\n",
            " [ 1.  0.  2.  0.  0.  2.  1.  0.  0.  3.  0.  8.]\n",
            " [ 0.  0.  2.  0.  4.  1.  3.  4.  3.  5.  1.  7.]\n",
            " [ 2.  1.  1.  0.  1.  0.  0.  3.  0.  0.  0.  6.]\n",
            " [13.  1. 15.  0.  2.  2.  2.  3.  1. 13.  2.  5.]]\n"
          ]
        }
      ]
    },
    {
      "cell_type": "code",
      "source": [
        "normalized_transition_matrix = (transition_matrix / transition_matrix.sum(axis=1)[:, None])\n",
        "normalized_transition_matrix.sum(axis=1)"
      ],
      "metadata": {
        "colab": {
          "base_uri": "https://localhost:8080/"
        },
        "id": "vckie5WY7qlM",
        "outputId": "41925405-b310-4c8f-c07d-c5c7e521cb03"
      },
      "execution_count": 8,
      "outputs": [
        {
          "output_type": "execute_result",
          "data": {
            "text/plain": [
              "array([1., 1., 1., 1., 1., 1., 1., 1., 1., 1., 1., 1.])"
            ]
          },
          "metadata": {},
          "execution_count": 8
        }
      ]
    },
    {
      "cell_type": "code",
      "source": [
        "print(normalized_transition_matrix)"
      ],
      "metadata": {
        "colab": {
          "base_uri": "https://localhost:8080/"
        },
        "id": "991Nya7u-kYX",
        "outputId": "66932438-f802-4928-b511-13e4b76331cf"
      },
      "execution_count": null,
      "outputs": [
        {
          "output_type": "stream",
          "name": "stdout",
          "text": [
            "[[0.03703704 0.07407407 0.03703704 0.         0.03703704 0.\n",
            "  0.         0.07407407 0.         0.03703704 0.11111111 0.59259259]\n",
            " [0.125      0.         0.5        0.         0.125      0.\n",
            "  0.         0.         0.         0.         0.125      0.125     ]\n",
            " [0.07142857 0.07142857 0.04761905 0.0952381  0.28571429 0.04761905\n",
            "  0.02380952 0.         0.04761905 0.         0.04761905 0.26190476]\n",
            " [0.09090909 0.09090909 0.09090909 0.09090909 0.63636364 0.\n",
            "  0.         0.         0.         0.         0.         0.        ]\n",
            " [0.15151515 0.03030303 0.24242424 0.03030303 0.09090909 0.24242424\n",
            "  0.09090909 0.09090909 0.         0.         0.         0.03030303]\n",
            " [0.         0.         0.26086957 0.13043478 0.17391304 0.08695652\n",
            "  0.17391304 0.08695652 0.         0.08695652 0.         0.        ]\n",
            " [0.         0.         0.13333333 0.         0.13333333 0.\n",
            "  0.         0.46666667 0.         0.06666667 0.06666667 0.13333333]\n",
            " [0.         0.         0.19512195 0.         0.02439024 0.09756098\n",
            "  0.02439024 0.09756098 0.19512195 0.14634146 0.07317073 0.14634146]\n",
            " [0.05882353 0.         0.11764706 0.         0.         0.11764706\n",
            "  0.05882353 0.         0.         0.17647059 0.         0.47058824]\n",
            " [0.         0.         0.06666667 0.         0.13333333 0.03333333\n",
            "  0.1        0.13333333 0.1        0.16666667 0.03333333 0.23333333]\n",
            " [0.14285714 0.07142857 0.07142857 0.         0.07142857 0.\n",
            "  0.         0.21428571 0.         0.         0.         0.42857143]\n",
            " [0.22033898 0.01694915 0.25423729 0.         0.03389831 0.03389831\n",
            "  0.03389831 0.05084746 0.01694915 0.22033898 0.03389831 0.08474576]]\n"
          ]
        }
      ]
    },
    {
      "cell_type": "markdown",
      "source": [
        "## Markov Chain Generation\n",
        "\n",
        "Here I am assuming that only the previous note matters for the conditional probability of the next note. This is purely to see how interesting the generated MIDI file will be using only the main pitch classes and markov probabilities."
      ],
      "metadata": {
        "id": "qd7AuTXVAlLA"
      }
    },
    {
      "cell_type": "code",
      "source": [
        "generating_seed = 8\n",
        "# categories correspond to the pitch classes in pretty_midi (0 = C, 1 = D, ..., 11 = B)\n",
        "categories = [0, 1, 2, 3, 4, 5, 6, 7, 8, 9, 10, 11]\n",
        "notes = np.array([])\n",
        "notes = np.append(notes, generating_seed)\n",
        "for note in range(100):\n",
        "  probs = normalized_transition_matrix[generating_seed]\n",
        "  next_generating_seed = np.random.choice(categories, p=probs)\n",
        "  notes = np.append(notes, next_generating_seed)\n",
        "  generating_seed = next_generating_seed\n",
        "\n",
        "# add to MIDI file\n",
        "markov_generation = pretty_midi.PrettyMIDI(initial_tempo=200)\n",
        "inst = pretty_midi.Instrument(program=66, is_drum=False, name='Tenor Sax')\n",
        "markov_generation.instruments.append(inst)\n",
        "velocity = 100\n",
        "for pitch, start, end in zip(notes, [x for x in range(len(notes))], [x+1.0 for x in range(len(notes))]):\n",
        "    inst.notes.append(pretty_midi.Note(int(velocity), int(pitch)+48, start, end))\n",
        "print(inst.notes)"
      ],
      "metadata": {
        "colab": {
          "base_uri": "https://localhost:8080/"
        },
        "id": "S-EQjjMO9l2F",
        "outputId": "35af2847-0e3c-4560-84b8-690229cd39bc"
      },
      "execution_count": 9,
      "outputs": [
        {
          "output_type": "stream",
          "name": "stdout",
          "text": [
            "[Note(start=0.000000, end=1.000000, pitch=56, velocity=100), Note(start=1.000000, end=2.000000, pitch=59, velocity=100), Note(start=2.000000, end=3.000000, pitch=50, velocity=100), Note(start=3.000000, end=4.000000, pitch=51, velocity=100), Note(start=4.000000, end=5.000000, pitch=52, velocity=100), Note(start=5.000000, end=6.000000, pitch=50, velocity=100), Note(start=6.000000, end=7.000000, pitch=58, velocity=100), Note(start=7.000000, end=8.000000, pitch=48, velocity=100), Note(start=8.000000, end=9.000000, pitch=58, velocity=100), Note(start=9.000000, end=10.000000, pitch=59, velocity=100), Note(start=10.000000, end=11.000000, pitch=54, velocity=100), Note(start=11.000000, end=12.000000, pitch=57, velocity=100), Note(start=12.000000, end=13.000000, pitch=52, velocity=100), Note(start=13.000000, end=14.000000, pitch=53, velocity=100), Note(start=14.000000, end=15.000000, pitch=51, velocity=100), Note(start=15.000000, end=16.000000, pitch=52, velocity=100), Note(start=16.000000, end=17.000000, pitch=48, velocity=100), Note(start=17.000000, end=18.000000, pitch=49, velocity=100), Note(start=18.000000, end=19.000000, pitch=50, velocity=100), Note(start=19.000000, end=20.000000, pitch=53, velocity=100), Note(start=20.000000, end=21.000000, pitch=51, velocity=100), Note(start=21.000000, end=22.000000, pitch=52, velocity=100), Note(start=22.000000, end=23.000000, pitch=55, velocity=100), Note(start=23.000000, end=24.000000, pitch=57, velocity=100), Note(start=24.000000, end=25.000000, pitch=50, velocity=100), Note(start=25.000000, end=26.000000, pitch=54, velocity=100), Note(start=26.000000, end=27.000000, pitch=59, velocity=100), Note(start=27.000000, end=28.000000, pitch=57, velocity=100), Note(start=28.000000, end=29.000000, pitch=50, velocity=100), Note(start=29.000000, end=30.000000, pitch=59, velocity=100), Note(start=30.000000, end=31.000000, pitch=50, velocity=100), Note(start=31.000000, end=32.000000, pitch=59, velocity=100), Note(start=32.000000, end=33.000000, pitch=50, velocity=100), Note(start=33.000000, end=34.000000, pitch=52, velocity=100), Note(start=34.000000, end=35.000000, pitch=55, velocity=100), Note(start=35.000000, end=36.000000, pitch=56, velocity=100), Note(start=36.000000, end=37.000000, pitch=57, velocity=100), Note(start=37.000000, end=38.000000, pitch=59, velocity=100), Note(start=38.000000, end=39.000000, pitch=53, velocity=100), Note(start=39.000000, end=40.000000, pitch=51, velocity=100), Note(start=40.000000, end=41.000000, pitch=52, velocity=100), Note(start=41.000000, end=42.000000, pitch=50, velocity=100), Note(start=42.000000, end=43.000000, pitch=59, velocity=100), Note(start=43.000000, end=44.000000, pitch=50, velocity=100), Note(start=44.000000, end=45.000000, pitch=49, velocity=100), Note(start=45.000000, end=46.000000, pitch=58, velocity=100), Note(start=46.000000, end=47.000000, pitch=50, velocity=100), Note(start=47.000000, end=48.000000, pitch=48, velocity=100), Note(start=48.000000, end=49.000000, pitch=55, velocity=100), Note(start=49.000000, end=50.000000, pitch=56, velocity=100), Note(start=50.000000, end=51.000000, pitch=50, velocity=100), Note(start=51.000000, end=52.000000, pitch=59, velocity=100), Note(start=52.000000, end=53.000000, pitch=48, velocity=100), Note(start=53.000000, end=54.000000, pitch=50, velocity=100), Note(start=54.000000, end=55.000000, pitch=50, velocity=100), Note(start=55.000000, end=56.000000, pitch=52, velocity=100), Note(start=56.000000, end=57.000000, pitch=48, velocity=100), Note(start=57.000000, end=58.000000, pitch=58, velocity=100), Note(start=58.000000, end=59.000000, pitch=59, velocity=100), Note(start=59.000000, end=60.000000, pitch=48, velocity=100), Note(start=60.000000, end=61.000000, pitch=58, velocity=100), Note(start=61.000000, end=62.000000, pitch=48, velocity=100), Note(start=62.000000, end=63.000000, pitch=59, velocity=100), Note(start=63.000000, end=64.000000, pitch=52, velocity=100), Note(start=64.000000, end=65.000000, pitch=50, velocity=100), Note(start=65.000000, end=66.000000, pitch=59, velocity=100), Note(start=66.000000, end=67.000000, pitch=48, velocity=100), Note(start=67.000000, end=68.000000, pitch=59, velocity=100), Note(start=68.000000, end=69.000000, pitch=57, velocity=100), Note(start=69.000000, end=70.000000, pitch=52, velocity=100), Note(start=70.000000, end=71.000000, pitch=53, velocity=100), Note(start=71.000000, end=72.000000, pitch=55, velocity=100), Note(start=72.000000, end=73.000000, pitch=59, velocity=100), Note(start=73.000000, end=74.000000, pitch=48, velocity=100), Note(start=74.000000, end=75.000000, pitch=59, velocity=100), Note(start=75.000000, end=76.000000, pitch=50, velocity=100), Note(start=76.000000, end=77.000000, pitch=52, velocity=100), Note(start=77.000000, end=78.000000, pitch=52, velocity=100), Note(start=78.000000, end=79.000000, pitch=59, velocity=100), Note(start=79.000000, end=80.000000, pitch=55, velocity=100), Note(start=80.000000, end=81.000000, pitch=50, velocity=100), Note(start=81.000000, end=82.000000, pitch=51, velocity=100), Note(start=82.000000, end=83.000000, pitch=52, velocity=100), Note(start=83.000000, end=84.000000, pitch=54, velocity=100), Note(start=84.000000, end=85.000000, pitch=55, velocity=100), Note(start=85.000000, end=86.000000, pitch=55, velocity=100), Note(start=86.000000, end=87.000000, pitch=53, velocity=100), Note(start=87.000000, end=88.000000, pitch=50, velocity=100), Note(start=88.000000, end=89.000000, pitch=49, velocity=100), Note(start=89.000000, end=90.000000, pitch=50, velocity=100), Note(start=90.000000, end=91.000000, pitch=59, velocity=100), Note(start=91.000000, end=92.000000, pitch=50, velocity=100), Note(start=92.000000, end=93.000000, pitch=52, velocity=100), Note(start=93.000000, end=94.000000, pitch=53, velocity=100), Note(start=94.000000, end=95.000000, pitch=54, velocity=100), Note(start=95.000000, end=96.000000, pitch=50, velocity=100), Note(start=96.000000, end=97.000000, pitch=58, velocity=100), Note(start=97.000000, end=98.000000, pitch=55, velocity=100), Note(start=98.000000, end=99.000000, pitch=50, velocity=100), Note(start=99.000000, end=100.000000, pitch=59, velocity=100), Note(start=100.000000, end=101.000000, pitch=57, velocity=100)]\n"
          ]
        }
      ]
    },
    {
      "cell_type": "code",
      "source": [
        "markov_generation.write('markov_file.mid')"
      ],
      "metadata": {
        "id": "7lUMjzxZ_ZOu"
      },
      "execution_count": 10,
      "outputs": []
    },
    {
      "cell_type": "code",
      "source": [
        "total_velocity = sum(sum(test_data.get_chroma()))\n",
        "relative_velocities = [sum(semitone)/total_velocity for semitone in test_data.get_chroma()]"
      ],
      "metadata": {
        "id": "azwHZeIXBTpw"
      },
      "execution_count": null,
      "outputs": []
    },
    {
      "cell_type": "code",
      "source": [
        "note_onsets = test_data.get_onsets()\n",
        "diffs = np.diff(note_onsets)"
      ],
      "metadata": {
        "id": "GH075g8iIHjw"
      },
      "execution_count": 11,
      "outputs": []
    },
    {
      "cell_type": "code",
      "source": [
        "df = pd.DataFrame(diffs)\n",
        "df.head()"
      ],
      "metadata": {
        "colab": {
          "base_uri": "https://localhost:8080/",
          "height": 206
        },
        "id": "xVPo2r34CLJt",
        "outputId": "8f405ff7-3629-40f4-b715-31358a536d8b"
      },
      "execution_count": 12,
      "outputs": [
        {
          "output_type": "execute_result",
          "data": {
            "text/plain": [
              "          0\n",
              "0  0.119681\n",
              "1  0.339095\n",
              "2  0.093085\n",
              "3  0.334662\n",
              "4  0.562942"
            ],
            "text/html": [
              "\n",
              "  <div id=\"df-40c07b0e-c26f-4ac8-90ae-cf3baf77873d\">\n",
              "    <div class=\"colab-df-container\">\n",
              "      <div>\n",
              "<style scoped>\n",
              "    .dataframe tbody tr th:only-of-type {\n",
              "        vertical-align: middle;\n",
              "    }\n",
              "\n",
              "    .dataframe tbody tr th {\n",
              "        vertical-align: top;\n",
              "    }\n",
              "\n",
              "    .dataframe thead th {\n",
              "        text-align: right;\n",
              "    }\n",
              "</style>\n",
              "<table border=\"1\" class=\"dataframe\">\n",
              "  <thead>\n",
              "    <tr style=\"text-align: right;\">\n",
              "      <th></th>\n",
              "      <th>0</th>\n",
              "    </tr>\n",
              "  </thead>\n",
              "  <tbody>\n",
              "    <tr>\n",
              "      <th>0</th>\n",
              "      <td>0.119681</td>\n",
              "    </tr>\n",
              "    <tr>\n",
              "      <th>1</th>\n",
              "      <td>0.339095</td>\n",
              "    </tr>\n",
              "    <tr>\n",
              "      <th>2</th>\n",
              "      <td>0.093085</td>\n",
              "    </tr>\n",
              "    <tr>\n",
              "      <th>3</th>\n",
              "      <td>0.334662</td>\n",
              "    </tr>\n",
              "    <tr>\n",
              "      <th>4</th>\n",
              "      <td>0.562942</td>\n",
              "    </tr>\n",
              "  </tbody>\n",
              "</table>\n",
              "</div>\n",
              "      <button class=\"colab-df-convert\" onclick=\"convertToInteractive('df-40c07b0e-c26f-4ac8-90ae-cf3baf77873d')\"\n",
              "              title=\"Convert this dataframe to an interactive table.\"\n",
              "              style=\"display:none;\">\n",
              "        \n",
              "  <svg xmlns=\"http://www.w3.org/2000/svg\" height=\"24px\"viewBox=\"0 0 24 24\"\n",
              "       width=\"24px\">\n",
              "    <path d=\"M0 0h24v24H0V0z\" fill=\"none\"/>\n",
              "    <path d=\"M18.56 5.44l.94 2.06.94-2.06 2.06-.94-2.06-.94-.94-2.06-.94 2.06-2.06.94zm-11 1L8.5 8.5l.94-2.06 2.06-.94-2.06-.94L8.5 2.5l-.94 2.06-2.06.94zm10 10l.94 2.06.94-2.06 2.06-.94-2.06-.94-.94-2.06-.94 2.06-2.06.94z\"/><path d=\"M17.41 7.96l-1.37-1.37c-.4-.4-.92-.59-1.43-.59-.52 0-1.04.2-1.43.59L10.3 9.45l-7.72 7.72c-.78.78-.78 2.05 0 2.83L4 21.41c.39.39.9.59 1.41.59.51 0 1.02-.2 1.41-.59l7.78-7.78 2.81-2.81c.8-.78.8-2.07 0-2.86zM5.41 20L4 18.59l7.72-7.72 1.47 1.35L5.41 20z\"/>\n",
              "  </svg>\n",
              "      </button>\n",
              "      \n",
              "  <style>\n",
              "    .colab-df-container {\n",
              "      display:flex;\n",
              "      flex-wrap:wrap;\n",
              "      gap: 12px;\n",
              "    }\n",
              "\n",
              "    .colab-df-convert {\n",
              "      background-color: #E8F0FE;\n",
              "      border: none;\n",
              "      border-radius: 50%;\n",
              "      cursor: pointer;\n",
              "      display: none;\n",
              "      fill: #1967D2;\n",
              "      height: 32px;\n",
              "      padding: 0 0 0 0;\n",
              "      width: 32px;\n",
              "    }\n",
              "\n",
              "    .colab-df-convert:hover {\n",
              "      background-color: #E2EBFA;\n",
              "      box-shadow: 0px 1px 2px rgba(60, 64, 67, 0.3), 0px 1px 3px 1px rgba(60, 64, 67, 0.15);\n",
              "      fill: #174EA6;\n",
              "    }\n",
              "\n",
              "    [theme=dark] .colab-df-convert {\n",
              "      background-color: #3B4455;\n",
              "      fill: #D2E3FC;\n",
              "    }\n",
              "\n",
              "    [theme=dark] .colab-df-convert:hover {\n",
              "      background-color: #434B5C;\n",
              "      box-shadow: 0px 1px 3px 1px rgba(0, 0, 0, 0.15);\n",
              "      filter: drop-shadow(0px 1px 2px rgba(0, 0, 0, 0.3));\n",
              "      fill: #FFFFFF;\n",
              "    }\n",
              "  </style>\n",
              "\n",
              "      <script>\n",
              "        const buttonEl =\n",
              "          document.querySelector('#df-40c07b0e-c26f-4ac8-90ae-cf3baf77873d button.colab-df-convert');\n",
              "        buttonEl.style.display =\n",
              "          google.colab.kernel.accessAllowed ? 'block' : 'none';\n",
              "\n",
              "        async function convertToInteractive(key) {\n",
              "          const element = document.querySelector('#df-40c07b0e-c26f-4ac8-90ae-cf3baf77873d');\n",
              "          const dataTable =\n",
              "            await google.colab.kernel.invokeFunction('convertToInteractive',\n",
              "                                                     [key], {});\n",
              "          if (!dataTable) return;\n",
              "\n",
              "          const docLinkHtml = 'Like what you see? Visit the ' +\n",
              "            '<a target=\"_blank\" href=https://colab.research.google.com/notebooks/data_table.ipynb>data table notebook</a>'\n",
              "            + ' to learn more about interactive tables.';\n",
              "          element.innerHTML = '';\n",
              "          dataTable['output_type'] = 'display_data';\n",
              "          await google.colab.output.renderOutput(dataTable, element);\n",
              "          const docLink = document.createElement('div');\n",
              "          docLink.innerHTML = docLinkHtml;\n",
              "          element.appendChild(docLink);\n",
              "        }\n",
              "      </script>\n",
              "    </div>\n",
              "  </div>\n",
              "  "
            ]
          },
          "metadata": {},
          "execution_count": 12
        }
      ]
    },
    {
      "cell_type": "code",
      "source": [
        "for i in range(1, 20):\n",
        "  print(df[0].autocorr(lag=i))"
      ],
      "metadata": {
        "id": "SPHBd5qwB7Ub",
        "colab": {
          "base_uri": "https://localhost:8080/"
        },
        "outputId": "9415110e-64bc-4e7a-bbdb-918cf57720d9"
      },
      "execution_count": 13,
      "outputs": [
        {
          "output_type": "stream",
          "name": "stdout",
          "text": [
            "-0.10715865506458105\n",
            "-0.009365891233449719\n",
            "-0.029572998655734026\n",
            "0.006918118671287464\n",
            "-0.011372083819947925\n",
            "-0.07414209123533516\n",
            "0.00015655590516185382\n",
            "-0.010029621020523101\n",
            "-0.022774914803371536\n",
            "-0.01268020981272752\n",
            "0.04105423018370424\n",
            "-0.05573869157264071\n",
            "0.07558720595490699\n",
            "-0.028875628754764376\n",
            "-0.020163301584180525\n",
            "-0.04321019764270097\n",
            "-0.006882774503549483\n",
            "0.019852556638214093\n",
            "0.027637428152013116\n"
          ]
        }
      ]
    },
    {
      "cell_type": "code",
      "source": [
        "instrument = test_data.instruments[0]\n",
        "notes_array = instrument.notes\n",
        "print(notes_array)"
      ],
      "metadata": {
        "colab": {
          "base_uri": "https://localhost:8080/"
        },
        "id": "hrJANqDiEiq6",
        "outputId": "58ceb5db-81cc-4c6a-ddde-ed902954471e"
      },
      "execution_count": 14,
      "outputs": [
        {
          "output_type": "stream",
          "name": "stdout",
          "text": [
            "[Note(start=9.310707, end=9.410441, pitch=59, velocity=97), Note(start=9.430388, end=9.767266, pitch=60, velocity=104), Note(start=9.769483, end=9.858135, pitch=59, velocity=102), Note(start=9.862567, end=10.177283, pitch=60, velocity=108), Note(start=10.197230, end=10.567353, pitch=59, velocity=97), Note(start=10.760172, end=11.021696, pitch=60, velocity=108), Note(start=11.037210, end=11.112565, pitch=59, velocity=98), Note(start=11.125863, end=11.447227, pitch=60, velocity=102), Note(start=11.500419, end=11.784106, pitch=59, velocity=95), Note(start=12.872313, end=13.277897, pitch=59, velocity=105), Note(start=13.293411, end=13.610343, pitch=60, velocity=105), Note(start=13.634722, end=13.991548, pitch=59, velocity=101), Note(start=14.031441, end=14.374969, pitch=61, velocity=111), Note(start=14.423728, end=14.818231, pitch=64, velocity=109), Note(start=14.853691, end=15.179489, pitch=62, velocity=109), Note(start=15.308034, end=15.452094, pitch=59, velocity=101), Note(start=15.769026, end=15.902005, pitch=57, velocity=105), Note(start=15.933033, end=16.280993, pitch=52, velocity=101), Note(start=17.045619, end=17.211842, pitch=57, velocity=103), Note(start=17.211842, end=17.460069, pitch=59, velocity=98), Note(start=17.497746, end=17.723809, pitch=62, velocity=109), Note(start=17.960954, end=18.266805, pitch=53, velocity=89), Note(start=18.778772, end=18.944995, pitch=57, velocity=102), Note(start=18.962725, end=19.164409, pitch=59, velocity=105), Note(start=19.186572, end=19.390472, pitch=62, velocity=111), Note(start=19.665295, end=19.758380, pitch=52, velocity=104), Note(start=19.789408, end=20.053148, pitch=55, velocity=109), Note(start=20.208290, end=20.580630, pitch=54, velocity=95), Note(start=21.722028, end=21.888251, pitch=55, velocity=118), Note(start=21.899332, end=22.180803, pitch=56, velocity=112), Note(start=22.207399, end=22.293835, pitch=59, velocity=103), Note(start=22.318214, end=22.579739, pitch=65, velocity=113), Note(start=22.601902, end=22.697203, pitch=63, velocity=106), Note(start=22.723799, end=23.003053, pitch=64, velocity=118), Note(start=23.038514, end=23.182574, pitch=60, velocity=111), Note(start=23.206954, end=23.251280, pitch=59, velocity=100), Note(start=23.260145, end=23.351014, pitch=60, velocity=99), Note(start=23.370960, end=23.468478, pitch=59, velocity=97), Note(start=23.488425, end=23.601456, pitch=57, velocity=99), Note(start=23.632485, end=23.889576, pitch=59, velocity=92), Note(start=23.933902, end=24.437004, pitch=52, velocity=90), Note(start=24.496844, end=24.760585, pitch=54, velocity=103), Note(start=24.891347, end=25.186116, pitch=59, velocity=94), Note(start=25.217144, end=25.684785, pitch=57, velocity=90), Note(start=26.476007, end=26.637797, pitch=55, velocity=105), Note(start=26.651095, end=26.923701, pitch=56, velocity=114), Note(start=26.939215, end=27.043382, pitch=59, velocity=105), Note(start=27.065545, end=27.382477, pitch=62, velocity=115), Note(start=27.508806, end=27.743735, pitch=65, velocity=109), Note(start=27.763681, end=27.850117, pitch=63, velocity=103), Note(start=27.863415, end=28.264567, pitch=64, velocity=105), Note(start=29.104547, end=29.233093, pitch=62, velocity=113), Note(start=29.259689, end=29.470238, pitch=63, velocity=114), Note(start=29.507915, end=29.603216, pitch=61, velocity=104), Note(start=29.616514, end=30.048694, pitch=62, velocity=95), Note(start=30.095237, end=30.367843, pitch=61, velocity=101), Note(start=30.378924, end=30.494172, pitch=59, velocity=91), Note(start=30.511902, end=30.886458, pitch=60, velocity=90), Note(start=30.961813, end=31.232202, pitch=59, velocity=94), Note(start=31.400642, end=31.653301, pitch=58, velocity=94), Note(start=32.081048, end=32.196296, pitch=56, velocity=106), Note(start=32.211810, end=32.466686, pitch=57, velocity=101), Note(start=32.488849, end=32.641774, pitch=54, velocity=99), Note(start=32.663937, end=32.929894, pitch=50, velocity=89), Note(start=33.131578, end=33.213581, pitch=56, velocity=99), Note(start=33.213581, end=33.754360, pitch=57, velocity=91), Note(start=33.800903, end=33.867392, pitch=54, velocity=99), Note(start=33.891771, end=34.042480, pitch=55, velocity=99), Note(start=34.077941, end=34.195405, pitch=53, velocity=80), Note(start=34.224217, end=34.337249, pitch=52, velocity=95), Note(start=35.948504, end=36.063752, pitch=55, velocity=107), Note(start=36.130241, end=36.376252, pitch=56, velocity=104), Note(start=36.398415, end=36.524744, pitch=59, velocity=108), Note(start=36.535826, end=36.788485, pitch=62, velocity=107), Note(start=38.053996, end=38.193624, pitch=55, velocity=105), Note(start=38.229084, end=38.437417, pitch=59, velocity=100), Note(start=38.464013, end=38.643534, pitch=60, velocity=120), Note(start=38.663481, end=38.980413, pitch=61, velocity=103), Note(start=39.064632, end=39.359401, pitch=64, velocity=114), Note(start=39.370483, end=39.461351, pitch=61, velocity=97), Note(start=39.472433, end=39.756120, pitch=62, velocity=99), Note(start=39.780500, end=39.917911, pitch=64, velocity=106), Note(start=39.955588, end=40.199382, pitch=65, velocity=103), Note(start=41.088121, end=41.229965, pitch=62, velocity=102), Note(start=41.249911, end=41.491489, pitch=63, velocity=106), Note(start=41.515868, end=41.728634, pitch=64, velocity=110), Note(start=41.784041, end=41.923669, pitch=59, velocity=94), Note(start=41.961346, end=42.154165, pitch=54, velocity=94), Note(start=42.220654, end=42.411256, pitch=57, velocity=99), Note(start=42.435636, end=42.655050, pitch=56, velocity=97), Note(start=42.712674, end=42.854518, pitch=52, velocity=91), Note(start=42.971982, end=43.102744, pitch=56, velocity=89), Note(start=43.120475, end=43.295563, pitch=60, velocity=89), Note(start=43.353187, end=43.550438, pitch=60, velocity=98), Note(start=43.780934, end=44.031377, pitch=52, velocity=96), Note(start=44.053540, end=44.397068, pitch=54, velocity=86), Note(start=45.356729, end=45.613820, pitch=56, velocity=94), Note(start=45.616037, end=46.690946, pitch=59, velocity=87), Note(start=46.746353, end=46.981282, pitch=62, velocity=97), Note(start=47.123126, end=47.402380, pitch=60, velocity=103), Note(start=47.475518, end=47.983053, pitch=51, velocity=91), Note(start=49.598741, end=49.656365, pitch=51, velocity=98), Note(start=49.667446, end=49.733936, pitch=50, velocity=100), Note(start=49.778262, end=50.024272, pitch=49, velocity=98), Note(start=50.039786, end=50.172764, pitch=50, velocity=99), Note(start=50.199360, end=50.418775, pitch=62, velocity=102), Note(start=50.463101, end=50.591647, pitch=59, velocity=95), Note(start=50.611593, end=50.979500, pitch=59, velocity=89), Note(start=51.026043, end=51.243241, pitch=57, velocity=99), Note(start=51.267620, end=51.402815, pitch=52, velocity=97), Note(start=51.436060, end=51.593417, pitch=52, velocity=110), Note(start=52.592972, end=52.708220, pitch=50, velocity=103), Note(start=52.761411, end=53.005205, pitch=54, velocity=106), Note(start=53.027368, end=53.129318, pitch=55, velocity=108), Note(start=53.164779, end=53.421871, pitch=57, velocity=100), Note(start=53.437385, end=53.541552, pitch=59, velocity=101), Note(start=53.577012, end=53.856267, pitch=55, velocity=105), Note(start=54.680734, end=54.846957, pitch=55, velocity=118), Note(start=54.880201, end=55.123995, pitch=56, velocity=112), Note(start=55.148374, end=55.234810, pitch=54, velocity=98), Note(start=55.281353, end=55.531796, pitch=59, velocity=102), Note(start=55.717965, end=55.979490, pitch=65, velocity=101), Note(start=55.995004, end=56.252095, pitch=64, velocity=115), Note(start=56.405021, end=57.003424, pitch=67, velocity=91), Note(start=57.355816, end=57.679397, pitch=58, velocity=101), Note(start=57.701560, end=57.801294, pitch=55, velocity=98), Note(start=57.814592, end=58.195797, pitch=57, velocity=90), Note(start=58.960423, end=59.080103, pitch=55, velocity=114), Note(start=59.108915, end=59.346060, pitch=59, velocity=108), Note(start=59.363791, end=59.525581, pitch=60, velocity=122), Note(start=59.543312, end=59.758294, pitch=61, velocity=9), Note(start=59.778240, end=59.909002, pitch=62, velocity=109), Note(start=59.924517, end=60.217069, pitch=61, velocity=108), Note(start=60.230367, end=60.347831, pitch=58, velocity=103), Note(start=60.392157, end=60.556164, pitch=61, velocity=107), Note(start=60.584976, end=60.733469, pitch=60, velocity=98), Note(start=60.775579, end=61.083645, pitch=55, velocity=109), Note(start=61.223273, end=61.546853, pitch=55, velocity=96), Note(start=63.169190, end=63.787540, pitch=54, velocity=101), Note(start=63.836299, end=64.002522, pitch=59, velocity=103), Note(start=64.057930, end=64.213071, pitch=62, velocity=116), Note(start=64.443567, end=64.627521, pitch=62, velocity=103), Note(start=64.718389, end=64.813690, pitch=59, velocity=86), Note(start=64.862449, end=64.986562, pitch=62, velocity=115), Note(start=65.081864, end=65.223707, pitch=59, velocity=81), Note(start=65.259168, end=65.425391, pitch=62, velocity=106), Note(start=65.456420, end=65.655887, pitch=59, velocity=88), Note(start=65.686916, end=65.833192, pitch=62, velocity=105), Note(start=65.857571, end=66.223262, pitch=59, velocity=87), Note(start=66.243209, end=66.591169, pitch=62, velocity=95), Note(start=67.639482, end=67.697106, pitch=58, velocity=100), Note(start=67.699323, end=67.783542, pitch=60, velocity=97), Note(start=67.790191, end=67.858897, pitch=59, velocity=95), Note(start=67.883276, end=67.956414, pitch=57, velocity=92), Note(start=68.002957, end=68.224587, pitch=64, velocity=112), Note(start=68.246750, end=68.344268, pitch=60, velocity=93), Note(start=68.357566, end=68.424055, pitch=59, velocity=93), Note(start=68.437353, end=68.483895, pitch=57, velocity=96), Note(start=68.568115, end=68.732122, pitch=63, velocity=102), Note(start=68.849586, end=68.929373, pitch=60, velocity=97), Note(start=68.936022, end=69.015809, pitch=59, velocity=94), Note(start=69.033540, end=69.119976, pitch=57, velocity=95), Note(start=69.126624, end=69.250738, pitch=62, velocity=99), Note(start=69.277333, end=69.693999, pitch=59, velocity=89), Note(start=70.764476, end=70.992755, pitch=58, velocity=96), Note(start=71.008269, end=71.127950, pitch=59, velocity=100), Note(start=71.170060, end=71.486992, pitch=62, velocity=112), Note(start=71.573428, end=71.715271, pitch=65, velocity=107), Note(start=71.741867, end=72.001175, pitch=66, velocity=107), Note(start=72.027771, end=72.116423, pitch=62, velocity=98), Note(start=72.180696, end=72.366866, pitch=64, velocity=112), Note(start=72.391245, end=72.570766, pitch=65, velocity=98), Note(start=72.577415, end=72.865535, pitch=62, velocity=104), Note(start=72.885482, end=73.142573, pitch=62, velocity=104), Note(start=73.299931, end=73.514913, pitch=64, velocity=108), Note(start=73.523778, end=73.674487, pitch=65, velocity=96), Note(start=73.694434, end=73.842926, pitch=62, velocity=98), Note(start=73.887252, end=74.102234, pitch=64, velocity=107), Note(start=74.144344, end=74.237429, pitch=60, velocity=100), Note(start=74.259592, end=74.569875, pitch=55, velocity=96), Note(start=74.611985, end=74.713935, pitch=50, velocity=84), Note(start=74.742747, end=75.064112, pitch=54, velocity=92), Note(start=75.999393, end=76.283081, pitch=69, velocity=103), Note(start=76.294162, end=76.424924, pitch=67, velocity=91), Note(start=76.436006, end=76.939108, pitch=68, velocity=86), Note(start=78.330949, end=78.399654, pitch=63, velocity=91), Note(start=78.408519, end=78.488306, pitch=64, velocity=112), Note(start=78.501604, end=78.596905, pitch=65, velocity=108), Note(start=78.605771, end=78.743182, pitch=69, velocity=94), Note(start=78.975894, end=79.332720, pitch=69, velocity=89), Note(start=79.374829, end=79.507808, pitch=65, velocity=97), Note(start=79.543269, end=79.744953, pitch=57, velocity=88), Note(start=79.773765, end=80.205945, pitch=57, velocity=82), Note(start=80.649206, end=80.777752, pitch=58, velocity=89), Note(start=80.788833, end=80.941759, pitch=60, velocity=89), Note(start=80.963922, end=81.085819, pitch=64, velocity=102), Note(start=81.112414, end=81.467023, pitch=64, velocity=90), Note(start=81.493619, end=81.588920, pitch=60, velocity=91), Note(start=81.668707, end=81.850445, pitch=52, velocity=87), Note(start=81.894771, end=82.318085, pitch=52, velocity=89), Note(start=83.506026, end=83.667817, pitch=55, velocity=101), Note(start=83.678898, end=83.891664, pitch=59, velocity=101), Note(start=83.916043, end=84.328276, pitch=62, velocity=93), Note(start=84.343790, end=84.408063, pitch=59, velocity=101), Note(start=84.416928, end=84.467904, pitch=58, velocity=103), Note(start=84.478985, end=84.782619, pitch=52, velocity=96), Note(start=84.793701, end=84.882353, pitch=53, velocity=94), Note(start=84.902300, end=85.303451, pitch=54, velocity=91), Note(start=86.076943, end=86.407172, pitch=55, velocity=97), Note(start=86.418254, end=86.604424, pitch=59, velocity=103), Note(start=86.615505, end=86.881462, pitch=62, velocity=106), Note(start=86.914707, end=87.080930, pitch=64, velocity=117), Note(start=87.092011, end=87.158501, pitch=62, velocity=97), Note(start=87.165149, end=87.222773, pitch=64, velocity=102), Note(start=87.227206, end=87.320291, pitch=62, velocity=101), Note(start=87.340238, end=87.428890, pitch=59, velocity=94), Note(start=87.431106, end=87.761336, pitch=57, velocity=97), Note(start=87.783499, end=87.849988, pitch=55, velocity=102), Note(start=87.896531, end=88.151406, pitch=62, velocity=97), Note(start=88.182435, end=88.286601, pitch=58, velocity=99), Note(start=88.297683, end=88.532611, pitch=59, velocity=91), Note(start=90.225870, end=90.502908, pitch=55, velocity=96), Note(start=90.545018, end=90.673564, pitch=59, velocity=100), Note(start=90.673564, end=90.992712, pitch=62, velocity=113), Note(start=91.032606, end=91.165584, pitch=64, velocity=114), Note(start=91.181098, end=91.396080, pitch=65, velocity=116), Note(start=91.489165, end=91.746257, pitch=62, velocity=100), Note(start=91.850423, end=91.959022, pitch=64, velocity=113), Note(start=91.965671, end=92.120813, pitch=65, velocity=102), Note(start=92.147408, end=92.335794, pitch=62, velocity=99), Note(start=92.391202, end=92.626131, pitch=65, velocity=102), Note(start=92.701485, end=92.907602, pitch=65, velocity=102), Note(start=92.967442, end=93.158044, pitch=62, velocity=99), Note(start=93.186856, end=93.541466, pitch=64, velocity=104), Note(start=94.591995, end=94.897846, pitch=55, velocity=97), Note(start=94.913360, end=95.010877, pitch=56, velocity=98), Note(start=95.039689, end=95.303430, pitch=59, velocity=94), Note(start=95.347756, end=95.427543, pitch=62, velocity=99), Note(start=95.443057, end=95.737826, pitch=65, velocity=105), Note(start=95.771071, end=95.844209, pitch=62, velocity=102), Note(start=95.864156, end=96.158924, pitch=64, velocity=112), Note(start=96.178871, end=96.294119, pitch=59, velocity=98), Note(start=96.325148, end=96.582239, pitch=54, velocity=98), Note(start=96.593321, end=96.704136, pitch=55, velocity=99), Note(start=96.728515, end=96.994472, pitch=56, velocity=97), Note(start=98.053867, end=98.118140, pitch=59, velocity=105), Note(start=98.129222, end=98.716543, pitch=60, velocity=97), Note(start=98.743139, end=98.796330, pitch=58, velocity=110), Note(start=98.809628, end=98.865036, pitch=55, velocity=109), Note(start=98.904929, end=99.146507, pitch=52, velocity=99), Note(start=99.184184, end=99.527712, pitch=51, velocity=95), Note(start=99.565389, end=99.711665, pitch=51, velocity=97), Note(start=99.762640, end=100.423100, pitch=60, velocity=92), Note(start=100.447479, end=100.494022, pitch=57, velocity=108), Note(start=100.505103, end=100.558294, pitch=56, velocity=113), Note(start=100.578241, end=100.963879, pitch=50, velocity=92), Note(start=101.003772, end=101.384977, pitch=59, velocity=101), Note(start=101.458115, end=101.724072, pitch=57, velocity=101), Note(start=102.559620, end=102.657137, pitch=53, velocity=99), Note(start=102.674868, end=102.965204, pitch=55, velocity=106), Note(start=102.985151, end=103.060505, pitch=53, velocity=100), Note(start=103.076020, end=103.357491, pitch=54, velocity=108), Note(start=104.744899, end=105.108373, pitch=55, velocity=110), Note(start=105.141618, end=105.347734, pitch=58, velocity=109), Note(start=105.356600, end=105.502876, pitch=59, velocity=101), Note(start=105.522823, end=105.600394, pitch=62, velocity=110), Note(start=105.620340, end=105.948354, pitch=64, velocity=119), Note(start=106.063602, end=106.752873, pitch=67, velocity=88), Note(start=106.772820, end=106.919096, pitch=70, velocity=103), Note(start=106.932394, end=107.049858, pitch=71, velocity=106), Note(start=108.237799, end=108.497107, pitch=69, velocity=117), Note(start=108.521487, end=108.756415, pitch=70, velocity=100), Note(start=108.860582, end=109.006858, pitch=69, velocity=105), Note(start=109.126538, end=109.193028, pitch=67, velocity=103), Note(start=109.204109, end=109.321573, pitch=69, velocity=100), Note(start=109.330439, end=109.381414, pitch=67, velocity=100), Note(start=109.385846, end=109.432389, pitch=65, velocity=101), Note(start=109.436821, end=109.704995, pitch=64, velocity=105), Note(start=110.134958, end=110.358805, pitch=58, velocity=102), Note(start=110.549408, end=110.702333, pitch=59, velocity=99), Note(start=110.733361, end=110.977155, pitch=62, velocity=109), Note(start=110.997102, end=111.189921, pitch=60, velocity=108), Note(start=111.285222, end=111.438147, pitch=52, velocity=101), Note(start=112.242666, end=112.349049, pitch=64, velocity=117), Note(start=112.360131, end=112.628304, pitch=66, velocity=102), Note(start=112.661549, end=112.814474, pitch=64, velocity=112), Note(start=112.838853, end=113.226707, pitch=62, velocity=101), Note(start=113.452770, end=113.638940, pitch=60, velocity=102), Note(start=113.663319, end=113.907113, pitch=59, velocity=91), Note(start=113.922627, end=114.026794, pitch=52, velocity=98), Note(start=114.051173, end=114.321563, pitch=54, velocity=98), Note(start=114.345942, end=114.538761, pitch=55, velocity=104), Note(start=117.005511, end=117.063135, pitch=66, velocity=113), Note(start=117.072000, end=117.335741, pitch=67, velocity=105), Note(start=117.386716, end=117.719162, pitch=67, velocity=101), Note(start=117.761272, end=118.122530, pitch=67, velocity=100), Note(start=118.146909, end=118.226696, pitch=62, velocity=110), Note(start=118.237778, end=118.317565, pitch=60, velocity=100), Note(start=118.364107, end=118.583522, pitch=58, velocity=89), Note(start=118.732014, end=119.020134, pitch=59, velocity=94), Note(start=119.529885, end=119.780328, pitch=67, velocity=107), Note(start=119.802491, end=119.862331, pitch=62, velocity=118), Note(start=119.873412, end=119.957632, pitch=60, velocity=121), Note(start=119.970930, end=120.112774, pitch=58, velocity=98), Note(start=120.194777, end=120.310025, pitch=59, velocity=113), Note(start=120.332188, end=120.529439, pitch=59, velocity=105), Note(start=120.611443, end=121.041406, pitch=67, velocity=103), Note(start=121.065786, end=121.433693, pitch=67, velocity=104), Note(start=121.458072, end=121.595483, pitch=62, velocity=110), Note(start=121.635377, end=121.892468, pitch=58, velocity=93), Note(start=121.985553, end=122.220482, pitch=59, velocity=100), Note(start=123.102572, end=123.233334, pitch=59, velocity=95), Note(start=123.262146, end=123.437235, pitch=60, velocity=117), Note(start=123.508156, end=123.669947, pitch=61, velocity=114), Note(start=123.791844, end=123.973581, pitch=60, velocity=114), Note(start=124.073315, end=124.261701, pitch=61, velocity=109), Note(start=124.419059, end=124.922160, pitch=62, velocity=110), Note(start=124.955405, end=125.141575, pitch=59, velocity=98), Note(start=126.263026, end=126.314001, pitch=53, velocity=102), Note(start=126.329516, end=126.384923, pitch=55, velocity=106), Note(start=126.407086, end=126.471359, pitch=53, velocity=102), Note(start=126.493522, end=126.560012, pitch=50, velocity=97), Note(start=126.584391, end=126.865862, pitch=56, velocity=109), Note(start=126.885809, end=126.994408, pitch=53, velocity=98), Note(start=127.045383, end=127.278095, pitch=59, velocity=101), Note(start=127.300258, end=127.419939, pitch=56, velocity=103), Note(start=127.446535, end=127.705842, pitch=62, velocity=108), Note(start=127.761250, end=127.836605, pitch=59, velocity=101), Note(start=127.856551, end=128.118076, pitch=60, velocity=108), Note(start=128.138022, end=128.284299, pitch=62, velocity=110), Note(start=128.313111, end=128.364086, pitch=59, velocity=96), Note(start=128.372951, end=128.483766, pitch=60, velocity=98), Note(start=128.494848, end=128.554688, pitch=59, velocity=99), Note(start=128.576851, end=128.638908, pitch=57, velocity=102), Note(start=128.685450, end=128.949191, pitch=52, velocity=103), Note(start=128.949191, end=129.110981, pitch=55, velocity=108), Note(start=129.124279, end=129.325963, pitch=54, velocity=103), Note(start=129.924366, end=130.219135, pitch=59, velocity=105), Note(start=130.245731, end=130.345464, pitch=55, velocity=108), Note(start=130.349897, end=130.598123, pitch=56, velocity=117), Note(start=130.631368, end=130.744400, pitch=53, velocity=111), Note(start=130.797591, end=131.065764, pitch=62, velocity=114), Note(start=131.081278, end=131.154417, pitch=63, velocity=113), Note(start=131.183229, end=131.460267, pitch=64, velocity=117), Note(start=131.477997, end=131.610976, pitch=60, velocity=116), Note(start=131.648653, end=131.896880, pitch=59, velocity=98), Note(start=131.938989, end=132.036507, pitch=57, velocity=97), Note(start=132.065319, end=132.404414, pitch=59, velocity=94), Note(start=134.778079, end=134.853433, pitch=67, velocity=124), Note(start=134.860082, end=135.017440, pitch=69, velocity=117), Note(start=135.121607, end=135.250152, pitch=67, velocity=122), Note(start=135.250152, end=135.372049, pitch=69, velocity=108), Note(start=135.434106, end=135.578166, pitch=71, velocity=105), Note(start=135.604762, end=135.677900, pitch=72, velocity=102), Note(start=135.684549, end=135.728875, pitch=71, velocity=99), Note(start=135.735524, end=135.782066, pitch=69, velocity=105), Note(start=135.864070, end=136.025860, pitch=71, velocity=101), Note(start=136.083484, end=136.147757, pitch=66, velocity=114), Note(start=136.172136, end=136.245274, pitch=64, velocity=116), Note(start=136.271870, end=136.342792, pitch=62, velocity=104), Note(start=136.382686, end=136.573288, pitch=64, velocity=111), Note(start=136.628696, end=136.715132, pitch=60, velocity=100), Note(start=136.726213, end=136.790486, pitch=59, velocity=102), Note(start=136.812649, end=136.912383, pitch=57, velocity=101), Note(start=136.919032, end=137.333481, pitch=59, velocity=91), Note(start=138.182327, end=138.304224, pitch=53, velocity=105), Note(start=138.321954, end=138.643319, pitch=54, velocity=111), Note(start=138.654400, end=138.725322, pitch=57, velocity=102), Note(start=138.731971, end=139.126474, pitch=62, velocity=106), Note(start=139.155286, end=139.228424, pitch=56, velocity=101), Note(start=139.897749, end=139.997483, pitch=54, velocity=110), Note(start=140.017429, end=140.396418, pitch=58, velocity=100), Note(start=140.429663, end=140.717783, pitch=62, velocity=119), Note(start=140.744378, end=140.879573, pitch=64, velocity=117), Note(start=140.899520, end=140.961576, pitch=62, velocity=114), Note(start=140.963793, end=141.039147, pitch=64, velocity=113), Note(start=141.059094, end=141.138881, pitch=62, velocity=111), Note(start=141.176558, end=141.256345, pitch=59, velocity=104), Note(start=141.280725, end=141.568845, pitch=57, velocity=105), Note(start=141.610954, end=141.695174, pitch=54, velocity=102), Note(start=141.710688, end=141.954482, pitch=55, velocity=111), Note(start=141.978861, end=142.091893, pitch=62, velocity=112), Note(start=142.134003, end=142.579481, pitch=59, velocity=95), Note(start=144.071055, end=144.352527, pitch=56, velocity=111), Note(start=144.363608, end=144.627349, pitch=59, velocity=108), Note(start=144.696054, end=144.975309, pitch=62, velocity=120), Note(start=145.066177, end=145.363163, pitch=67, velocity=111), Note(start=145.396407, end=145.923888, pitch=67, velocity=103), Note(start=145.977080, end=146.236388, pitch=64, velocity=118), Note(start=146.395962, end=146.726192, pitch=67, velocity=113), Note(start=147.269187, end=147.517413, pitch=62, velocity=117), Note(start=147.548442, end=147.630445, pitch=64, velocity=102), Note(start=147.657041, end=147.934079, pitch=65, velocity=109), Note(start=147.978405, end=148.364043, pitch=65, velocity=108), Note(start=148.379557, end=148.470425, pitch=62, velocity=103), Note(start=148.497021, end=148.878226, pitch=65, velocity=104), Note(start=148.911471, end=149.294892, pitch=64, velocity=104), Note(start=150.006326, end=150.203578, pitch=55, velocity=109), Note(start=150.227957, end=150.478400, pitch=56, velocity=111), Note(start=150.518293, end=150.593648, pitch=59, velocity=103), Note(start=150.620244, end=150.850740, pitch=65, velocity=112), Note(start=150.875119, end=150.981502, pitch=63, velocity=109), Note(start=151.019179, end=151.265189, pitch=64, velocity=113), Note(start=151.333894, end=151.513415, pitch=59, velocity=104), Note(start=151.577688, end=151.666341, pitch=58, velocity=104), Note(start=151.666341, end=151.735046, pitch=59, velocity=101), Note(start=151.752777, end=151.823698, pitch=58, velocity=97), Note(start=151.890188, end=152.165010, pitch=64, velocity=115), Note(start=152.787792, end=152.971746, pitch=59, velocity=101), Note(start=153.129103, end=153.282029, pitch=62, velocity=125), Note(start=153.293110, end=153.465982, pitch=63, velocity=118), Note(start=153.501443, end=153.565716, pitch=60, velocity=106), Note(start=153.590095, end=153.649936, pitch=59, velocity=102), Note(start=153.665450, end=153.714209, pitch=57, velocity=103), Note(start=153.734155, end=153.798428, pitch=55, velocity=101), Note(start=153.816159, end=154.013410, pitch=62, velocity=108), Note(start=154.645058, end=154.742575, pitch=63, velocity=113), Note(start=154.775820, end=155.059507, pitch=64, velocity=111), Note(start=155.075021, end=155.174755, pitch=62, velocity=96), Note(start=155.232379, end=155.471740, pitch=57, velocity=102), Note(start=155.493903, end=155.604719, pitch=56, velocity=105), Note(start=155.626882, end=156.036899, pitch=57, velocity=98), Note(start=156.293990, end=156.413671, pitch=54, velocity=111), Note(start=156.451348, end=156.814822, pitch=55, velocity=104), Note(start=156.876879, end=157.231488, pitch=55, velocity=106), Note(start=157.262516, end=157.442037, pitch=50, velocity=106), Note(start=158.428294, end=158.700900, pitch=56, velocity=105), Note(start=158.734145, end=158.964640, pitch=59, velocity=110), Note(start=159.022264, end=159.330331, pitch=62, velocity=120), Note(start=159.458877, end=159.680508, pitch=67, velocity=111), Note(start=159.731483, end=160.232368, pitch=67, velocity=101), Note(start=160.263397, end=160.398591, pitch=69, velocity=110), Note(start=160.414105, end=160.555949, pitch=71, velocity=114), Note(start=161.792649, end=161.861354, pitch=60, velocity=93), Note(start=161.899031, end=163.625535, pitch=72, velocity=90), Note(start=163.658779, end=163.891492, pitch=71, velocity=98), Note(start=163.935818, end=164.104257, pitch=67, velocity=103), Note(start=164.259399, end=164.456650, pitch=72, velocity=100), Note(start=164.520923, end=164.704876, pitch=71, velocity=99), Note(start=164.755851, end=165.108244, pitch=67, velocity=109), Note(start=166.036877, end=166.176504, pitch=55, velocity=105), Note(start=166.214182, end=166.395919, pitch=59, velocity=109), Note(start=166.473490, end=166.692904, pitch=62, velocity=127), Note(start=166.887939, end=166.976591, pitch=64, velocity=113), Note(start=166.987673, end=167.171626, pitch=67, velocity=111), Note(start=167.198222, end=167.705756, pitch=67, velocity=102), Note(start=167.807707, end=168.064798, pitch=58, velocity=107), Note(start=168.106908, end=168.279780, pitch=55, velocity=110), Note(start=168.315241, end=168.523574, pitch=58, velocity=103), Note(start=168.559035, end=168.705311, pitch=59, velocity=99), Note(start=168.720825, end=169.035541, pitch=59, velocity=104)]\n"
          ]
        }
      ]
    },
    {
      "cell_type": "markdown",
      "source": [
        "### Pitch Differences"
      ],
      "metadata": {
        "id": "RPdrp_A1PJMN"
      }
    },
    {
      "cell_type": "code",
      "source": [
        "pitches = np.array([])\n",
        "for note in notes_array:\n",
        "  pitches = np.append(pitches, note.pitch)\n",
        "pitch_diff = np.diff(pitches)"
      ],
      "metadata": {
        "id": "1frjFLeFH-Zn"
      },
      "execution_count": 15,
      "outputs": []
    },
    {
      "cell_type": "code",
      "source": [
        "df['pitch_differences'] = pd.Series(pitch_diff)\n",
        "df['abs_pitch_differences'] = pd.Series(abs(pitch_diff))\n",
        "\n",
        "pitch_diff_autocorr = np.array([])\n",
        "\n",
        "for i in range(1, 15):\n",
        "  print(df['pitch_differences'].autocorr(lag=i))\n",
        "  np.append(pitch_diff_autocorr, df['pitch_differences'].autocorr(lag=i))"
      ],
      "metadata": {
        "colab": {
          "base_uri": "https://localhost:8080/"
        },
        "id": "LGHH0bt_L8Ij",
        "outputId": "0ac36fe3-ce38-4093-a7bd-a28a5dd88f69"
      },
      "execution_count": 16,
      "outputs": [
        {
          "output_type": "stream",
          "name": "stdout",
          "text": [
            "-0.11743683657315508\n",
            "-0.08221977930119176\n",
            "-0.17463369167872905\n",
            "-0.08201901021648934\n",
            "-0.06027271152641812\n",
            "0.024730635033375914\n",
            "0.12049532250018831\n",
            "0.04660158582486218\n",
            "-0.038033149656083176\n",
            "-0.12926461937586606\n",
            "0.005062574143961646\n",
            "-0.08358514200545225\n",
            "0.08281810434995666\n",
            "0.0005361159198904945\n"
          ]
        }
      ]
    },
    {
      "cell_type": "code",
      "source": [
        "pd.plotting.autocorrelation_plot(df['pitch_differences'])"
      ],
      "metadata": {
        "colab": {
          "base_uri": "https://localhost:8080/",
          "height": 301
        },
        "id": "Qyi0fg628yZc",
        "outputId": "baa47bf9-9672-4d09-fa47-5c91433b150e"
      },
      "execution_count": 17,
      "outputs": [
        {
          "output_type": "execute_result",
          "data": {
            "text/plain": [
              "<matplotlib.axes._subplots.AxesSubplot at 0x7f1ed11b7f40>"
            ]
          },
          "metadata": {},
          "execution_count": 17
        },
        {
          "output_type": "display_data",
          "data": {
            "text/plain": [
              "<Figure size 432x288 with 1 Axes>"
            ],
            "image/png": "[encoded data removed]"
          },
          "metadata": {
            "needs_background": "light"
          }
        }
      ]
    },
    {
      "cell_type": "code",
      "source": [
        "pd.plotting.autocorrelation_plot(df['abs_pitch_differences'])"
      ],
      "metadata": {
        "colab": {
          "base_uri": "https://localhost:8080/",
          "height": 301
        },
        "id": "sVVq9A099LH6",
        "outputId": "c0e6e960-5846-4ac7-b2ff-98df202c94a2"
      },
      "execution_count": 18,
      "outputs": [
        {
          "output_type": "execute_result",
          "data": {
            "text/plain": [
              "<matplotlib.axes._subplots.AxesSubplot at 0x7f1ed113abb0>"
            ]
          },
          "metadata": {},
          "execution_count": 18
        },
        {
          "output_type": "display_data",
          "data": {
            "text/plain": [
              "<Figure size 432x288 with 1 Axes>"
            ],
            "image/png": "[encoded data removed]"
          },
          "metadata": {
            "needs_background": "light"
          }
        }
      ]
    },
    {
      "cell_type": "code",
      "source": [
        "plt.plot(df['pitch_differences'])"
      ],
      "metadata": {
        "colab": {
          "base_uri": "https://localhost:8080/",
          "height": 283
        },
        "id": "7jtSqs-1_PFJ",
        "outputId": "282c212c-70f1-4321-9ee8-fd6a3eddcafa"
      },
      "execution_count": 36,
      "outputs": [
        {
          "output_type": "execute_result",
          "data": {
            "text/plain": [
              "[<matplotlib.lines.Line2D at 0x7f1ec7ebcd90>]"
            ]
          },
          "metadata": {},
          "execution_count": 36
        },
        {
          "output_type": "display_data",
          "data": {
            "text/plain": [
              "<Figure size 432x288 with 1 Axes>"
            ],
            "image/png": "[encoded data removed]"
          },
          "metadata": {
            "needs_background": "light"
          }
        }
      ]
    },
    {
      "cell_type": "code",
      "source": [
        "plt.plot(df['abs_pitch_differences'])"
      ],
      "metadata": {
        "colab": {
          "base_uri": "https://localhost:8080/",
          "height": 283
        },
        "id": "7fq48Omw_Ub9",
        "outputId": "dec29086-ab9c-4253-aba8-228ab21eba8b"
      },
      "execution_count": 37,
      "outputs": [
        {
          "output_type": "execute_result",
          "data": {
            "text/plain": [
              "[<matplotlib.lines.Line2D at 0x7f1ec7eb25e0>]"
            ]
          },
          "metadata": {},
          "execution_count": 37
        },
        {
          "output_type": "display_data",
          "data": {
            "text/plain": [
              "<Figure size 432x288 with 1 Axes>"
            ],
            "image/png": "[encoded data removed]"
          },
          "metadata": {
            "needs_background": "light"
          }
        }
      ]
    },
    {
      "cell_type": "code",
      "source": [
        "for i in range(1, 15):\n",
        "  print(df['abs_pitch_differences'].autocorr(lag=i))"
      ],
      "metadata": {
        "colab": {
          "base_uri": "https://localhost:8080/"
        },
        "id": "gg2a3MPclRe1",
        "outputId": "da2d0a70-b24b-405a-e3b9-8bbc17513b27"
      },
      "execution_count": null,
      "outputs": [
        {
          "output_type": "stream",
          "name": "stdout",
          "text": [
            "0.004316836106453496\n",
            "-0.12639900243843888\n",
            "0.07759911796162233\n",
            "0.1003851307652579\n",
            "-0.10237315261558735\n",
            "0.018005640869022548\n",
            "0.043189593788525237\n",
            "0.046050536390237956\n",
            "-0.02539290294636359\n",
            "-0.09414363547343091\n",
            "-0.02540372368081871\n",
            "-0.04747862190373646\n",
            "-0.05976333050462661\n",
            "-0.016532632220049442\n"
          ]
        }
      ]
    },
    {
      "cell_type": "code",
      "source": [
        "sns.histplot(df['pitch_differences'], stat='probability', kde=True, binwidth=1)"
      ],
      "metadata": {
        "colab": {
          "base_uri": "https://localhost:8080/",
          "height": 298
        },
        "id": "M1cqD3AiPA9y",
        "outputId": "3e768f0b-8527-41ad-814f-98319130fd6f"
      },
      "execution_count": 19,
      "outputs": [
        {
          "output_type": "execute_result",
          "data": {
            "text/plain": [
              "<matplotlib.axes._subplots.AxesSubplot at 0x7f1ed1142dc0>"
            ]
          },
          "metadata": {},
          "execution_count": 19
        },
        {
          "output_type": "display_data",
          "data": {
            "text/plain": [
              "<Figure size 432x288 with 1 Axes>"
            ],
            "image/png": "[encoded data removed]"
          },
          "metadata": {
            "needs_background": "light"
          }
        }
      ]
    },
    {
      "cell_type": "code",
      "source": [
        "sns.histplot(df['abs_pitch_differences'], stat='probability')"
      ],
      "metadata": {
        "colab": {
          "base_uri": "https://localhost:8080/",
          "height": 298
        },
        "id": "Lt24JuefPrW3",
        "outputId": "1d09d1fd-074a-46fb-a5fc-923b9bce9508"
      },
      "execution_count": 20,
      "outputs": [
        {
          "output_type": "execute_result",
          "data": {
            "text/plain": [
              "<matplotlib.axes._subplots.AxesSubplot at 0x7f1ed1071fd0>"
            ]
          },
          "metadata": {},
          "execution_count": 20
        },
        {
          "output_type": "display_data",
          "data": {
            "text/plain": [
              "<Figure size 432x288 with 1 Axes>"
            ],
            "image/png": "[encoded data removed]"
          },
          "metadata": {
            "needs_background": "light"
          }
        }
      ]
    },
    {
      "cell_type": "markdown",
      "source": [
        "### Note Velocity"
      ],
      "metadata": {
        "id": "LCzju8-LPFZz"
      }
    },
    {
      "cell_type": "code",
      "source": [
        "velocities = np.array([])\n",
        "for note in notes_array:\n",
        "  velocities = np.append(velocities, note.velocity)\n",
        "\n",
        "df['velocities'] = pd.Series(velocities)\n",
        "\n",
        "for i in range(1, 15):\n",
        "  print(df['velocities'].autocorr(lag=i))\n",
        "\n",
        "velocity_autocorr = [df['velocities'].autocorr(lag=i) for i in range(1, 20)]\n",
        "print(velocity_autocorr)"
      ],
      "metadata": {
        "colab": {
          "base_uri": "https://localhost:8080/"
        },
        "id": "_c8ThWZHNbWF",
        "outputId": "7d89076f-910b-49ce-e61e-eddca8a90de8"
      },
      "execution_count": 21,
      "outputs": [
        {
          "output_type": "stream",
          "name": "stdout",
          "text": [
            "0.20053192938119485\n",
            "0.20384710634049216\n",
            "0.09642201219541524\n",
            "0.17664111525334592\n",
            "0.1441390460992251\n",
            "0.05854204982299221\n",
            "0.17299645922945725\n",
            "0.05962780554886093\n",
            "0.11538412097348233\n",
            "0.03217629204087941\n",
            "0.11414962063032061\n",
            "0.12712547013594033\n",
            "0.010838262511584455\n",
            "0.16573222293226592\n",
            "[0.20053192938119485, 0.20384710634049216, 0.09642201219541524, 0.17664111525334592, 0.1441390460992251, 0.05854204982299221, 0.17299645922945725, 0.05962780554886093, 0.11538412097348233, 0.03217629204087941, 0.11414962063032061, 0.12712547013594033, 0.010838262511584455, 0.16573222293226592, 0.09872356650791976, 0.15346117010440075, 0.04684346619531862, 0.1056026136640485, 0.10323806314380926]\n"
          ]
        }
      ]
    },
    {
      "cell_type": "code",
      "source": [
        "plt.plot(df['velocities'])"
      ],
      "metadata": {
        "colab": {
          "base_uri": "https://localhost:8080/",
          "height": 283
        },
        "id": "doj87Bwk910E",
        "outputId": "a3fbfa50-2c8a-4ce1-db4b-1033d50188c4"
      },
      "execution_count": 25,
      "outputs": [
        {
          "output_type": "execute_result",
          "data": {
            "text/plain": [
              "[<matplotlib.lines.Line2D at 0x7f1ed049a610>]"
            ]
          },
          "metadata": {},
          "execution_count": 25
        },
        {
          "output_type": "display_data",
          "data": {
            "text/plain": [
              "<Figure size 432x288 with 1 Axes>"
            ],
            "image/png": "[encoded data removed]"
          },
          "metadata": {
            "needs_background": "light"
          }
        }
      ]
    },
    {
      "cell_type": "code",
      "source": [
        "adf_velocity = sm.tsa.stattools.adfuller(df['velocities'])\n",
        "print(adf_velocity)"
      ],
      "metadata": {
        "colab": {
          "base_uri": "https://localhost:8080/"
        },
        "id": "oBUsMNJo-HQM",
        "outputId": "2cb33b95-c498-4fc3-8702-39c7fb0c9571"
      },
      "execution_count": 28,
      "outputs": [
        {
          "output_type": "stream",
          "name": "stdout",
          "text": [
            "(-3.5722571734673565, 0.006314105848430447, 13, 436, {'1%': -3.445437655635993, '5%': -2.8681918844944785, '10%': -2.5703132171113543}, 3115.401289002799)\n"
          ]
        }
      ]
    },
    {
      "cell_type": "code",
      "source": [
        "print(df['velocities'].mean())\n",
        "print(df['velocities'].median())"
      ],
      "metadata": {
        "colab": {
          "base_uri": "https://localhost:8080/"
        },
        "id": "6VOqTrBR-YYt",
        "outputId": "98786a42-57c9-46f3-f3a1-87da4eecca75"
      },
      "execution_count": 30,
      "outputs": [
        {
          "output_type": "stream",
          "name": "stdout",
          "text": [
            "102.67555555555556\n",
            "102.0\n"
          ]
        }
      ]
    },
    {
      "cell_type": "code",
      "source": [
        "sns.histplot(velocities, stat='probability', kde=True, bins=20)"
      ],
      "metadata": {
        "colab": {
          "base_uri": "https://localhost:8080/",
          "height": 283
        },
        "id": "jtTM5DdoSPoG",
        "outputId": "7cef8c40-6245-4429-c108-5d5a3d98e764"
      },
      "execution_count": 31,
      "outputs": [
        {
          "output_type": "execute_result",
          "data": {
            "text/plain": [
              "<matplotlib.axes._subplots.AxesSubplot at 0x7f1ec80888b0>"
            ]
          },
          "metadata": {},
          "execution_count": 31
        },
        {
          "output_type": "display_data",
          "data": {
            "text/plain": [
              "<Figure size 432x288 with 1 Axes>"
            ],
            "image/png": "[encoded data removed]"
          },
          "metadata": {
            "needs_background": "light"
          }
        }
      ]
    },
    {
      "cell_type": "code",
      "source": [
        "df.corr()"
      ],
      "metadata": {
        "colab": {
          "base_uri": "https://localhost:8080/",
          "height": 175
        },
        "id": "AJNfpLbsQDXe",
        "outputId": "9703eacd-d722-4135-81cf-ca489cacb471"
      },
      "execution_count": 23,
      "outputs": [
        {
          "output_type": "execute_result",
          "data": {
            "text/plain": [
              "                              0  pitch_differences  abs_pitch_differences  \\\n",
              "0                      1.000000          -0.061628               0.248994   \n",
              "pitch_differences     -0.061628           1.000000               0.015578   \n",
              "abs_pitch_differences  0.248994           0.015578               1.000000   \n",
              "velocities            -0.178110          -0.071242              -0.045845   \n",
              "\n",
              "                       velocities  \n",
              "0                       -0.178110  \n",
              "pitch_differences       -0.071242  \n",
              "abs_pitch_differences   -0.045845  \n",
              "velocities               1.000000  "
            ],
            "text/html": [
              "\n",
              "  <div id=\"df-2b19dcc2-41a5-419d-b8a9-1e79bccf77d7\">\n",
              "    <div class=\"colab-df-container\">\n",
              "      <div>\n",
              "<style scoped>\n",
              "    .dataframe tbody tr th:only-of-type {\n",
              "        vertical-align: middle;\n",
              "    }\n",
              "\n",
              "    .dataframe tbody tr th {\n",
              "        vertical-align: top;\n",
              "    }\n",
              "\n",
              "    .dataframe thead th {\n",
              "        text-align: right;\n",
              "    }\n",
              "</style>\n",
              "<table border=\"1\" class=\"dataframe\">\n",
              "  <thead>\n",
              "    <tr style=\"text-align: right;\">\n",
              "      <th></th>\n",
              "      <th>0</th>\n",
              "      <th>pitch_differences</th>\n",
              "      <th>abs_pitch_differences</th>\n",
              "      <th>velocities</th>\n",
              "    </tr>\n",
              "  </thead>\n",
              "  <tbody>\n",
              "    <tr>\n",
              "      <th>0</th>\n",
              "      <td>1.000000</td>\n",
              "      <td>-0.061628</td>\n",
              "      <td>0.248994</td>\n",
              "      <td>-0.178110</td>\n",
              "    </tr>\n",
              "    <tr>\n",
              "      <th>pitch_differences</th>\n",
              "      <td>-0.061628</td>\n",
              "      <td>1.000000</td>\n",
              "      <td>0.015578</td>\n",
              "      <td>-0.071242</td>\n",
              "    </tr>\n",
              "    <tr>\n",
              "      <th>abs_pitch_differences</th>\n",
              "      <td>0.248994</td>\n",
              "      <td>0.015578</td>\n",
              "      <td>1.000000</td>\n",
              "      <td>-0.045845</td>\n",
              "    </tr>\n",
              "    <tr>\n",
              "      <th>velocities</th>\n",
              "      <td>-0.178110</td>\n",
              "      <td>-0.071242</td>\n",
              "      <td>-0.045845</td>\n",
              "      <td>1.000000</td>\n",
              "    </tr>\n",
              "  </tbody>\n",
              "</table>\n",
              "</div>\n",
              "      <button class=\"colab-df-convert\" onclick=\"convertToInteractive('df-2b19dcc2-41a5-419d-b8a9-1e79bccf77d7')\"\n",
              "              title=\"Convert this dataframe to an interactive table.\"\n",
              "              style=\"display:none;\">\n",
              "        \n",
              "  <svg xmlns=\"http://www.w3.org/2000/svg\" height=\"24px\"viewBox=\"0 0 24 24\"\n",
              "       width=\"24px\">\n",
              "    <path d=\"M0 0h24v24H0V0z\" fill=\"none\"/>\n",
              "    <path d=\"M18.56 5.44l.94 2.06.94-2.06 2.06-.94-2.06-.94-.94-2.06-.94 2.06-2.06.94zm-11 1L8.5 8.5l.94-2.06 2.06-.94-2.06-.94L8.5 2.5l-.94 2.06-2.06.94zm10 10l.94 2.06.94-2.06 2.06-.94-2.06-.94-.94-2.06-.94 2.06-2.06.94z\"/><path d=\"M17.41 7.96l-1.37-1.37c-.4-.4-.92-.59-1.43-.59-.52 0-1.04.2-1.43.59L10.3 9.45l-7.72 7.72c-.78.78-.78 2.05 0 2.83L4 21.41c.39.39.9.59 1.41.59.51 0 1.02-.2 1.41-.59l7.78-7.78 2.81-2.81c.8-.78.8-2.07 0-2.86zM5.41 20L4 18.59l7.72-7.72 1.47 1.35L5.41 20z\"/>\n",
              "  </svg>\n",
              "      </button>\n",
              "      \n",
              "  <style>\n",
              "    .colab-df-container {\n",
              "      display:flex;\n",
              "      flex-wrap:wrap;\n",
              "      gap: 12px;\n",
              "    }\n",
              "\n",
              "    .colab-df-convert {\n",
              "      background-color: #E8F0FE;\n",
              "      border: none;\n",
              "      border-radius: 50%;\n",
              "      cursor: pointer;\n",
              "      display: none;\n",
              "      fill: #1967D2;\n",
              "      height: 32px;\n",
              "      padding: 0 0 0 0;\n",
              "      width: 32px;\n",
              "    }\n",
              "\n",
              "    .colab-df-convert:hover {\n",
              "      background-color: #E2EBFA;\n",
              "      box-shadow: 0px 1px 2px rgba(60, 64, 67, 0.3), 0px 1px 3px 1px rgba(60, 64, 67, 0.15);\n",
              "      fill: #174EA6;\n",
              "    }\n",
              "\n",
              "    [theme=dark] .colab-df-convert {\n",
              "      background-color: #3B4455;\n",
              "      fill: #D2E3FC;\n",
              "    }\n",
              "\n",
              "    [theme=dark] .colab-df-convert:hover {\n",
              "      background-color: #434B5C;\n",
              "      box-shadow: 0px 1px 3px 1px rgba(0, 0, 0, 0.15);\n",
              "      filter: drop-shadow(0px 1px 2px rgba(0, 0, 0, 0.3));\n",
              "      fill: #FFFFFF;\n",
              "    }\n",
              "  </style>\n",
              "\n",
              "      <script>\n",
              "        const buttonEl =\n",
              "          document.querySelector('#df-2b19dcc2-41a5-419d-b8a9-1e79bccf77d7 button.colab-df-convert');\n",
              "        buttonEl.style.display =\n",
              "          google.colab.kernel.accessAllowed ? 'block' : 'none';\n",
              "\n",
              "        async function convertToInteractive(key) {\n",
              "          const element = document.querySelector('#df-2b19dcc2-41a5-419d-b8a9-1e79bccf77d7');\n",
              "          const dataTable =\n",
              "            await google.colab.kernel.invokeFunction('convertToInteractive',\n",
              "                                                     [key], {});\n",
              "          if (!dataTable) return;\n",
              "\n",
              "          const docLinkHtml = 'Like what you see? Visit the ' +\n",
              "            '<a target=\"_blank\" href=https://colab.research.google.com/notebooks/data_table.ipynb>data table notebook</a>'\n",
              "            + ' to learn more about interactive tables.';\n",
              "          element.innerHTML = '';\n",
              "          dataTable['output_type'] = 'display_data';\n",
              "          await google.colab.output.renderOutput(dataTable, element);\n",
              "          const docLink = document.createElement('div');\n",
              "          docLink.innerHTML = docLinkHtml;\n",
              "          element.appendChild(docLink);\n",
              "        }\n",
              "      </script>\n",
              "    </div>\n",
              "  </div>\n",
              "  "
            ]
          },
          "metadata": {},
          "execution_count": 23
        }
      ]
    },
    {
      "cell_type": "code",
      "source": [
        "# check for cointegration between velocity and pitch differences\n",
        "import statsmodels.tsa.stattools as ts \n",
        "velocity_pitch_diff_coint = ts.coint(df['velocities'], df['pitch_differences'])\n",
        "print(velocity_pitch_diff_coint)"
      ],
      "metadata": {
        "colab": {
          "base_uri": "https://localhost:8080/"
        },
        "id": "Mx7GveATQREG",
        "outputId": "119a1a85-0d30-4472-a8c9-189484784567"
      },
      "execution_count": 32,
      "outputs": [
        {
          "output_type": "stream",
          "name": "stdout",
          "text": [
            "(-3.5901058964599244, 0.025200676670241073, array([-3.92099806, -3.34977208, -3.05390937]))\n"
          ]
        }
      ]
    },
    {
      "cell_type": "code",
      "source": [
        "import statsmodels.api as sm\n",
        "X = df['pitch_differences']\n",
        "X = sm.add_constant(X)\n",
        "Y = df['velocities']\n",
        "velocity_model = sm.OLS(Y, X)\n",
        "velocity_reg = velocity_model.fit()\n",
        "print(velocity_reg.params)\n",
        "print(velocity_reg.tvalues)\n",
        "print(velocity_reg.summary())"
      ],
      "metadata": {
        "colab": {
          "base_uri": "https://localhost:8080/"
        },
        "id": "hglB9Ni7TTNI",
        "outputId": "21652074-5d34-436c-e196-47ba2ba8dc7d"
      },
      "execution_count": 33,
      "outputs": [
        {
          "output_type": "stream",
          "name": "stdout",
          "text": [
            "const                102.675556\n",
            "pitch_differences     -0.181076\n",
            "dtype: float64\n",
            "const                237.219575\n",
            "pitch_differences     -1.511743\n",
            "dtype: float64\n",
            "                            OLS Regression Results                            \n",
            "==============================================================================\n",
            "Dep. Variable:             velocities   R-squared:                       0.005\n",
            "Model:                            OLS   Adj. R-squared:                  0.003\n",
            "Method:                 Least Squares   F-statistic:                     2.285\n",
            "Date:                Mon, 20 Feb 2023   Prob (F-statistic):              0.131\n",
            "Time:                        18:00:18   Log-Likelihood:                -1635.3\n",
            "No. Observations:                 450   AIC:                             3275.\n",
            "Df Residuals:                     448   BIC:                             3283.\n",
            "Df Model:                           1                                         \n",
            "Covariance Type:            nonrobust                                         \n",
            "=====================================================================================\n",
            "                        coef    std err          t      P>|t|      [0.025      0.975]\n",
            "-------------------------------------------------------------------------------------\n",
            "const               102.6756      0.433    237.220      0.000     101.825     103.526\n",
            "pitch_differences    -0.1811      0.120     -1.512      0.131      -0.416       0.054\n",
            "==============================================================================\n",
            "Omnibus:                      292.951   Durbin-Watson:                   1.570\n",
            "Prob(Omnibus):                  0.000   Jarque-Bera (JB):            10158.386\n",
            "Skew:                          -2.238   Prob(JB):                         0.00\n",
            "Kurtosis:                      25.842   Cond. No.                         3.61\n",
            "==============================================================================\n",
            "\n",
            "Notes:\n",
            "[1] Standard Errors assume that the covariance matrix of the errors is correctly specified.\n"
          ]
        },
        {
          "output_type": "stream",
          "name": "stderr",
          "text": [
            "/usr/local/lib/python3.8/dist-packages/statsmodels/tsa/tsatools.py:142: FutureWarning: In a future version of pandas all arguments of concat except for the argument 'objs' will be keyword-only\n",
            "  x = pd.concat(x[::order], 1)\n"
          ]
        }
      ]
    },
    {
      "cell_type": "code",
      "source": [
        "stationary_timeseries = velocity_reg.predict(X)\n",
        "\n",
        "plt.plot(stationary_timeseries)"
      ],
      "metadata": {
        "colab": {
          "base_uri": "https://localhost:8080/",
          "height": 284
        },
        "id": "hQVPBBTHUISI",
        "outputId": "f7e99d95-0f3a-407d-c062-084aaa615272"
      },
      "execution_count": 34,
      "outputs": [
        {
          "output_type": "execute_result",
          "data": {
            "text/plain": [
              "[<matplotlib.lines.Line2D at 0x7f1ec7fb7790>]"
            ]
          },
          "metadata": {},
          "execution_count": 34
        },
        {
          "output_type": "display_data",
          "data": {
            "text/plain": [
              "<Figure size 432x288 with 1 Axes>"
            ],
            "image/png": "[encoded data removed]"
          },
          "metadata": {
            "needs_background": "light"
          }
        }
      ]
    },
    {
      "cell_type": "code",
      "source": [
        "residual = df['velocities'] - stationary_timeseries\n",
        "\n",
        "plt.plot(residual)"
      ],
      "metadata": {
        "colab": {
          "base_uri": "https://localhost:8080/",
          "height": 283
        },
        "id": "nDO_hQ9gWcMc",
        "outputId": "da8e5bd1-7a1e-40ae-fc05-424dea8836aa"
      },
      "execution_count": 35,
      "outputs": [
        {
          "output_type": "execute_result",
          "data": {
            "text/plain": [
              "[<matplotlib.lines.Line2D at 0x7f1ec7f014c0>]"
            ]
          },
          "metadata": {},
          "execution_count": 35
        },
        {
          "output_type": "display_data",
          "data": {
            "text/plain": [
              "<Figure size 432x288 with 1 Axes>"
            ],
            "image/png": "[encoded data removed]"
          },
          "metadata": {
            "needs_background": "light"
          }
        }
      ]
    },
    {
      "cell_type": "code",
      "source": [
        "plt.plot(np.arange(19), velocity_autocorr);\n",
        "plt.xticks(np.arange(19))\n",
        "plt.xlabel('Lag')\n",
        "plt.ylabel('Autocorrelation')"
      ],
      "metadata": {
        "colab": {
          "base_uri": "https://localhost:8080/",
          "height": 297
        },
        "id": "5sZNSOeGOQ0z",
        "outputId": "7fc1ac5c-f643-41dc-8bd7-dc0e470a9dd6"
      },
      "execution_count": null,
      "outputs": [
        {
          "output_type": "execute_result",
          "data": {
            "text/plain": [
              "Text(0, 0.5, 'Autocorrelation')"
            ]
          },
          "metadata": {},
          "execution_count": 79
        },
        {
          "output_type": "display_data",
          "data": {
            "text/plain": [
              "<Figure size 432x288 with 1 Axes>"
            ],
            "image/png": "[encoded data removed]"
          },
          "metadata": {
            "needs_background": "light"
          }
        }
      ]
    },
    {
      "cell_type": "markdown",
      "source": [
        "### Note Lengths"
      ],
      "metadata": {
        "id": "UPnF1yyvPN-K"
      }
    },
    {
      "cell_type": "code",
      "source": [
        "note_lengths = np.array([])\n",
        "for note in notes_array:\n",
        "  note_lengths = np.append(note_lengths, note.end - note.start)\n",
        "\n",
        "df['note_lengths'] = pd.Series(note_lengths)\n",
        "\n",
        "for i in range(1, 15):\n",
        "  print(df['note_lengths'].autocorr(lag=i))\n",
        "\n",
        "note_length_autocorr = [df['note_lengths'].autocorr(lag=i) for i in range(1, 20)]\n",
        "print(note_length_autocorr)"
      ],
      "metadata": {
        "colab": {
          "base_uri": "https://localhost:8080/"
        },
        "id": "Qh9n32eHPRak",
        "outputId": "ca4a0e52-753a-40da-cf0b-7cef07abdf92"
      },
      "execution_count": 38,
      "outputs": [
        {
          "output_type": "stream",
          "name": "stdout",
          "text": [
            "-0.023875934431557083\n",
            "0.07552683211534453\n",
            "0.03839679263396763\n",
            "0.06547358391116773\n",
            "0.0035883991242379723\n",
            "0.04294822358566039\n",
            "0.00838443658781366\n",
            "0.016853189562664846\n",
            "-0.037715235261214466\n",
            "0.0880282448114739\n",
            "0.07921024809343846\n",
            "-0.026630123968682803\n",
            "-0.014708137717257356\n",
            "-0.05681884198167854\n",
            "[-0.023875934431557083, 0.07552683211534453, 0.03839679263396763, 0.06547358391116773, 0.0035883991242379723, 0.04294822358566039, 0.00838443658781366, 0.016853189562664846, -0.037715235261214466, 0.0880282448114739, 0.07921024809343846, -0.026630123968682803, -0.014708137717257356, -0.05681884198167854, 0.053887011330169175, -0.019662791270126947, 0.012201656759489697, -0.02744237635647326, -0.02268996790501803]\n"
          ]
        }
      ]
    },
    {
      "cell_type": "code",
      "source": [
        "sns.histplot(df['note_lengths'], stat='probability', kde=True)"
      ],
      "metadata": {
        "colab": {
          "base_uri": "https://localhost:8080/",
          "height": 298
        },
        "id": "bySaVcE9P9SU",
        "outputId": "5b45e1a9-4023-4c41-a383-11814f9526ee"
      },
      "execution_count": 40,
      "outputs": [
        {
          "output_type": "execute_result",
          "data": {
            "text/plain": [
              "<matplotlib.axes._subplots.AxesSubplot at 0x7f1ec7daef10>"
            ]
          },
          "metadata": {},
          "execution_count": 40
        },
        {
          "output_type": "display_data",
          "data": {
            "text/plain": [
              "<Figure size 432x288 with 1 Axes>"
            ],
            "image/png": "[encoded data removed]"
          },
          "metadata": {
            "needs_background": "light"
          }
        }
      ]
    },
    {
      "cell_type": "code",
      "source": [
        "plt.plot(df['note_lengths'])"
      ],
      "metadata": {
        "colab": {
          "base_uri": "https://localhost:8080/",
          "height": 283
        },
        "id": "miEo2dXs_rSA",
        "outputId": "77f11e92-b5c9-4e58-c507-83ab4ea1a185"
      },
      "execution_count": 41,
      "outputs": [
        {
          "output_type": "execute_result",
          "data": {
            "text/plain": [
              "[<matplotlib.lines.Line2D at 0x7f1ec7cba6a0>]"
            ]
          },
          "metadata": {},
          "execution_count": 41
        },
        {
          "output_type": "display_data",
          "data": {
            "text/plain": [
              "<Figure size 432x288 with 1 Axes>"
            ],
            "image/png": "[encoded data removed]"
          },
          "metadata": {
            "needs_background": "light"
          }
        }
      ]
    },
    {
      "cell_type": "code",
      "source": [
        "adf_note_lengths = sm.tsa.stattools.adfuller(df['note_lengths'])\n",
        "print(adf_note_lengths)"
      ],
      "metadata": {
        "colab": {
          "base_uri": "https://localhost:8080/"
        },
        "id": "HpkxFByx_xaR",
        "outputId": "05f92b3c-1dca-4a38-a129-696b824b8b63"
      },
      "execution_count": 43,
      "outputs": [
        {
          "output_type": "stream",
          "name": "stdout",
          "text": [
            "(-21.6625605878343, 0.0, 0, 449, {'1%': -3.4449982835447894, '5%': -2.8679986379826814, '10%': -2.5702102140862397}, -445.0780348207487)\n"
          ]
        }
      ]
    },
    {
      "cell_type": "code",
      "source": [
        "df['note_lengths'].mean()"
      ],
      "metadata": {
        "colab": {
          "base_uri": "https://localhost:8080/"
        },
        "id": "FPR0j7Kv_9gU",
        "outputId": "fa2440b9-8962-4c46-b1de-8e36b92fa1db"
      },
      "execution_count": 44,
      "outputs": [
        {
          "output_type": "execute_result",
          "data": {
            "text/plain": [
              "0.2089189755671288"
            ]
          },
          "metadata": {},
          "execution_count": 44
        }
      ]
    },
    {
      "cell_type": "code",
      "source": [
        "pitch = np.array([])\n",
        "for note in notes_array:\n",
        "  pitch = np.append(pitch, note.pitch)\n",
        "\n",
        "df['pitch'] = pd.Series(pitch)"
      ],
      "metadata": {
        "colab": {
          "base_uri": "https://localhost:8080/",
          "height": 833
        },
        "id": "7fYqvCSrQIqb",
        "outputId": "38e7a9e7-c499-4cba-b748-f2521bde69a8"
      },
      "execution_count": null,
      "outputs": [
        {
          "output_type": "execute_result",
          "data": {
            "text/plain": [
              "       note_lengths  pitch\n",
              "pitch                     \n",
              "49.0       0.246010      1\n",
              "50.0       0.385637      8\n",
              "51.0       0.507534      4\n",
              "52.0       0.503102     15\n",
              "53.0       0.305850     10\n",
              "54.0       0.618350     19\n",
              "55.0       0.363474     34\n",
              "56.0       0.281471     20\n",
              "57.0       0.540779     27\n",
              "58.0       0.378989     19\n",
              "59.0       1.074909     76\n",
              "60.0       0.660460     34\n",
              "61.0       0.343528     10\n",
              "62.0       0.503102     59\n",
              "63.0       0.241577     10\n",
              "64.0       0.401152     36\n",
              "65.0       0.385637     19\n",
              "66.0       0.268173      4\n",
              "67.0       0.689272     22\n",
              "68.0       0.503102      1\n",
              "69.0       0.356825     10\n",
              "70.0       0.234929      2\n",
              "71.0       0.232712      7\n",
              "72.0       1.726503      3"
            ],
            "text/html": [
              "\n",
              "  <div id=\"df-7a7ab40f-6e9b-45b1-9b41-29dd9646a159\">\n",
              "    <div class=\"colab-df-container\">\n",
              "      <div>\n",
              "<style scoped>\n",
              "    .dataframe tbody tr th:only-of-type {\n",
              "        vertical-align: middle;\n",
              "    }\n",
              "\n",
              "    .dataframe tbody tr th {\n",
              "        vertical-align: top;\n",
              "    }\n",
              "\n",
              "    .dataframe thead th {\n",
              "        text-align: right;\n",
              "    }\n",
              "</style>\n",
              "<table border=\"1\" class=\"dataframe\">\n",
              "  <thead>\n",
              "    <tr style=\"text-align: right;\">\n",
              "      <th></th>\n",
              "      <th>note_lengths</th>\n",
              "      <th>pitch</th>\n",
              "    </tr>\n",
              "    <tr>\n",
              "      <th>pitch</th>\n",
              "      <th></th>\n",
              "      <th></th>\n",
              "    </tr>\n",
              "  </thead>\n",
              "  <tbody>\n",
              "    <tr>\n",
              "      <th>49.0</th>\n",
              "      <td>0.246010</td>\n",
              "      <td>1</td>\n",
              "    </tr>\n",
              "    <tr>\n",
              "      <th>50.0</th>\n",
              "      <td>0.385637</td>\n",
              "      <td>8</td>\n",
              "    </tr>\n",
              "    <tr>\n",
              "      <th>51.0</th>\n",
              "      <td>0.507534</td>\n",
              "      <td>4</td>\n",
              "    </tr>\n",
              "    <tr>\n",
              "      <th>52.0</th>\n",
              "      <td>0.503102</td>\n",
              "      <td>15</td>\n",
              "    </tr>\n",
              "    <tr>\n",
              "      <th>53.0</th>\n",
              "      <td>0.305850</td>\n",
              "      <td>10</td>\n",
              "    </tr>\n",
              "    <tr>\n",
              "      <th>54.0</th>\n",
              "      <td>0.618350</td>\n",
              "      <td>19</td>\n",
              "    </tr>\n",
              "    <tr>\n",
              "      <th>55.0</th>\n",
              "      <td>0.363474</td>\n",
              "      <td>34</td>\n",
              "    </tr>\n",
              "    <tr>\n",
              "      <th>56.0</th>\n",
              "      <td>0.281471</td>\n",
              "      <td>20</td>\n",
              "    </tr>\n",
              "    <tr>\n",
              "      <th>57.0</th>\n",
              "      <td>0.540779</td>\n",
              "      <td>27</td>\n",
              "    </tr>\n",
              "    <tr>\n",
              "      <th>58.0</th>\n",
              "      <td>0.378989</td>\n",
              "      <td>19</td>\n",
              "    </tr>\n",
              "    <tr>\n",
              "      <th>59.0</th>\n",
              "      <td>1.074909</td>\n",
              "      <td>76</td>\n",
              "    </tr>\n",
              "    <tr>\n",
              "      <th>60.0</th>\n",
              "      <td>0.660460</td>\n",
              "      <td>34</td>\n",
              "    </tr>\n",
              "    <tr>\n",
              "      <th>61.0</th>\n",
              "      <td>0.343528</td>\n",
              "      <td>10</td>\n",
              "    </tr>\n",
              "    <tr>\n",
              "      <th>62.0</th>\n",
              "      <td>0.503102</td>\n",
              "      <td>59</td>\n",
              "    </tr>\n",
              "    <tr>\n",
              "      <th>63.0</th>\n",
              "      <td>0.241577</td>\n",
              "      <td>10</td>\n",
              "    </tr>\n",
              "    <tr>\n",
              "      <th>64.0</th>\n",
              "      <td>0.401152</td>\n",
              "      <td>36</td>\n",
              "    </tr>\n",
              "    <tr>\n",
              "      <th>65.0</th>\n",
              "      <td>0.385637</td>\n",
              "      <td>19</td>\n",
              "    </tr>\n",
              "    <tr>\n",
              "      <th>66.0</th>\n",
              "      <td>0.268173</td>\n",
              "      <td>4</td>\n",
              "    </tr>\n",
              "    <tr>\n",
              "      <th>67.0</th>\n",
              "      <td>0.689272</td>\n",
              "      <td>22</td>\n",
              "    </tr>\n",
              "    <tr>\n",
              "      <th>68.0</th>\n",
              "      <td>0.503102</td>\n",
              "      <td>1</td>\n",
              "    </tr>\n",
              "    <tr>\n",
              "      <th>69.0</th>\n",
              "      <td>0.356825</td>\n",
              "      <td>10</td>\n",
              "    </tr>\n",
              "    <tr>\n",
              "      <th>70.0</th>\n",
              "      <td>0.234929</td>\n",
              "      <td>2</td>\n",
              "    </tr>\n",
              "    <tr>\n",
              "      <th>71.0</th>\n",
              "      <td>0.232712</td>\n",
              "      <td>7</td>\n",
              "    </tr>\n",
              "    <tr>\n",
              "      <th>72.0</th>\n",
              "      <td>1.726503</td>\n",
              "      <td>3</td>\n",
              "    </tr>\n",
              "  </tbody>\n",
              "</table>\n",
              "</div>\n",
              "      <button class=\"colab-df-convert\" onclick=\"convertToInteractive('df-7a7ab40f-6e9b-45b1-9b41-29dd9646a159')\"\n",
              "              title=\"Convert this dataframe to an interactive table.\"\n",
              "              style=\"display:none;\">\n",
              "        \n",
              "  <svg xmlns=\"http://www.w3.org/2000/svg\" height=\"24px\"viewBox=\"0 0 24 24\"\n",
              "       width=\"24px\">\n",
              "    <path d=\"M0 0h24v24H0V0z\" fill=\"none\"/>\n",
              "    <path d=\"M18.56 5.44l.94 2.06.94-2.06 2.06-.94-2.06-.94-.94-2.06-.94 2.06-2.06.94zm-11 1L8.5 8.5l.94-2.06 2.06-.94-2.06-.94L8.5 2.5l-.94 2.06-2.06.94zm10 10l.94 2.06.94-2.06 2.06-.94-2.06-.94-.94-2.06-.94 2.06-2.06.94z\"/><path d=\"M17.41 7.96l-1.37-1.37c-.4-.4-.92-.59-1.43-.59-.52 0-1.04.2-1.43.59L10.3 9.45l-7.72 7.72c-.78.78-.78 2.05 0 2.83L4 21.41c.39.39.9.59 1.41.59.51 0 1.02-.2 1.41-.59l7.78-7.78 2.81-2.81c.8-.78.8-2.07 0-2.86zM5.41 20L4 18.59l7.72-7.72 1.47 1.35L5.41 20z\"/>\n",
              "  </svg>\n",
              "      </button>\n",
              "      \n",
              "  <style>\n",
              "    .colab-df-container {\n",
              "      display:flex;\n",
              "      flex-wrap:wrap;\n",
              "      gap: 12px;\n",
              "    }\n",
              "\n",
              "    .colab-df-convert {\n",
              "      background-color: #E8F0FE;\n",
              "      border: none;\n",
              "      border-radius: 50%;\n",
              "      cursor: pointer;\n",
              "      display: none;\n",
              "      fill: #1967D2;\n",
              "      height: 32px;\n",
              "      padding: 0 0 0 0;\n",
              "      width: 32px;\n",
              "    }\n",
              "\n",
              "    .colab-df-convert:hover {\n",
              "      background-color: #E2EBFA;\n",
              "      box-shadow: 0px 1px 2px rgba(60, 64, 67, 0.3), 0px 1px 3px 1px rgba(60, 64, 67, 0.15);\n",
              "      fill: #174EA6;\n",
              "    }\n",
              "\n",
              "    [theme=dark] .colab-df-convert {\n",
              "      background-color: #3B4455;\n",
              "      fill: #D2E3FC;\n",
              "    }\n",
              "\n",
              "    [theme=dark] .colab-df-convert:hover {\n",
              "      background-color: #434B5C;\n",
              "      box-shadow: 0px 1px 3px 1px rgba(0, 0, 0, 0.15);\n",
              "      filter: drop-shadow(0px 1px 2px rgba(0, 0, 0, 0.3));\n",
              "      fill: #FFFFFF;\n",
              "    }\n",
              "  </style>\n",
              "\n",
              "      <script>\n",
              "        const buttonEl =\n",
              "          document.querySelector('#df-7a7ab40f-6e9b-45b1-9b41-29dd9646a159 button.colab-df-convert');\n",
              "        buttonEl.style.display =\n",
              "          google.colab.kernel.accessAllowed ? 'block' : 'none';\n",
              "\n",
              "        async function convertToInteractive(key) {\n",
              "          const element = document.querySelector('#df-7a7ab40f-6e9b-45b1-9b41-29dd9646a159');\n",
              "          const dataTable =\n",
              "            await google.colab.kernel.invokeFunction('convertToInteractive',\n",
              "                                                     [key], {});\n",
              "          if (!dataTable) return;\n",
              "\n",
              "          const docLinkHtml = 'Like what you see? Visit the ' +\n",
              "            '<a target=\"_blank\" href=https://colab.research.google.com/notebooks/data_table.ipynb>data table notebook</a>'\n",
              "            + ' to learn more about interactive tables.';\n",
              "          element.innerHTML = '';\n",
              "          dataTable['output_type'] = 'display_data';\n",
              "          await google.colab.output.renderOutput(dataTable, element);\n",
              "          const docLink = document.createElement('div');\n",
              "          docLink.innerHTML = docLinkHtml;\n",
              "          element.appendChild(docLink);\n",
              "        }\n",
              "      </script>\n",
              "    </div>\n",
              "  </div>\n",
              "  "
            ]
          },
          "metadata": {},
          "execution_count": 52
        }
      ]
    },
    {
      "cell_type": "code",
      "source": [
        "df.corr()"
      ],
      "metadata": {
        "colab": {
          "base_uri": "https://localhost:8080/",
          "height": 237
        },
        "id": "s3C95eliRskr",
        "outputId": "026dbc28-2b43-49aa-b6d0-f13545e4700f"
      },
      "execution_count": null,
      "outputs": [
        {
          "output_type": "execute_result",
          "data": {
            "text/plain": [
              "                              0  pitch_differences  abs_pitch_differences  \\\n",
              "0                      1.000000          -0.061628               0.248994   \n",
              "pitch_differences     -0.061628           1.000000               0.015578   \n",
              "abs_pitch_differences  0.248994           0.015578               1.000000   \n",
              "velocities            -0.044195          -0.385301              -0.070434   \n",
              "note_lengths           0.551211          -0.120783               0.069015   \n",
              "pitch                 -0.044195          -0.385301              -0.070434   \n",
              "\n",
              "                       velocities  note_lengths     pitch  \n",
              "0                       -0.044195      0.551211 -0.044195  \n",
              "pitch_differences       -0.385301     -0.120783 -0.385301  \n",
              "abs_pitch_differences   -0.070434      0.069015 -0.070434  \n",
              "velocities               1.000000      0.100938  1.000000  \n",
              "note_lengths             0.100938      1.000000  0.100938  \n",
              "pitch                    1.000000      0.100938  1.000000  "
            ],
            "text/html": [
              "\n",
              "  <div id=\"df-b4b7e291-3a2b-49bd-90ad-b8ee024501a2\">\n",
              "    <div class=\"colab-df-container\">\n",
              "      <div>\n",
              "<style scoped>\n",
              "    .dataframe tbody tr th:only-of-type {\n",
              "        vertical-align: middle;\n",
              "    }\n",
              "\n",
              "    .dataframe tbody tr th {\n",
              "        vertical-align: top;\n",
              "    }\n",
              "\n",
              "    .dataframe thead th {\n",
              "        text-align: right;\n",
              "    }\n",
              "</style>\n",
              "<table border=\"1\" class=\"dataframe\">\n",
              "  <thead>\n",
              "    <tr style=\"text-align: right;\">\n",
              "      <th></th>\n",
              "      <th>0</th>\n",
              "      <th>pitch_differences</th>\n",
              "      <th>abs_pitch_differences</th>\n",
              "      <th>velocities</th>\n",
              "      <th>note_lengths</th>\n",
              "      <th>pitch</th>\n",
              "    </tr>\n",
              "  </thead>\n",
              "  <tbody>\n",
              "    <tr>\n",
              "      <th>0</th>\n",
              "      <td>1.000000</td>\n",
              "      <td>-0.061628</td>\n",
              "      <td>0.248994</td>\n",
              "      <td>-0.044195</td>\n",
              "      <td>0.551211</td>\n",
              "      <td>-0.044195</td>\n",
              "    </tr>\n",
              "    <tr>\n",
              "      <th>pitch_differences</th>\n",
              "      <td>-0.061628</td>\n",
              "      <td>1.000000</td>\n",
              "      <td>0.015578</td>\n",
              "      <td>-0.385301</td>\n",
              "      <td>-0.120783</td>\n",
              "      <td>-0.385301</td>\n",
              "    </tr>\n",
              "    <tr>\n",
              "      <th>abs_pitch_differences</th>\n",
              "      <td>0.248994</td>\n",
              "      <td>0.015578</td>\n",
              "      <td>1.000000</td>\n",
              "      <td>-0.070434</td>\n",
              "      <td>0.069015</td>\n",
              "      <td>-0.070434</td>\n",
              "    </tr>\n",
              "    <tr>\n",
              "      <th>velocities</th>\n",
              "      <td>-0.044195</td>\n",
              "      <td>-0.385301</td>\n",
              "      <td>-0.070434</td>\n",
              "      <td>1.000000</td>\n",
              "      <td>0.100938</td>\n",
              "      <td>1.000000</td>\n",
              "    </tr>\n",
              "    <tr>\n",
              "      <th>note_lengths</th>\n",
              "      <td>0.551211</td>\n",
              "      <td>-0.120783</td>\n",
              "      <td>0.069015</td>\n",
              "      <td>0.100938</td>\n",
              "      <td>1.000000</td>\n",
              "      <td>0.100938</td>\n",
              "    </tr>\n",
              "    <tr>\n",
              "      <th>pitch</th>\n",
              "      <td>-0.044195</td>\n",
              "      <td>-0.385301</td>\n",
              "      <td>-0.070434</td>\n",
              "      <td>1.000000</td>\n",
              "      <td>0.100938</td>\n",
              "      <td>1.000000</td>\n",
              "    </tr>\n",
              "  </tbody>\n",
              "</table>\n",
              "</div>\n",
              "      <button class=\"colab-df-convert\" onclick=\"convertToInteractive('df-b4b7e291-3a2b-49bd-90ad-b8ee024501a2')\"\n",
              "              title=\"Convert this dataframe to an interactive table.\"\n",
              "              style=\"display:none;\">\n",
              "        \n",
              "  <svg xmlns=\"http://www.w3.org/2000/svg\" height=\"24px\"viewBox=\"0 0 24 24\"\n",
              "       width=\"24px\">\n",
              "    <path d=\"M0 0h24v24H0V0z\" fill=\"none\"/>\n",
              "    <path d=\"M18.56 5.44l.94 2.06.94-2.06 2.06-.94-2.06-.94-.94-2.06-.94 2.06-2.06.94zm-11 1L8.5 8.5l.94-2.06 2.06-.94-2.06-.94L8.5 2.5l-.94 2.06-2.06.94zm10 10l.94 2.06.94-2.06 2.06-.94-2.06-.94-.94-2.06-.94 2.06-2.06.94z\"/><path d=\"M17.41 7.96l-1.37-1.37c-.4-.4-.92-.59-1.43-.59-.52 0-1.04.2-1.43.59L10.3 9.45l-7.72 7.72c-.78.78-.78 2.05 0 2.83L4 21.41c.39.39.9.59 1.41.59.51 0 1.02-.2 1.41-.59l7.78-7.78 2.81-2.81c.8-.78.8-2.07 0-2.86zM5.41 20L4 18.59l7.72-7.72 1.47 1.35L5.41 20z\"/>\n",
              "  </svg>\n",
              "      </button>\n",
              "      \n",
              "  <style>\n",
              "    .colab-df-container {\n",
              "      display:flex;\n",
              "      flex-wrap:wrap;\n",
              "      gap: 12px;\n",
              "    }\n",
              "\n",
              "    .colab-df-convert {\n",
              "      background-color: #E8F0FE;\n",
              "      border: none;\n",
              "      border-radius: 50%;\n",
              "      cursor: pointer;\n",
              "      display: none;\n",
              "      fill: #1967D2;\n",
              "      height: 32px;\n",
              "      padding: 0 0 0 0;\n",
              "      width: 32px;\n",
              "    }\n",
              "\n",
              "    .colab-df-convert:hover {\n",
              "      background-color: #E2EBFA;\n",
              "      box-shadow: 0px 1px 2px rgba(60, 64, 67, 0.3), 0px 1px 3px 1px rgba(60, 64, 67, 0.15);\n",
              "      fill: #174EA6;\n",
              "    }\n",
              "\n",
              "    [theme=dark] .colab-df-convert {\n",
              "      background-color: #3B4455;\n",
              "      fill: #D2E3FC;\n",
              "    }\n",
              "\n",
              "    [theme=dark] .colab-df-convert:hover {\n",
              "      background-color: #434B5C;\n",
              "      box-shadow: 0px 1px 3px 1px rgba(0, 0, 0, 0.15);\n",
              "      filter: drop-shadow(0px 1px 2px rgba(0, 0, 0, 0.3));\n",
              "      fill: #FFFFFF;\n",
              "    }\n",
              "  </style>\n",
              "\n",
              "      <script>\n",
              "        const buttonEl =\n",
              "          document.querySelector('#df-b4b7e291-3a2b-49bd-90ad-b8ee024501a2 button.colab-df-convert');\n",
              "        buttonEl.style.display =\n",
              "          google.colab.kernel.accessAllowed ? 'block' : 'none';\n",
              "\n",
              "        async function convertToInteractive(key) {\n",
              "          const element = document.querySelector('#df-b4b7e291-3a2b-49bd-90ad-b8ee024501a2');\n",
              "          const dataTable =\n",
              "            await google.colab.kernel.invokeFunction('convertToInteractive',\n",
              "                                                     [key], {});\n",
              "          if (!dataTable) return;\n",
              "\n",
              "          const docLinkHtml = 'Like what you see? Visit the ' +\n",
              "            '<a target=\"_blank\" href=https://colab.research.google.com/notebooks/data_table.ipynb>data table notebook</a>'\n",
              "            + ' to learn more about interactive tables.';\n",
              "          element.innerHTML = '';\n",
              "          dataTable['output_type'] = 'display_data';\n",
              "          await google.colab.output.renderOutput(dataTable, element);\n",
              "          const docLink = document.createElement('div');\n",
              "          docLink.innerHTML = docLinkHtml;\n",
              "          element.appendChild(docLink);\n",
              "        }\n",
              "      </script>\n",
              "    </div>\n",
              "  </div>\n",
              "  "
            ]
          },
          "metadata": {},
          "execution_count": 53
        }
      ]
    },
    {
      "cell_type": "code",
      "source": [
        "note_length_pitch_differences_coint = ts.coint(df['note_lengths'], df['pitch_differences'])\n",
        "print(note_length_pitch_differences_coint)"
      ],
      "metadata": {
        "colab": {
          "base_uri": "https://localhost:8080/"
        },
        "id": "H8czyBvHR8TL",
        "outputId": "c9772532-7f9d-4e63-b2db-3e79f0b94ad5"
      },
      "execution_count": 45,
      "outputs": [
        {
          "output_type": "stream",
          "name": "stdout",
          "text": [
            "(-21.034689204322735, 0.0, array([-3.92099806, -3.34977208, -3.05390937]))\n"
          ]
        }
      ]
    },
    {
      "cell_type": "code",
      "source": [
        "X = df['pitch_differences']\n",
        "X = sm.add_constant(X)\n",
        "Y = df['note_lengths']\n",
        "note_lengths_model = sm.OLS(Y, X)\n",
        "note_lengths_reg = note_lengths_model.fit()\n",
        "print(note_lengths_reg.params)\n",
        "print(note_lengths_reg.tvalues)\n",
        "print(note_lengths_reg.summary())"
      ],
      "metadata": {
        "colab": {
          "base_uri": "https://localhost:8080/"
        },
        "id": "NOQQ_EqcSVJS",
        "outputId": "1e944373-449d-4956-ae2d-1e13af373523"
      },
      "execution_count": 46,
      "outputs": [
        {
          "output_type": "stream",
          "name": "stdout",
          "text": [
            "const                0.208919\n",
            "pitch_differences   -0.004780\n",
            "dtype: float64\n",
            "const                31.149601\n",
            "pitch_differences    -2.575354\n",
            "dtype: float64\n",
            "                            OLS Regression Results                            \n",
            "==============================================================================\n",
            "Dep. Variable:           note_lengths   R-squared:                       0.015\n",
            "Model:                            OLS   Adj. R-squared:                  0.012\n",
            "Method:                 Least Squares   F-statistic:                     6.632\n",
            "Date:                Mon, 20 Feb 2023   Prob (F-statistic):             0.0103\n",
            "Time:                        18:05:16   Log-Likelihood:                 239.97\n",
            "No. Observations:                 450   AIC:                            -475.9\n",
            "Df Residuals:                     448   BIC:                            -467.7\n",
            "Df Model:                           1                                         \n",
            "Covariance Type:            nonrobust                                         \n",
            "=====================================================================================\n",
            "                        coef    std err          t      P>|t|      [0.025      0.975]\n",
            "-------------------------------------------------------------------------------------\n",
            "const                 0.2089      0.007     31.150      0.000       0.196       0.222\n",
            "pitch_differences    -0.0048      0.002     -2.575      0.010      -0.008      -0.001\n",
            "==============================================================================\n",
            "Omnibus:                      407.704   Durbin-Watson:                   1.985\n",
            "Prob(Omnibus):                  0.000   Jarque-Bera (JB):            18656.647\n",
            "Skew:                           3.659   Prob(JB):                         0.00\n",
            "Kurtosis:                      33.683   Cond. No.                         3.61\n",
            "==============================================================================\n",
            "\n",
            "Notes:\n",
            "[1] Standard Errors assume that the covariance matrix of the errors is correctly specified.\n"
          ]
        },
        {
          "output_type": "stream",
          "name": "stderr",
          "text": [
            "/usr/local/lib/python3.8/dist-packages/statsmodels/tsa/tsatools.py:142: FutureWarning: In a future version of pandas all arguments of concat except for the argument 'objs' will be keyword-only\n",
            "  x = pd.concat(x[::order], 1)\n"
          ]
        }
      ]
    },
    {
      "cell_type": "code",
      "source": [
        "stationary_timeseries = note_lengths_reg.predict(X)\n",
        "\n",
        "plt.plot(stationary_timeseries)"
      ],
      "metadata": {
        "colab": {
          "base_uri": "https://localhost:8080/",
          "height": 283
        },
        "id": "J17N0f61SepK",
        "outputId": "63c4af32-bb0d-41cc-f3c4-e5ccacd3224f"
      },
      "execution_count": 47,
      "outputs": [
        {
          "output_type": "execute_result",
          "data": {
            "text/plain": [
              "[<matplotlib.lines.Line2D at 0x7f1ec7664370>]"
            ]
          },
          "metadata": {},
          "execution_count": 47
        },
        {
          "output_type": "display_data",
          "data": {
            "text/plain": [
              "<Figure size 432x288 with 1 Axes>"
            ],
            "image/png": "[encoded data removed]"
          },
          "metadata": {
            "needs_background": "light"
          }
        }
      ]
    },
    {
      "cell_type": "code",
      "source": [
        "residual = df['note_lengths'] - stationary_timeseries\n",
        "\n",
        "plt.plot(residual)"
      ],
      "metadata": {
        "colab": {
          "base_uri": "https://localhost:8080/",
          "height": 283
        },
        "id": "TijFpgHuSkj8",
        "outputId": "614e7b41-4043-40fc-8fb7-d3e1ca207e2f"
      },
      "execution_count": 48,
      "outputs": [
        {
          "output_type": "execute_result",
          "data": {
            "text/plain": [
              "[<matplotlib.lines.Line2D at 0x7f1ec7633280>]"
            ]
          },
          "metadata": {},
          "execution_count": 48
        },
        {
          "output_type": "display_data",
          "data": {
            "text/plain": [
              "<Figure size 432x288 with 1 Axes>"
            ],
            "image/png": "[encoded data removed]"
          },
          "metadata": {
            "needs_background": "light"
          }
        }
      ]
    },
    {
      "cell_type": "markdown",
      "source": [
        "### Pitches"
      ],
      "metadata": {
        "id": "GXBnhXfWg0TY"
      }
    },
    {
      "cell_type": "code",
      "source": [
        "# While it's useful to interpret the pitch as separate classes they're technically integers where larger integers\n",
        "# correspond to higher pitches and we can derive useful insight from viewing them like that as well\n",
        "pitch = np.array([])\n",
        "for note in notes_array:\n",
        "  pitch = np.append(pitch, note.pitch)\n",
        "\n",
        "df['pitch'] = pd.Series(pitch)\n",
        "\n",
        "for i in range(1, 15):\n",
        "  print(df['pitch'].autocorr(lag=i))\n",
        "\n",
        "pitch_autocorr = [df['pitch'].autocorr(lag=i) for i in range(1, 20)]\n",
        "print(pitch_autocorr)"
      ],
      "metadata": {
        "colab": {
          "base_uri": "https://localhost:8080/"
        },
        "id": "qzwy_nLRigxK",
        "outputId": "cb0f4e90-5083-48df-9c92-7737929f6bc7"
      },
      "execution_count": 50,
      "outputs": [
        {
          "output_type": "stream",
          "name": "stdout",
          "text": [
            "0.7030642526961793\n",
            "0.47587535580180385\n",
            "0.2974103040805971\n",
            "0.22248237555374528\n",
            "0.19739629422145782\n",
            "0.20798016044104115\n",
            "0.2032381128109502\n",
            "0.1268452692789457\n",
            "0.02245131546681643\n",
            "-0.059857156117539355\n",
            "-0.06472616449458478\n",
            "-0.0726092103538262\n",
            "-0.03084685157699628\n",
            "-0.03794778953448314\n",
            "[0.7030642526961793, 0.47587535580180385, 0.2974103040805971, 0.22248237555374528, 0.19739629422145782, 0.20798016044104115, 0.2032381128109502, 0.1268452692789457, 0.02245131546681643, -0.059857156117539355, -0.06472616449458478, -0.0726092103538262, -0.03084685157699628, -0.03794778953448314, -0.04538447936529851, -0.07323092778243448, -0.09158143237729469, -0.11273800607693207, -0.07692298311693586]\n"
          ]
        }
      ]
    },
    {
      "cell_type": "code",
      "source": [
        "pd.plotting.autocorrelation_plot(pitch_autocorr)"
      ],
      "metadata": {
        "colab": {
          "base_uri": "https://localhost:8080/",
          "height": 301
        },
        "id": "Y0f7z0Q2kTOX",
        "outputId": "5c331ddc-3d4a-4fd0-a964-c049c479bfc5"
      },
      "execution_count": 51,
      "outputs": [
        {
          "output_type": "execute_result",
          "data": {
            "text/plain": [
              "<matplotlib.axes._subplots.AxesSubplot at 0x7f1ec7640eb0>"
            ]
          },
          "metadata": {},
          "execution_count": 51
        },
        {
          "output_type": "display_data",
          "data": {
            "text/plain": [
              "<Figure size 432x288 with 1 Axes>"
            ],
            "image/png": "[encoded data removed]"
          },
          "metadata": {
            "needs_background": "light"
          }
        }
      ]
    },
    {
      "cell_type": "code",
      "source": [
        "df['pitch'].plot.line()"
      ],
      "metadata": {
        "colab": {
          "base_uri": "https://localhost:8080/",
          "height": 283
        },
        "id": "2gIvBGlrmsdO",
        "outputId": "9c2bab9b-1f44-477c-8125-f1dc0032a080"
      },
      "execution_count": 52,
      "outputs": [
        {
          "output_type": "execute_result",
          "data": {
            "text/plain": [
              "<matplotlib.axes._subplots.AxesSubplot at 0x7f1ec73d0a30>"
            ]
          },
          "metadata": {},
          "execution_count": 52
        },
        {
          "output_type": "display_data",
          "data": {
            "text/plain": [
              "<Figure size 432x288 with 1 Axes>"
            ],
            "image/png": "[encoded data removed]"
          },
          "metadata": {
            "needs_background": "light"
          }
        }
      ]
    },
    {
      "cell_type": "code",
      "source": [
        "adf = sm.tsa.stattools.adfuller(df['pitch'])\n",
        "print(adf)"
      ],
      "metadata": {
        "colab": {
          "base_uri": "https://localhost:8080/"
        },
        "id": "gvYTbxGznDcQ",
        "outputId": "e3aab4e2-e99c-4c9c-b2a7-d044f90343f6"
      },
      "execution_count": 53,
      "outputs": [
        {
          "output_type": "stream",
          "name": "stdout",
          "text": [
            "(-6.010344717258276, 1.5789581051357013e-07, 8, 441, {'1%': -3.4452655826028318, '5%': -2.868116205869215, '10%': -2.570272878944473}, 2276.2320199460414)\n"
          ]
        }
      ]
    },
    {
      "cell_type": "code",
      "source": [
        "sns.histplot(df['pitch'], kde=True, binwidth=1)"
      ],
      "metadata": {
        "colab": {
          "base_uri": "https://localhost:8080/",
          "height": 297
        },
        "id": "-nNdif5og2TA",
        "outputId": "f65a0bc3-30d2-44d0-c064-9b6f505f5599"
      },
      "execution_count": 54,
      "outputs": [
        {
          "output_type": "execute_result",
          "data": {
            "text/plain": [
              "<matplotlib.axes._subplots.AxesSubplot at 0x7f1ec73a0a60>"
            ]
          },
          "metadata": {},
          "execution_count": 54
        },
        {
          "output_type": "display_data",
          "data": {
            "text/plain": [
              "<Figure size 432x288 with 1 Axes>"
            ],
            "image/png": "[encoded data removed]"
          },
          "metadata": {
            "needs_background": "light"
          }
        }
      ]
    },
    {
      "cell_type": "code",
      "source": [
        "df.corr()"
      ],
      "metadata": {
        "colab": {
          "base_uri": "https://localhost:8080/",
          "height": 237
        },
        "id": "noNMIfb-hJn2",
        "outputId": "c32b11fe-9491-4977-b625-bb2659230c52"
      },
      "execution_count": 55,
      "outputs": [
        {
          "output_type": "execute_result",
          "data": {
            "text/plain": [
              "                              0  pitch_differences  abs_pitch_differences  \\\n",
              "0                      1.000000          -0.061628               0.248994   \n",
              "pitch_differences     -0.061628           1.000000               0.015578   \n",
              "abs_pitch_differences  0.248994           0.015578               1.000000   \n",
              "velocities            -0.178110          -0.071242              -0.045845   \n",
              "note_lengths           0.551211          -0.120783               0.069015   \n",
              "pitch                 -0.044195          -0.385301              -0.070434   \n",
              "\n",
              "                       velocities  note_lengths     pitch  \n",
              "0                       -0.178110      0.551211 -0.044195  \n",
              "pitch_differences       -0.071242     -0.120783 -0.385301  \n",
              "abs_pitch_differences   -0.045845      0.069015 -0.070434  \n",
              "velocities               1.000000     -0.158113  0.237051  \n",
              "note_lengths            -0.158113      1.000000  0.100938  \n",
              "pitch                    0.237051      0.100938  1.000000  "
            ],
            "text/html": [
              "\n",
              "  <div id=\"df-7fd26948-8654-48fa-8322-36789804c7d4\">\n",
              "    <div class=\"colab-df-container\">\n",
              "      <div>\n",
              "<style scoped>\n",
              "    .dataframe tbody tr th:only-of-type {\n",
              "        vertical-align: middle;\n",
              "    }\n",
              "\n",
              "    .dataframe tbody tr th {\n",
              "        vertical-align: top;\n",
              "    }\n",
              "\n",
              "    .dataframe thead th {\n",
              "        text-align: right;\n",
              "    }\n",
              "</style>\n",
              "<table border=\"1\" class=\"dataframe\">\n",
              "  <thead>\n",
              "    <tr style=\"text-align: right;\">\n",
              "      <th></th>\n",
              "      <th>0</th>\n",
              "      <th>pitch_differences</th>\n",
              "      <th>abs_pitch_differences</th>\n",
              "      <th>velocities</th>\n",
              "      <th>note_lengths</th>\n",
              "      <th>pitch</th>\n",
              "    </tr>\n",
              "  </thead>\n",
              "  <tbody>\n",
              "    <tr>\n",
              "      <th>0</th>\n",
              "      <td>1.000000</td>\n",
              "      <td>-0.061628</td>\n",
              "      <td>0.248994</td>\n",
              "      <td>-0.178110</td>\n",
              "      <td>0.551211</td>\n",
              "      <td>-0.044195</td>\n",
              "    </tr>\n",
              "    <tr>\n",
              "      <th>pitch_differences</th>\n",
              "      <td>-0.061628</td>\n",
              "      <td>1.000000</td>\n",
              "      <td>0.015578</td>\n",
              "      <td>-0.071242</td>\n",
              "      <td>-0.120783</td>\n",
              "      <td>-0.385301</td>\n",
              "    </tr>\n",
              "    <tr>\n",
              "      <th>abs_pitch_differences</th>\n",
              "      <td>0.248994</td>\n",
              "      <td>0.015578</td>\n",
              "      <td>1.000000</td>\n",
              "      <td>-0.045845</td>\n",
              "      <td>0.069015</td>\n",
              "      <td>-0.070434</td>\n",
              "    </tr>\n",
              "    <tr>\n",
              "      <th>velocities</th>\n",
              "      <td>-0.178110</td>\n",
              "      <td>-0.071242</td>\n",
              "      <td>-0.045845</td>\n",
              "      <td>1.000000</td>\n",
              "      <td>-0.158113</td>\n",
              "      <td>0.237051</td>\n",
              "    </tr>\n",
              "    <tr>\n",
              "      <th>note_lengths</th>\n",
              "      <td>0.551211</td>\n",
              "      <td>-0.120783</td>\n",
              "      <td>0.069015</td>\n",
              "      <td>-0.158113</td>\n",
              "      <td>1.000000</td>\n",
              "      <td>0.100938</td>\n",
              "    </tr>\n",
              "    <tr>\n",
              "      <th>pitch</th>\n",
              "      <td>-0.044195</td>\n",
              "      <td>-0.385301</td>\n",
              "      <td>-0.070434</td>\n",
              "      <td>0.237051</td>\n",
              "      <td>0.100938</td>\n",
              "      <td>1.000000</td>\n",
              "    </tr>\n",
              "  </tbody>\n",
              "</table>\n",
              "</div>\n",
              "      <button class=\"colab-df-convert\" onclick=\"convertToInteractive('df-7fd26948-8654-48fa-8322-36789804c7d4')\"\n",
              "              title=\"Convert this dataframe to an interactive table.\"\n",
              "              style=\"display:none;\">\n",
              "        \n",
              "  <svg xmlns=\"http://www.w3.org/2000/svg\" height=\"24px\"viewBox=\"0 0 24 24\"\n",
              "       width=\"24px\">\n",
              "    <path d=\"M0 0h24v24H0V0z\" fill=\"none\"/>\n",
              "    <path d=\"M18.56 5.44l.94 2.06.94-2.06 2.06-.94-2.06-.94-.94-2.06-.94 2.06-2.06.94zm-11 1L8.5 8.5l.94-2.06 2.06-.94-2.06-.94L8.5 2.5l-.94 2.06-2.06.94zm10 10l.94 2.06.94-2.06 2.06-.94-2.06-.94-.94-2.06-.94 2.06-2.06.94z\"/><path d=\"M17.41 7.96l-1.37-1.37c-.4-.4-.92-.59-1.43-.59-.52 0-1.04.2-1.43.59L10.3 9.45l-7.72 7.72c-.78.78-.78 2.05 0 2.83L4 21.41c.39.39.9.59 1.41.59.51 0 1.02-.2 1.41-.59l7.78-7.78 2.81-2.81c.8-.78.8-2.07 0-2.86zM5.41 20L4 18.59l7.72-7.72 1.47 1.35L5.41 20z\"/>\n",
              "  </svg>\n",
              "      </button>\n",
              "      \n",
              "  <style>\n",
              "    .colab-df-container {\n",
              "      display:flex;\n",
              "      flex-wrap:wrap;\n",
              "      gap: 12px;\n",
              "    }\n",
              "\n",
              "    .colab-df-convert {\n",
              "      background-color: #E8F0FE;\n",
              "      border: none;\n",
              "      border-radius: 50%;\n",
              "      cursor: pointer;\n",
              "      display: none;\n",
              "      fill: #1967D2;\n",
              "      height: 32px;\n",
              "      padding: 0 0 0 0;\n",
              "      width: 32px;\n",
              "    }\n",
              "\n",
              "    .colab-df-convert:hover {\n",
              "      background-color: #E2EBFA;\n",
              "      box-shadow: 0px 1px 2px rgba(60, 64, 67, 0.3), 0px 1px 3px 1px rgba(60, 64, 67, 0.15);\n",
              "      fill: #174EA6;\n",
              "    }\n",
              "\n",
              "    [theme=dark] .colab-df-convert {\n",
              "      background-color: #3B4455;\n",
              "      fill: #D2E3FC;\n",
              "    }\n",
              "\n",
              "    [theme=dark] .colab-df-convert:hover {\n",
              "      background-color: #434B5C;\n",
              "      box-shadow: 0px 1px 3px 1px rgba(0, 0, 0, 0.15);\n",
              "      filter: drop-shadow(0px 1px 2px rgba(0, 0, 0, 0.3));\n",
              "      fill: #FFFFFF;\n",
              "    }\n",
              "  </style>\n",
              "\n",
              "      <script>\n",
              "        const buttonEl =\n",
              "          document.querySelector('#df-7fd26948-8654-48fa-8322-36789804c7d4 button.colab-df-convert');\n",
              "        buttonEl.style.display =\n",
              "          google.colab.kernel.accessAllowed ? 'block' : 'none';\n",
              "\n",
              "        async function convertToInteractive(key) {\n",
              "          const element = document.querySelector('#df-7fd26948-8654-48fa-8322-36789804c7d4');\n",
              "          const dataTable =\n",
              "            await google.colab.kernel.invokeFunction('convertToInteractive',\n",
              "                                                     [key], {});\n",
              "          if (!dataTable) return;\n",
              "\n",
              "          const docLinkHtml = 'Like what you see? Visit the ' +\n",
              "            '<a target=\"_blank\" href=https://colab.research.google.com/notebooks/data_table.ipynb>data table notebook</a>'\n",
              "            + ' to learn more about interactive tables.';\n",
              "          element.innerHTML = '';\n",
              "          dataTable['output_type'] = 'display_data';\n",
              "          await google.colab.output.renderOutput(dataTable, element);\n",
              "          const docLink = document.createElement('div');\n",
              "          docLink.innerHTML = docLinkHtml;\n",
              "          element.appendChild(docLink);\n",
              "        }\n",
              "      </script>\n",
              "    </div>\n",
              "  </div>\n",
              "  "
            ]
          },
          "metadata": {},
          "execution_count": 55
        }
      ]
    },
    {
      "cell_type": "markdown",
      "source": [
        "# A Slightly Less Boring Model\n",
        "\n",
        "This model will use the simple linear regressions between note lengths and pitch difference, and velocity and pitch difference to create a MIDI file that sounds less robotic if still somewhat boring."
      ],
      "metadata": {
        "id": "Bs9ak7aqS3c8"
      }
    },
    {
      "cell_type": "code",
      "source": [
        "generating_seed = 0\n",
        "# categories correspond to the pitch classes in pretty_midi (0 = C, 1 = C#, ..., 11 = B)\n",
        "categories = [0, 1, 2, 3, 4, 5, 6, 7, 8, 9, 10, 11]\n",
        "notes = np.array([])\n",
        "notes = np.append(notes, generating_seed)\n",
        "for note in range(100):\n",
        "  probs = normalized_transition_matrix[generating_seed]\n",
        "  next_generating_seed = np.random.choice(categories, p=probs)\n",
        "  notes = np.append(notes, next_generating_seed)\n",
        "  generating_seed = next_generating_seed\n",
        "\n",
        "note_diffs = np.diff(notes)\n",
        "generated_note_lengths = note_lengths_reg.predict(note_diffs)\n",
        "\n",
        "# add to MIDI file\n",
        "markov_generation = pretty_midi.PrettyMIDI(initial_tempo=200)\n",
        "inst = pretty_midi.Instrument(program=66, is_drum=False, name='Tenor Sax')\n",
        "markov_generation.instruments.append(inst)\n",
        "velocity = 100\n",
        "for pitch, start, end in zip(notes, [x for x in range(len(notes))], [x+1.0 for x in range(len(notes))]):\n",
        "    inst.notes.append(pretty_midi.Note(int(velocity), int(pitch)+48, start, end))\n",
        "print(inst.notes)"
      ],
      "metadata": {
        "id": "Z3dxkGd5TIxW",
        "colab": {
          "base_uri": "https://localhost:8080/",
          "height": 423
        },
        "outputId": "07d65e58-925d-4a52-8358-8403ef794611"
      },
      "execution_count": 56,
      "outputs": [
        {
          "output_type": "error",
          "ename": "ValueError",
          "evalue": "ignored",
          "traceback": [
            "\u001b[0;31m---------------------------------------------------------------------------\u001b[0m",
            "\u001b[0;31mValueError\u001b[0m                                Traceback (most recent call last)",
            "\u001b[0;32m<ipython-input-56-74b3d58c4c79>\u001b[0m in \u001b[0;36m<module>\u001b[0;34m\u001b[0m\n\u001b[1;32m     11\u001b[0m \u001b[0;34m\u001b[0m\u001b[0m\n\u001b[1;32m     12\u001b[0m \u001b[0mnote_diffs\u001b[0m \u001b[0;34m=\u001b[0m \u001b[0mnp\u001b[0m\u001b[0;34m.\u001b[0m\u001b[0mdiff\u001b[0m\u001b[0;34m(\u001b[0m\u001b[0mnotes\u001b[0m\u001b[0;34m)\u001b[0m\u001b[0;34m\u001b[0m\u001b[0;34m\u001b[0m\u001b[0m\n\u001b[0;32m---> 13\u001b[0;31m \u001b[0mgenerated_note_lengths\u001b[0m \u001b[0;34m=\u001b[0m \u001b[0mnote_lengths_reg\u001b[0m\u001b[0;34m.\u001b[0m\u001b[0mpredict\u001b[0m\u001b[0;34m(\u001b[0m\u001b[0mnote_diffs\u001b[0m\u001b[0;34m)\u001b[0m\u001b[0;34m\u001b[0m\u001b[0;34m\u001b[0m\u001b[0m\n\u001b[0m\u001b[1;32m     14\u001b[0m \u001b[0;34m\u001b[0m\u001b[0m\n\u001b[1;32m     15\u001b[0m \u001b[0;31m# add to MIDI file\u001b[0m\u001b[0;34m\u001b[0m\u001b[0;34m\u001b[0m\u001b[0;34m\u001b[0m\u001b[0m\n",
            "\u001b[0;32m/usr/local/lib/python3.8/dist-packages/statsmodels/base/model.py\u001b[0m in \u001b[0;36mpredict\u001b[0;34m(self, exog, transform, *args, **kwargs)\u001b[0m\n\u001b[1;32m   1097\u001b[0m             \u001b[0mexog\u001b[0m \u001b[0;34m=\u001b[0m \u001b[0mnp\u001b[0m\u001b[0;34m.\u001b[0m\u001b[0matleast_2d\u001b[0m\u001b[0;34m(\u001b[0m\u001b[0mexog\u001b[0m\u001b[0;34m)\u001b[0m  \u001b[0;31m# needed in count model shape[1]\u001b[0m\u001b[0;34m\u001b[0m\u001b[0;34m\u001b[0m\u001b[0m\n\u001b[1;32m   1098\u001b[0m \u001b[0;34m\u001b[0m\u001b[0m\n\u001b[0;32m-> 1099\u001b[0;31m         predict_results = self.model.predict(self.params, exog, *args,\n\u001b[0m\u001b[1;32m   1100\u001b[0m                                              **kwargs)\n\u001b[1;32m   1101\u001b[0m \u001b[0;34m\u001b[0m\u001b[0m\n",
            "\u001b[0;32m/usr/local/lib/python3.8/dist-packages/statsmodels/regression/linear_model.py\u001b[0m in \u001b[0;36mpredict\u001b[0;34m(self, params, exog)\u001b[0m\n\u001b[1;32m    378\u001b[0m             \u001b[0mexog\u001b[0m \u001b[0;34m=\u001b[0m \u001b[0mself\u001b[0m\u001b[0;34m.\u001b[0m\u001b[0mexog\u001b[0m\u001b[0;34m\u001b[0m\u001b[0;34m\u001b[0m\u001b[0m\n\u001b[1;32m    379\u001b[0m \u001b[0;34m\u001b[0m\u001b[0m\n\u001b[0;32m--> 380\u001b[0;31m         \u001b[0;32mreturn\u001b[0m \u001b[0mnp\u001b[0m\u001b[0;34m.\u001b[0m\u001b[0mdot\u001b[0m\u001b[0;34m(\u001b[0m\u001b[0mexog\u001b[0m\u001b[0;34m,\u001b[0m \u001b[0mparams\u001b[0m\u001b[0;34m)\u001b[0m\u001b[0;34m\u001b[0m\u001b[0;34m\u001b[0m\u001b[0m\n\u001b[0m\u001b[1;32m    381\u001b[0m \u001b[0;34m\u001b[0m\u001b[0m\n\u001b[1;32m    382\u001b[0m     \u001b[0;32mdef\u001b[0m \u001b[0mget_distribution\u001b[0m\u001b[0;34m(\u001b[0m\u001b[0mself\u001b[0m\u001b[0;34m,\u001b[0m \u001b[0mparams\u001b[0m\u001b[0;34m,\u001b[0m \u001b[0mscale\u001b[0m\u001b[0;34m,\u001b[0m \u001b[0mexog\u001b[0m\u001b[0;34m=\u001b[0m\u001b[0;32mNone\u001b[0m\u001b[0;34m,\u001b[0m \u001b[0mdist_class\u001b[0m\u001b[0;34m=\u001b[0m\u001b[0;32mNone\u001b[0m\u001b[0;34m)\u001b[0m\u001b[0;34m:\u001b[0m\u001b[0;34m\u001b[0m\u001b[0;34m\u001b[0m\u001b[0m\n",
            "\u001b[0;32m<__array_function__ internals>\u001b[0m in \u001b[0;36mdot\u001b[0;34m(*args, **kwargs)\u001b[0m\n",
            "\u001b[0;31mValueError\u001b[0m: shapes (1,100) and (2,) not aligned: 100 (dim 1) != 2 (dim 0)"
          ]
        }
      ]
    },
    {
      "cell_type": "code",
      "source": [
        "generating_seed = 0\n",
        "\n",
        "categories = [0, 1, 2, 3, 4, 5, 6, 7, 8, 9, 10, 11]\n",
        "notes = np.array([])\n",
        "notes = np.append(notes, generating_seed)\n",
        "for note in range(100):\n",
        "  probs = normalized_transition_matrix[generating_seed]\n",
        "  next_generating_seed = np.random.choice(categories, p=probs)\n",
        "  notes = np.append(notes, next_generating_seed)\n",
        "  generating_seed = next_generating_seed\n",
        "\n",
        "note_diffs = np.diff(notes)\n",
        "\n",
        "X = note_diffs\n",
        "X = sm.add_constant(X)\n",
        "generated_note_lengths = note_lengths_reg.predict(X)\n",
        "generated_velocities = velocity_reg.predict(X)"
      ],
      "metadata": {
        "id": "MF-lyKWR3KpS"
      },
      "execution_count": 57,
      "outputs": []
    },
    {
      "cell_type": "code",
      "source": [
        "cumulative_note_lengths = np.cumsum(generated_note_lengths)\n",
        "note_starts = cumulative_note_lengths - generated_note_lengths\n",
        "note_ends = cumulative_note_lengths"
      ],
      "metadata": {
        "colab": {
          "base_uri": "https://localhost:8080/"
        },
        "id": "KHflg3ToH6SJ",
        "outputId": "456142a6-9539-40de-86fe-1b81a013d8c1"
      },
      "execution_count": 58,
      "outputs": [
        {
          "output_type": "stream",
          "name": "stdout",
          "text": [
            "[ 0.165899    0.37481798  0.58373695  0.78309594  1.03503488  1.24873386\n",
            "  1.45287283  1.61877184  1.83725081  2.05094978  2.28854874  2.48790772\n",
            "  2.71116669  2.90574567  3.10510465  3.29012364  3.50860261  3.70796159\n",
            "  3.95990054  4.17359951  4.38729849  4.5436375   4.80513644  4.96147545\n",
            "  5.17995442  5.39843339  5.60735236  5.80193135  6.00607032  6.23888929\n",
            "  6.44302826  6.66150723  6.86086621  7.09368518  7.29304416  7.48762314\n",
            "  7.69176212  7.8863411   8.11916007  8.34719903  8.53699802  8.731577\n",
            "  8.93093598  9.19243492  9.34877393  9.55769291  9.81919185  9.97553086\n",
            " 10.21790981 10.42204879 10.63574777 10.83032675 11.06314571 11.26250469\n",
            " 11.45708368 11.67556265 11.89404162 12.09818059 12.29753958 12.52557854\n",
            " 12.69147754 12.94341649 13.14277547 13.34213445 13.54627343 13.75041241\n",
            " 13.9449914  14.19693034 14.39628933 14.59086831 14.82368727 15.02782625\n",
            " 15.23196523 15.46000419 15.6211232  15.86828215 16.07242113 16.27656011\n",
            " 16.49503908 16.66093808 16.87941705 17.08833602 17.292475   17.49661398\n",
            " 17.72943294 17.92401193 18.12337091 18.33228988 18.59378883 18.75012783\n",
            " 18.9781668  19.18708577 19.41990473 19.58580374 19.83774268 20.01798168\n",
            " 20.21256066 20.44059963 20.67341859 20.87277757]\n",
            "[ 0.          0.165899    0.37481798  0.58373695  0.78309594  1.03503488\n",
            "  1.24873386  1.45287283  1.61877184  1.83725081  2.05094978  2.28854874\n",
            "  2.48790772  2.71116669  2.90574567  3.10510465  3.29012364  3.50860261\n",
            "  3.70796159  3.95990054  4.17359951  4.38729849  4.5436375   4.80513644\n",
            "  4.96147545  5.17995442  5.39843339  5.60735236  5.80193135  6.00607032\n",
            "  6.23888929  6.44302826  6.66150723  6.86086621  7.09368518  7.29304416\n",
            "  7.48762314  7.69176212  7.8863411   8.11916007  8.34719903  8.53699802\n",
            "  8.731577    8.93093598  9.19243492  9.34877393  9.55769291  9.81919185\n",
            "  9.97553086 10.21790981 10.42204879 10.63574777 10.83032675 11.06314571\n",
            " 11.26250469 11.45708368 11.67556265 11.89404162 12.09818059 12.29753958\n",
            " 12.52557854 12.69147754 12.94341649 13.14277547 13.34213445 13.54627343\n",
            " 13.75041241 13.9449914  14.19693034 14.39628933 14.59086831 14.82368727\n",
            " 15.02782625 15.23196523 15.46000419 15.6211232  15.86828215 16.07242113\n",
            " 16.27656011 16.49503908 16.66093808 16.87941705 17.08833602 17.292475\n",
            " 17.49661398 17.72943294 17.92401193 18.12337091 18.33228988 18.59378883\n",
            " 18.75012783 18.9781668  19.18708577 19.41990473 19.58580374 19.83774268\n",
            " 20.01798168 20.21256066 20.44059963 20.67341859]\n"
          ]
        }
      ]
    },
    {
      "cell_type": "code",
      "source": [
        "better_markov_generation = pretty_midi.PrettyMIDI(initial_tempo=200)\n",
        "inst = pretty_midi.Instrument(program=66, is_drum=False, name='Tenor Sax')\n",
        "better_markov_generation.instruments.append(inst)\n",
        "\n",
        "for pitch, velocity, start, end in zip(notes, generated_velocities, note_starts, note_ends):\n",
        "    inst.notes.append(pretty_midi.Note(int(velocity), int(pitch)+48, start, end))\n",
        "print(inst.notes)"
      ],
      "metadata": {
        "colab": {
          "base_uri": "https://localhost:8080/"
        },
        "id": "cT8jdGTQ3W2v",
        "outputId": "4d9f556a-3e43-423a-bfbb-67bed9734709"
      },
      "execution_count": 59,
      "outputs": [
        {
          "output_type": "stream",
          "name": "stdout",
          "text": [
            "[Note(start=0.000000, end=0.165899, pitch=48, velocity=101), Note(start=0.165899, end=0.374818, pitch=57, velocity=102), Note(start=0.374818, end=0.583737, pitch=57, velocity=102), Note(start=0.583737, end=0.783096, pitch=57, velocity=102), Note(start=0.783096, end=1.035035, pitch=59, velocity=104), Note(start=1.035035, end=1.248734, pitch=50, velocity=102), Note(start=1.248734, end=1.452873, pitch=49, velocity=102), Note(start=1.452873, end=1.618772, pitch=50, velocity=101), Note(start=1.618772, end=1.837251, pitch=59, velocity=103), Note(start=1.837251, end=2.050950, pitch=57, velocity=102), Note(start=2.050950, end=2.288549, pitch=56, velocity=103), Note(start=2.288549, end=2.487908, pitch=50, velocity=102), Note(start=2.487908, end=2.711167, pitch=52, velocity=103), Note(start=2.711167, end=2.905746, pitch=49, velocity=102), Note(start=2.905746, end=3.105105, pitch=52, velocity=102), Note(start=3.105105, end=3.290124, pitch=54, velocity=101), Note(start=3.290124, end=3.508603, pitch=59, velocity=103), Note(start=3.508603, end=3.707962, pitch=57, velocity=102), Note(start=3.707962, end=3.959901, pitch=59, velocity=104), Note(start=3.959901, end=4.173600, pitch=50, velocity=102), Note(start=4.173600, end=4.387298, pitch=49, velocity=102), Note(start=4.387298, end=4.543637, pitch=48, velocity=100), Note(start=4.543637, end=4.805136, pitch=59, velocity=104), Note(start=4.805136, end=4.961475, pitch=48, velocity=100), Note(start=4.961475, end=5.179954, pitch=59, velocity=103), Note(start=5.179954, end=5.398433, pitch=57, velocity=103), Note(start=5.398433, end=5.607352, pitch=55, velocity=102), Note(start=5.607352, end=5.801931, pitch=55, velocity=102), Note(start=5.801931, end=6.006070, pitch=58, velocity=102), Note(start=6.006070, end=6.238889, pitch=59, velocity=103), Note(start=6.238889, end=6.443028, pitch=54, velocity=102), Note(start=6.443028, end=6.661507, pitch=55, velocity=103), Note(start=6.661507, end=6.860866, pitch=53, velocity=102), Note(start=6.860866, end=7.093685, pitch=55, velocity=103), Note(start=7.093685, end=7.293044, pitch=50, velocity=102), Note(start=7.293044, end=7.487623, pitch=52, velocity=102), Note(start=7.487623, end=7.691762, pitch=55, velocity=102), Note(start=7.691762, end=7.886341, pitch=56, velocity=102), Note(start=7.886341, end=8.119160, pitch=59, velocity=103), Note(start=8.119160, end=8.347199, pitch=54, velocity=103), Note(start=8.347199, end=8.536998, pitch=50, velocity=101), Note(start=8.536998, end=8.731577, pitch=54, velocity=102), Note(start=8.731577, end=8.930936, pitch=57, velocity=102), Note(start=8.930936, end=9.192435, pitch=59, velocity=104), Note(start=9.192435, end=9.348774, pitch=48, velocity=100), Note(start=9.348774, end=9.557693, pitch=59, velocity=102), Note(start=9.557693, end=9.819192, pitch=59, velocity=104), Note(start=9.819192, end=9.975531, pitch=48, velocity=100), Note(start=9.975531, end=10.217910, pitch=59, velocity=103), Note(start=10.217910, end=10.422049, pitch=52, velocity=102), Note(start=10.422049, end=10.635748, pitch=53, velocity=102), Note(start=10.635748, end=10.830327, pitch=52, velocity=102), Note(start=10.830327, end=11.063146, pitch=55, velocity=103), Note(start=11.063146, end=11.262505, pitch=50, velocity=102), Note(start=11.262505, end=11.457084, pitch=52, velocity=102), Note(start=11.457084, end=11.675563, pitch=55, velocity=103), Note(start=11.675563, end=11.894042, pitch=53, velocity=103), Note(start=11.894042, end=12.098181, pitch=51, velocity=102), Note(start=12.098181, end=12.297540, pitch=52, velocity=102), Note(start=12.297540, end=12.525579, pitch=54, velocity=103), Note(start=12.525579, end=12.691478, pitch=50, velocity=101), Note(start=12.691478, end=12.943416, pitch=59, velocity=104), Note(start=12.943416, end=13.142775, pitch=50, velocity=102), Note(start=13.142775, end=13.342134, pitch=52, velocity=102), Note(start=13.342134, end=13.546273, pitch=54, velocity=102), Note(start=13.546273, end=13.750412, pitch=55, velocity=102), Note(start=13.750412, end=13.944991, pitch=56, velocity=102), Note(start=13.944991, end=14.196930, pitch=59, velocity=104), Note(start=14.196930, end=14.396289, pitch=50, velocity=102), Note(start=14.396289, end=14.590868, pitch=52, velocity=102), Note(start=14.590868, end=14.823687, pitch=55, velocity=103), Note(start=14.823687, end=15.027826, pitch=50, velocity=102), Note(start=15.027826, end=15.231965, pitch=51, velocity=102), Note(start=15.231965, end=15.460004, pitch=52, velocity=103), Note(start=15.460004, end=15.621123, pitch=48, velocity=100), Note(start=15.621123, end=15.868282, pitch=58, velocity=104), Note(start=15.868282, end=16.072421, pitch=50, velocity=102), Note(start=16.072421, end=16.276560, pitch=51, velocity=102), Note(start=16.276560, end=16.495039, pitch=52, velocity=103), Note(start=16.495039, end=16.660938, pitch=50, velocity=101), Note(start=16.660938, end=16.879417, pitch=59, velocity=103), Note(start=16.879417, end=17.088336, pitch=57, velocity=102), Note(start=17.088336, end=17.292475, pitch=57, velocity=102), Note(start=17.292475, end=17.496614, pitch=58, velocity=102), Note(start=17.496614, end=17.729433, pitch=59, velocity=103), Note(start=17.729433, end=17.924012, pitch=54, velocity=102), Note(start=17.924012, end=18.123371, pitch=57, velocity=102), Note(start=18.123371, end=18.332290, pitch=59, velocity=102), Note(start=18.332290, end=18.593789, pitch=59, velocity=104), Note(start=18.593789, end=18.750128, pitch=48, velocity=100), Note(start=18.750128, end=18.978167, pitch=59, velocity=103), Note(start=18.978167, end=19.187086, pitch=55, velocity=102), Note(start=19.187086, end=19.419905, pitch=55, velocity=103), Note(start=19.419905, end=19.585804, pitch=50, velocity=101), Note(start=19.585804, end=19.837743, pitch=59, velocity=104), Note(start=19.837743, end=20.017982, pitch=50, velocity=101), Note(start=20.017982, end=20.212561, pitch=56, velocity=102), Note(start=20.212561, end=20.440600, pitch=59, velocity=103), Note(start=20.440600, end=20.673419, pitch=55, velocity=103), Note(start=20.673419, end=20.872778, pitch=50, velocity=102)]\n"
          ]
        }
      ]
    },
    {
      "cell_type": "code",
      "source": [
        "better_markov_generation.write('better_test_file.mid')"
      ],
      "metadata": {
        "id": "FNWwdOfgJU7N"
      },
      "execution_count": 60,
      "outputs": []
    },
    {
      "cell_type": "code",
      "source": [
        "generated_file = pd.DataFrame()\n",
        "\n",
        "instrument = better_markov_generation.instruments[0]\n",
        "notes_array = instrument.notes\n",
        "print(notes_array)\n",
        "\n",
        "pitch = np.array([])\n",
        "note_lengths = np.array([])\n",
        "\n",
        "for note in notes_array:\n",
        "  pitch = np.append(pitch, note.pitch)\n",
        "\n",
        "for note in notes_array:\n",
        "  note_lengths = np.append(note_lengths, note.end - note.start)\n",
        "\n",
        "generated_file['pitch'] = pd.Series(pitch)\n",
        "\n",
        "note_lengths = np.array([])\n",
        "for note in notes_array:\n",
        "  note_lengths = np.append(note_lengths, note.end - note.start)\n",
        "\n",
        "df['note_lengths'] = pd.Series(note_lengths)"
      ],
      "metadata": {
        "colab": {
          "base_uri": "https://localhost:8080/"
        },
        "id": "Ml1cCqM2BKdh",
        "outputId": "0827726b-8842-41ee-e7e2-66652ceadb80"
      },
      "execution_count": 63,
      "outputs": [
        {
          "output_type": "stream",
          "name": "stdout",
          "text": [
            "[Note(start=0.000000, end=0.165899, pitch=48, velocity=101), Note(start=0.165899, end=0.374818, pitch=57, velocity=102), Note(start=0.374818, end=0.583737, pitch=57, velocity=102), Note(start=0.583737, end=0.783096, pitch=57, velocity=102), Note(start=0.783096, end=1.035035, pitch=59, velocity=104), Note(start=1.035035, end=1.248734, pitch=50, velocity=102), Note(start=1.248734, end=1.452873, pitch=49, velocity=102), Note(start=1.452873, end=1.618772, pitch=50, velocity=101), Note(start=1.618772, end=1.837251, pitch=59, velocity=103), Note(start=1.837251, end=2.050950, pitch=57, velocity=102), Note(start=2.050950, end=2.288549, pitch=56, velocity=103), Note(start=2.288549, end=2.487908, pitch=50, velocity=102), Note(start=2.487908, end=2.711167, pitch=52, velocity=103), Note(start=2.711167, end=2.905746, pitch=49, velocity=102), Note(start=2.905746, end=3.105105, pitch=52, velocity=102), Note(start=3.105105, end=3.290124, pitch=54, velocity=101), Note(start=3.290124, end=3.508603, pitch=59, velocity=103), Note(start=3.508603, end=3.707962, pitch=57, velocity=102), Note(start=3.707962, end=3.959901, pitch=59, velocity=104), Note(start=3.959901, end=4.173600, pitch=50, velocity=102), Note(start=4.173600, end=4.387298, pitch=49, velocity=102), Note(start=4.387298, end=4.543637, pitch=48, velocity=100), Note(start=4.543637, end=4.805136, pitch=59, velocity=104), Note(start=4.805136, end=4.961475, pitch=48, velocity=100), Note(start=4.961475, end=5.179954, pitch=59, velocity=103), Note(start=5.179954, end=5.398433, pitch=57, velocity=103), Note(start=5.398433, end=5.607352, pitch=55, velocity=102), Note(start=5.607352, end=5.801931, pitch=55, velocity=102), Note(start=5.801931, end=6.006070, pitch=58, velocity=102), Note(start=6.006070, end=6.238889, pitch=59, velocity=103), Note(start=6.238889, end=6.443028, pitch=54, velocity=102), Note(start=6.443028, end=6.661507, pitch=55, velocity=103), Note(start=6.661507, end=6.860866, pitch=53, velocity=102), Note(start=6.860866, end=7.093685, pitch=55, velocity=103), Note(start=7.093685, end=7.293044, pitch=50, velocity=102), Note(start=7.293044, end=7.487623, pitch=52, velocity=102), Note(start=7.487623, end=7.691762, pitch=55, velocity=102), Note(start=7.691762, end=7.886341, pitch=56, velocity=102), Note(start=7.886341, end=8.119160, pitch=59, velocity=103), Note(start=8.119160, end=8.347199, pitch=54, velocity=103), Note(start=8.347199, end=8.536998, pitch=50, velocity=101), Note(start=8.536998, end=8.731577, pitch=54, velocity=102), Note(start=8.731577, end=8.930936, pitch=57, velocity=102), Note(start=8.930936, end=9.192435, pitch=59, velocity=104), Note(start=9.192435, end=9.348774, pitch=48, velocity=100), Note(start=9.348774, end=9.557693, pitch=59, velocity=102), Note(start=9.557693, end=9.819192, pitch=59, velocity=104), Note(start=9.819192, end=9.975531, pitch=48, velocity=100), Note(start=9.975531, end=10.217910, pitch=59, velocity=103), Note(start=10.217910, end=10.422049, pitch=52, velocity=102), Note(start=10.422049, end=10.635748, pitch=53, velocity=102), Note(start=10.635748, end=10.830327, pitch=52, velocity=102), Note(start=10.830327, end=11.063146, pitch=55, velocity=103), Note(start=11.063146, end=11.262505, pitch=50, velocity=102), Note(start=11.262505, end=11.457084, pitch=52, velocity=102), Note(start=11.457084, end=11.675563, pitch=55, velocity=103), Note(start=11.675563, end=11.894042, pitch=53, velocity=103), Note(start=11.894042, end=12.098181, pitch=51, velocity=102), Note(start=12.098181, end=12.297540, pitch=52, velocity=102), Note(start=12.297540, end=12.525579, pitch=54, velocity=103), Note(start=12.525579, end=12.691478, pitch=50, velocity=101), Note(start=12.691478, end=12.943416, pitch=59, velocity=104), Note(start=12.943416, end=13.142775, pitch=50, velocity=102), Note(start=13.142775, end=13.342134, pitch=52, velocity=102), Note(start=13.342134, end=13.546273, pitch=54, velocity=102), Note(start=13.546273, end=13.750412, pitch=55, velocity=102), Note(start=13.750412, end=13.944991, pitch=56, velocity=102), Note(start=13.944991, end=14.196930, pitch=59, velocity=104), Note(start=14.196930, end=14.396289, pitch=50, velocity=102), Note(start=14.396289, end=14.590868, pitch=52, velocity=102), Note(start=14.590868, end=14.823687, pitch=55, velocity=103), Note(start=14.823687, end=15.027826, pitch=50, velocity=102), Note(start=15.027826, end=15.231965, pitch=51, velocity=102), Note(start=15.231965, end=15.460004, pitch=52, velocity=103), Note(start=15.460004, end=15.621123, pitch=48, velocity=100), Note(start=15.621123, end=15.868282, pitch=58, velocity=104), Note(start=15.868282, end=16.072421, pitch=50, velocity=102), Note(start=16.072421, end=16.276560, pitch=51, velocity=102), Note(start=16.276560, end=16.495039, pitch=52, velocity=103), Note(start=16.495039, end=16.660938, pitch=50, velocity=101), Note(start=16.660938, end=16.879417, pitch=59, velocity=103), Note(start=16.879417, end=17.088336, pitch=57, velocity=102), Note(start=17.088336, end=17.292475, pitch=57, velocity=102), Note(start=17.292475, end=17.496614, pitch=58, velocity=102), Note(start=17.496614, end=17.729433, pitch=59, velocity=103), Note(start=17.729433, end=17.924012, pitch=54, velocity=102), Note(start=17.924012, end=18.123371, pitch=57, velocity=102), Note(start=18.123371, end=18.332290, pitch=59, velocity=102), Note(start=18.332290, end=18.593789, pitch=59, velocity=104), Note(start=18.593789, end=18.750128, pitch=48, velocity=100), Note(start=18.750128, end=18.978167, pitch=59, velocity=103), Note(start=18.978167, end=19.187086, pitch=55, velocity=102), Note(start=19.187086, end=19.419905, pitch=55, velocity=103), Note(start=19.419905, end=19.585804, pitch=50, velocity=101), Note(start=19.585804, end=19.837743, pitch=59, velocity=104), Note(start=19.837743, end=20.017982, pitch=50, velocity=101), Note(start=20.017982, end=20.212561, pitch=56, velocity=102), Note(start=20.212561, end=20.440600, pitch=59, velocity=103), Note(start=20.440600, end=20.673419, pitch=55, velocity=103), Note(start=20.673419, end=20.872778, pitch=50, velocity=102)]\n"
          ]
        }
      ]
    },
    {
      "cell_type": "code",
      "source": [
        "sns.histplot(df['note_lengths'], stat='probability', kde=True)"
      ],
      "metadata": {
        "colab": {
          "base_uri": "https://localhost:8080/",
          "height": 298
        },
        "id": "RUU5d1e0BzsQ",
        "outputId": "e3c1dc30-2636-48bc-cd6e-aa320e00afa5"
      },
      "execution_count": 64,
      "outputs": [
        {
          "output_type": "execute_result",
          "data": {
            "text/plain": [
              "<matplotlib.axes._subplots.AxesSubplot at 0x7f1ec728a3a0>"
            ]
          },
          "metadata": {},
          "execution_count": 64
        },
        {
          "output_type": "display_data",
          "data": {
            "text/plain": [
              "<Figure size 432x288 with 1 Axes>"
            ],
            "image/png": "[encoded data removed]"
          },
          "metadata": {
            "needs_background": "light"
          }
        }
      ]
    },
    {
      "cell_type": "code",
      "source": [
        "sns.histplot(df['pitch'], stat='probability', kde=True)"
      ],
      "metadata": {
        "colab": {
          "base_uri": "https://localhost:8080/",
          "height": 297
        },
        "id": "6YnRLkzoB42Z",
        "outputId": "73ca2c55-5587-4aa7-dcbc-f15836c89fe0"
      },
      "execution_count": 65,
      "outputs": [
        {
          "output_type": "execute_result",
          "data": {
            "text/plain": [
              "<matplotlib.axes._subplots.AxesSubplot at 0x7f1ec6bbd7f0>"
            ]
          },
          "metadata": {},
          "execution_count": 65
        },
        {
          "output_type": "display_data",
          "data": {
            "text/plain": [
              "<Figure size 432x288 with 1 Axes>"
            ],
            "image/png": "[encoded data removed]"
          },
          "metadata": {
            "needs_background": "light"
          }
        }
      ]
    },
    {
      "cell_type": "markdown",
      "source": [
        "# The Glorious LSTM Model"
      ],
      "metadata": {
        "id": "uOtRvM-xKgl4"
      }
    },
    {
      "cell_type": "code",
      "source": [
        "pitchnames = sorted(set(item for item in df['pitch']))\n",
        "note_to_int = dict((note, number) for number, note in enumerate(pitchnames))\n",
        "print(note_to_int)\n",
        "\n",
        "sequence_length = 10\n",
        "pitch_inputs = []\n",
        "pitch_outputs = []\n",
        "\n",
        "for i in range(0, len(df['pitch']) - sequence_length, 1):\n",
        "    sequence_in = df['pitch'][i:i + sequence_length]\n",
        "    sequence_out = df['pitch'][i + sequence_length]\n",
        "    pitch_inputs.append([note_to_int[char] for char in sequence_in])\n",
        "    pitch_outputs.append(note_to_int[sequence_out])"
      ],
      "metadata": {
        "id": "4jUOt78LL1mz",
        "colab": {
          "base_uri": "https://localhost:8080/"
        },
        "outputId": "7a1d09eb-a3ef-44cd-ee91-d68fdc36fc3d"
      },
      "execution_count": 66,
      "outputs": [
        {
          "output_type": "stream",
          "name": "stdout",
          "text": [
            "{49.0: 0, 50.0: 1, 51.0: 2, 52.0: 3, 53.0: 4, 54.0: 5, 55.0: 6, 56.0: 7, 57.0: 8, 58.0: 9, 59.0: 10, 60.0: 11, 61.0: 12, 62.0: 13, 63.0: 14, 64.0: 15, 65.0: 16, 66.0: 17, 67.0: 18, 68.0: 19, 69.0: 20, 70.0: 21, 71.0: 22, 72.0: 23}\n"
          ]
        }
      ]
    },
    {
      "cell_type": "code",
      "source": [
        "import tensorflow as tf\n",
        "pitch_inputs = np.reshape(pitch_inputs, (len(pitch_inputs), sequence_length, 1))\n",
        "pitch_outputs = tf.keras.utils.to_categorical(pitch_outputs, num_classes=24)\n",
        "pitch_outputs = np.asarray(pitch_outputs)\n",
        "#pitch_outputs = np.reshape(pitch_outputs, (len(pitch_outputs), 24, 1))"
      ],
      "metadata": {
        "id": "w9xyoeaeNIGw"
      },
      "execution_count": 67,
      "outputs": []
    },
    {
      "cell_type": "code",
      "source": [
        "pitch_inputs = np.asarray(pitch_inputs)"
      ],
      "metadata": {
        "id": "XvtnQjXDSj1q"
      },
      "execution_count": 68,
      "outputs": []
    },
    {
      "cell_type": "code",
      "source": [
        "print(pitch_inputs.shape)\n",
        "print(pitch_outputs.shape)"
      ],
      "metadata": {
        "colab": {
          "base_uri": "https://localhost:8080/"
        },
        "id": "uYe0PDiFTzDt",
        "outputId": "55f18705-8708-4717-9285-59b678c654bf"
      },
      "execution_count": 69,
      "outputs": [
        {
          "output_type": "stream",
          "name": "stdout",
          "text": [
            "(440, 10, 1)\n",
            "(440, 24)\n"
          ]
        }
      ]
    },
    {
      "cell_type": "code",
      "source": [
        "from tensorflow.keras.models import Sequential\n",
        "from tensorflow.keras.layers import LSTM, Dense, Dropout, Activation\n",
        "from tensorflow.keras.losses import sparse_categorical_crossentropy\n",
        "\n",
        "model = Sequential()\n",
        "model.add(LSTM(256, input_shape = (pitch_inputs.shape[1], pitch_inputs.shape[2])))\n",
        "model.add(Dropout(0.2))\n",
        "model.add(Dense(24))\n",
        "model.add(Activation('softmax'))\n",
        "model.compile(loss='categorical_crossentropy', optimizer='adam')"
      ],
      "metadata": {
        "id": "AeuANRUuKh96"
      },
      "execution_count": 79,
      "outputs": []
    },
    {
      "cell_type": "code",
      "source": [
        "print(pitch_inputs.shape)\n",
        "print(pitch_outputs.shape)"
      ],
      "metadata": {
        "id": "n3Zf6-73aD_I",
        "outputId": "7d4a5ddc-fc4e-48cb-d17f-db062f73da7d",
        "colab": {
          "base_uri": "https://localhost:8080/"
        }
      },
      "execution_count": 80,
      "outputs": [
        {
          "output_type": "stream",
          "name": "stdout",
          "text": [
            "(440, 10, 1)\n",
            "(440, 24)\n"
          ]
        }
      ]
    },
    {
      "cell_type": "code",
      "source": [
        "model.fit(pitch_inputs, pitch_outputs, epochs=200, batch_size=64)"
      ],
      "metadata": {
        "colab": {
          "base_uri": "https://localhost:8080/"
        },
        "id": "qWq-4orUQd2S",
        "outputId": "4ff83644-8d0a-49fc-ab52-24216a3fd8e4"
      },
      "execution_count": 81,
      "outputs": [
        {
          "output_type": "stream",
          "name": "stdout",
          "text": [
            "Epoch 1/200\n",
            "7/7 [==============================] - 3s 53ms/step - loss: 3.0576\n",
            "Epoch 2/200\n",
            "7/7 [==============================] - 0s 54ms/step - loss: 2.7829\n",
            "Epoch 3/200\n",
            "7/7 [==============================] - 0s 57ms/step - loss: 2.7633\n",
            "Epoch 4/200\n",
            "7/7 [==============================] - 1s 78ms/step - loss: 2.7229\n",
            "Epoch 5/200\n",
            "7/7 [==============================] - 1s 79ms/step - loss: 2.7082\n",
            "Epoch 6/200\n",
            "7/7 [==============================] - 1s 84ms/step - loss: 2.6701\n",
            "Epoch 7/200\n",
            "7/7 [==============================] - 1s 78ms/step - loss: 2.6504\n",
            "Epoch 8/200\n",
            "7/7 [==============================] - 1s 78ms/step - loss: 2.6281\n",
            "Epoch 9/200\n",
            "7/7 [==============================] - 1s 77ms/step - loss: 2.6199\n",
            "Epoch 10/200\n",
            "7/7 [==============================] - 1s 79ms/step - loss: 2.5945\n",
            "Epoch 11/200\n",
            "7/7 [==============================] - 1s 82ms/step - loss: 2.5725\n",
            "Epoch 12/200\n",
            "7/7 [==============================] - 1s 74ms/step - loss: 2.5181\n",
            "Epoch 13/200\n",
            "7/7 [==============================] - 0s 47ms/step - loss: 2.5299\n",
            "Epoch 14/200\n",
            "7/7 [==============================] - 0s 52ms/step - loss: 2.5227\n",
            "Epoch 15/200\n",
            "7/7 [==============================] - 0s 53ms/step - loss: 2.5031\n",
            "Epoch 16/200\n",
            "7/7 [==============================] - 0s 52ms/step - loss: 2.4989\n",
            "Epoch 17/200\n",
            "7/7 [==============================] - 0s 53ms/step - loss: 2.4900\n",
            "Epoch 18/200\n",
            "7/7 [==============================] - 0s 46ms/step - loss: 2.4724\n",
            "Epoch 19/200\n",
            "7/7 [==============================] - 0s 49ms/step - loss: 2.4613\n",
            "Epoch 20/200\n",
            "7/7 [==============================] - 0s 52ms/step - loss: 2.4523\n",
            "Epoch 21/200\n",
            "7/7 [==============================] - 0s 55ms/step - loss: 2.4347\n",
            "Epoch 22/200\n",
            "7/7 [==============================] - 0s 51ms/step - loss: 2.4042\n",
            "Epoch 23/200\n",
            "7/7 [==============================] - 0s 53ms/step - loss: 2.3912\n",
            "Epoch 24/200\n",
            "7/7 [==============================] - 0s 50ms/step - loss: 2.3581\n",
            "Epoch 25/200\n",
            "7/7 [==============================] - 0s 50ms/step - loss: 2.3855\n",
            "Epoch 26/200\n",
            "7/7 [==============================] - 0s 50ms/step - loss: 2.3596\n",
            "Epoch 27/200\n",
            "7/7 [==============================] - 0s 51ms/step - loss: 2.3406\n",
            "Epoch 28/200\n",
            "7/7 [==============================] - 0s 53ms/step - loss: 2.3451\n",
            "Epoch 29/200\n",
            "7/7 [==============================] - 0s 50ms/step - loss: 2.3325\n",
            "Epoch 30/200\n",
            "7/7 [==============================] - 0s 50ms/step - loss: 2.3204\n",
            "Epoch 31/200\n",
            "7/7 [==============================] - 0s 50ms/step - loss: 2.2944\n",
            "Epoch 32/200\n",
            "7/7 [==============================] - 0s 49ms/step - loss: 2.2899\n",
            "Epoch 33/200\n",
            "7/7 [==============================] - 0s 50ms/step - loss: 2.2645\n",
            "Epoch 34/200\n",
            "7/7 [==============================] - 0s 52ms/step - loss: 2.2718\n",
            "Epoch 35/200\n",
            "7/7 [==============================] - 0s 52ms/step - loss: 2.2595\n",
            "Epoch 36/200\n",
            "7/7 [==============================] - 0s 49ms/step - loss: 2.2265\n",
            "Epoch 37/200\n",
            "7/7 [==============================] - 0s 51ms/step - loss: 2.2174\n",
            "Epoch 38/200\n",
            "7/7 [==============================] - 0s 49ms/step - loss: 2.1849\n",
            "Epoch 39/200\n",
            "7/7 [==============================] - 0s 50ms/step - loss: 2.2130\n",
            "Epoch 40/200\n",
            "7/7 [==============================] - 1s 78ms/step - loss: 2.1827\n",
            "Epoch 41/200\n",
            "7/7 [==============================] - 1s 85ms/step - loss: 2.1481\n",
            "Epoch 42/200\n",
            "7/7 [==============================] - 1s 89ms/step - loss: 2.1466\n",
            "Epoch 43/200\n",
            "7/7 [==============================] - 1s 82ms/step - loss: 2.1206\n",
            "Epoch 44/200\n",
            "7/7 [==============================] - 1s 82ms/step - loss: 2.1377\n",
            "Epoch 45/200\n",
            "7/7 [==============================] - 1s 79ms/step - loss: 2.1034\n",
            "Epoch 46/200\n",
            "7/7 [==============================] - 1s 85ms/step - loss: 2.0623\n",
            "Epoch 47/200\n",
            "7/7 [==============================] - 1s 81ms/step - loss: 2.0567\n",
            "Epoch 48/200\n",
            "7/7 [==============================] - 1s 72ms/step - loss: 2.0768\n",
            "Epoch 49/200\n",
            "7/7 [==============================] - 0s 53ms/step - loss: 2.0490\n",
            "Epoch 50/200\n",
            "7/7 [==============================] - 0s 49ms/step - loss: 2.0322\n",
            "Epoch 51/200\n",
            "7/7 [==============================] - 0s 48ms/step - loss: 1.9898\n",
            "Epoch 52/200\n",
            "7/7 [==============================] - 0s 49ms/step - loss: 1.9657\n",
            "Epoch 53/200\n",
            "7/7 [==============================] - 0s 53ms/step - loss: 1.9356\n",
            "Epoch 54/200\n",
            "7/7 [==============================] - 0s 49ms/step - loss: 1.9135\n",
            "Epoch 55/200\n",
            "7/7 [==============================] - 0s 52ms/step - loss: 1.8978\n",
            "Epoch 56/200\n",
            "7/7 [==============================] - 0s 50ms/step - loss: 1.8942\n",
            "Epoch 57/200\n",
            "7/7 [==============================] - 0s 51ms/step - loss: 1.8369\n",
            "Epoch 58/200\n",
            "7/7 [==============================] - 0s 49ms/step - loss: 1.8216\n",
            "Epoch 59/200\n",
            "7/7 [==============================] - 0s 46ms/step - loss: 1.8034\n",
            "Epoch 60/200\n",
            "7/7 [==============================] - 0s 54ms/step - loss: 1.7724\n",
            "Epoch 61/200\n",
            "7/7 [==============================] - 0s 51ms/step - loss: 1.7387\n",
            "Epoch 62/200\n",
            "7/7 [==============================] - 0s 51ms/step - loss: 1.7519\n",
            "Epoch 63/200\n",
            "7/7 [==============================] - 0s 52ms/step - loss: 1.6956\n",
            "Epoch 64/200\n",
            "7/7 [==============================] - 0s 50ms/step - loss: 1.6437\n",
            "Epoch 65/200\n",
            "7/7 [==============================] - 0s 48ms/step - loss: 1.6258\n",
            "Epoch 66/200\n",
            "7/7 [==============================] - 0s 48ms/step - loss: 1.6058\n",
            "Epoch 67/200\n",
            "7/7 [==============================] - 0s 55ms/step - loss: 1.5431\n",
            "Epoch 68/200\n",
            "7/7 [==============================] - 0s 55ms/step - loss: 1.5201\n",
            "Epoch 69/200\n",
            "7/7 [==============================] - 0s 55ms/step - loss: 1.4704\n",
            "Epoch 70/200\n",
            "7/7 [==============================] - 0s 51ms/step - loss: 1.4536\n",
            "Epoch 71/200\n",
            "7/7 [==============================] - 0s 48ms/step - loss: 1.4245\n",
            "Epoch 72/200\n",
            "7/7 [==============================] - 0s 46ms/step - loss: 1.4157\n",
            "Epoch 73/200\n",
            "7/7 [==============================] - 0s 49ms/step - loss: 1.3405\n",
            "Epoch 74/200\n",
            "7/7 [==============================] - 0s 54ms/step - loss: 1.3402\n",
            "Epoch 75/200\n",
            "7/7 [==============================] - 0s 53ms/step - loss: 1.2702\n",
            "Epoch 76/200\n",
            "7/7 [==============================] - 0s 72ms/step - loss: 1.2412\n",
            "Epoch 77/200\n",
            "7/7 [==============================] - 1s 78ms/step - loss: 1.2477\n",
            "Epoch 78/200\n",
            "7/7 [==============================] - 1s 77ms/step - loss: 1.2368\n",
            "Epoch 79/200\n",
            "7/7 [==============================] - 1s 82ms/step - loss: 1.2170\n",
            "Epoch 80/200\n",
            "7/7 [==============================] - 1s 88ms/step - loss: 1.1627\n",
            "Epoch 81/200\n",
            "7/7 [==============================] - 1s 88ms/step - loss: 1.1897\n",
            "Epoch 82/200\n",
            "7/7 [==============================] - 1s 84ms/step - loss: 1.1285\n",
            "Epoch 83/200\n",
            "7/7 [==============================] - 1s 81ms/step - loss: 1.1002\n",
            "Epoch 84/200\n",
            "7/7 [==============================] - 1s 82ms/step - loss: 1.0856\n",
            "Epoch 85/200\n",
            "7/7 [==============================] - 0s 49ms/step - loss: 1.0539\n",
            "Epoch 86/200\n",
            "7/7 [==============================] - 0s 51ms/step - loss: 1.0068\n",
            "Epoch 87/200\n",
            "7/7 [==============================] - 0s 49ms/step - loss: 0.9558\n",
            "Epoch 88/200\n",
            "7/7 [==============================] - 0s 53ms/step - loss: 0.9165\n",
            "Epoch 89/200\n",
            "7/7 [==============================] - 0s 59ms/step - loss: 0.8997\n",
            "Epoch 90/200\n",
            "7/7 [==============================] - 0s 54ms/step - loss: 0.8469\n",
            "Epoch 91/200\n",
            "7/7 [==============================] - 0s 48ms/step - loss: 0.8421\n",
            "Epoch 92/200\n",
            "7/7 [==============================] - 0s 53ms/step - loss: 0.7976\n",
            "Epoch 93/200\n",
            "7/7 [==============================] - 0s 50ms/step - loss: 0.8044\n",
            "Epoch 94/200\n",
            "7/7 [==============================] - 0s 50ms/step - loss: 0.7592\n",
            "Epoch 95/200\n",
            "7/7 [==============================] - 0s 54ms/step - loss: 0.7325\n",
            "Epoch 96/200\n",
            "7/7 [==============================] - 0s 56ms/step - loss: 0.7143\n",
            "Epoch 97/200\n",
            "7/7 [==============================] - 0s 52ms/step - loss: 0.6794\n",
            "Epoch 98/200\n",
            "7/7 [==============================] - 0s 50ms/step - loss: 0.6496\n",
            "Epoch 99/200\n",
            "7/7 [==============================] - 0s 47ms/step - loss: 0.6219\n",
            "Epoch 100/200\n",
            "7/7 [==============================] - 0s 54ms/step - loss: 0.5884\n",
            "Epoch 101/200\n",
            "7/7 [==============================] - 0s 49ms/step - loss: 0.5688\n",
            "Epoch 102/200\n",
            "7/7 [==============================] - 0s 52ms/step - loss: 0.5687\n",
            "Epoch 103/200\n",
            "7/7 [==============================] - 0s 53ms/step - loss: 0.5320\n",
            "Epoch 104/200\n",
            "7/7 [==============================] - 0s 50ms/step - loss: 0.5332\n",
            "Epoch 105/200\n",
            "7/7 [==============================] - 0s 49ms/step - loss: 0.5300\n",
            "Epoch 106/200\n",
            "7/7 [==============================] - 0s 54ms/step - loss: 0.5129\n",
            "Epoch 107/200\n",
            "7/7 [==============================] - 0s 49ms/step - loss: 0.4735\n",
            "Epoch 108/200\n",
            "7/7 [==============================] - 0s 54ms/step - loss: 0.4776\n",
            "Epoch 109/200\n",
            "7/7 [==============================] - 0s 56ms/step - loss: 0.4610\n",
            "Epoch 110/200\n",
            "7/7 [==============================] - 0s 49ms/step - loss: 0.4588\n",
            "Epoch 111/200\n",
            "7/7 [==============================] - 0s 47ms/step - loss: 0.4327\n",
            "Epoch 112/200\n",
            "7/7 [==============================] - 1s 79ms/step - loss: 0.3995\n",
            "Epoch 113/200\n",
            "7/7 [==============================] - 1s 81ms/step - loss: 0.4108\n",
            "Epoch 114/200\n",
            "7/7 [==============================] - 1s 79ms/step - loss: 0.3644\n",
            "Epoch 115/200\n",
            "7/7 [==============================] - 1s 78ms/step - loss: 0.3728\n",
            "Epoch 116/200\n",
            "7/7 [==============================] - 1s 80ms/step - loss: 0.3537\n",
            "Epoch 117/200\n",
            "7/7 [==============================] - 1s 78ms/step - loss: 0.3436\n",
            "Epoch 118/200\n",
            "7/7 [==============================] - 1s 81ms/step - loss: 0.3402\n",
            "Epoch 119/200\n",
            "7/7 [==============================] - 1s 79ms/step - loss: 0.3319\n",
            "Epoch 120/200\n",
            "7/7 [==============================] - 1s 82ms/step - loss: 0.3395\n",
            "Epoch 121/200\n",
            "7/7 [==============================] - 0s 60ms/step - loss: 0.3284\n",
            "Epoch 122/200\n",
            "7/7 [==============================] - 0s 53ms/step - loss: 0.3310\n",
            "Epoch 123/200\n",
            "7/7 [==============================] - 0s 55ms/step - loss: 0.3024\n",
            "Epoch 124/200\n",
            "7/7 [==============================] - 0s 52ms/step - loss: 0.2988\n",
            "Epoch 125/200\n",
            "7/7 [==============================] - 0s 52ms/step - loss: 0.2724\n",
            "Epoch 126/200\n",
            "7/7 [==============================] - 0s 55ms/step - loss: 0.2740\n",
            "Epoch 127/200\n",
            "7/7 [==============================] - 0s 53ms/step - loss: 0.2574\n",
            "Epoch 128/200\n",
            "7/7 [==============================] - 0s 57ms/step - loss: 0.2621\n",
            "Epoch 129/200\n",
            "7/7 [==============================] - 0s 55ms/step - loss: 0.2345\n",
            "Epoch 130/200\n",
            "7/7 [==============================] - 0s 52ms/step - loss: 0.2358\n",
            "Epoch 131/200\n",
            "7/7 [==============================] - 0s 52ms/step - loss: 0.2322\n",
            "Epoch 132/200\n",
            "7/7 [==============================] - 0s 54ms/step - loss: 0.2309\n",
            "Epoch 133/200\n",
            "7/7 [==============================] - 0s 55ms/step - loss: 0.2170\n",
            "Epoch 134/200\n",
            "7/7 [==============================] - 0s 53ms/step - loss: 0.2255\n",
            "Epoch 135/200\n",
            "7/7 [==============================] - 0s 55ms/step - loss: 0.2284\n",
            "Epoch 136/200\n",
            "7/7 [==============================] - 0s 54ms/step - loss: 0.2202\n",
            "Epoch 137/200\n",
            "7/7 [==============================] - 0s 54ms/step - loss: 0.2039\n",
            "Epoch 138/200\n",
            "7/7 [==============================] - 0s 57ms/step - loss: 0.2267\n",
            "Epoch 139/200\n",
            "7/7 [==============================] - 0s 54ms/step - loss: 0.1936\n",
            "Epoch 140/200\n",
            "7/7 [==============================] - 0s 61ms/step - loss: 0.1783\n",
            "Epoch 141/200\n",
            "7/7 [==============================] - 0s 55ms/step - loss: 0.1578\n",
            "Epoch 142/200\n",
            "7/7 [==============================] - 0s 51ms/step - loss: 0.1523\n",
            "Epoch 143/200\n",
            "7/7 [==============================] - 0s 55ms/step - loss: 0.1639\n",
            "Epoch 144/200\n",
            "7/7 [==============================] - 0s 57ms/step - loss: 0.1670\n",
            "Epoch 145/200\n",
            "7/7 [==============================] - 0s 58ms/step - loss: 0.1401\n",
            "Epoch 146/200\n",
            "7/7 [==============================] - 0s 59ms/step - loss: 0.1578\n",
            "Epoch 147/200\n",
            "7/7 [==============================] - 1s 85ms/step - loss: 0.1492\n",
            "Epoch 148/200\n",
            "7/7 [==============================] - 1s 82ms/step - loss: 0.1374\n",
            "Epoch 149/200\n",
            "7/7 [==============================] - 1s 84ms/step - loss: 0.1700\n",
            "Epoch 150/200\n",
            "7/7 [==============================] - 1s 89ms/step - loss: 0.1645\n",
            "Epoch 151/200\n",
            "7/7 [==============================] - 1s 87ms/step - loss: 0.1647\n",
            "Epoch 152/200\n",
            "7/7 [==============================] - 1s 88ms/step - loss: 0.1484\n",
            "Epoch 153/200\n",
            "7/7 [==============================] - 1s 82ms/step - loss: 0.1511\n",
            "Epoch 154/200\n",
            "7/7 [==============================] - 1s 82ms/step - loss: 0.1441\n",
            "Epoch 155/200\n",
            "7/7 [==============================] - 0s 60ms/step - loss: 0.1299\n",
            "Epoch 156/200\n",
            "7/7 [==============================] - 0s 53ms/step - loss: 0.1386\n",
            "Epoch 157/200\n",
            "7/7 [==============================] - 0s 60ms/step - loss: 0.1506\n",
            "Epoch 158/200\n",
            "7/7 [==============================] - 0s 57ms/step - loss: 0.1186\n",
            "Epoch 159/200\n",
            "7/7 [==============================] - 0s 59ms/step - loss: 0.1200\n",
            "Epoch 160/200\n",
            "7/7 [==============================] - 0s 54ms/step - loss: 0.1139\n",
            "Epoch 161/200\n",
            "7/7 [==============================] - 0s 53ms/step - loss: 0.1182\n",
            "Epoch 162/200\n",
            "7/7 [==============================] - 0s 62ms/step - loss: 0.1155\n",
            "Epoch 163/200\n",
            "7/7 [==============================] - 0s 55ms/step - loss: 0.1070\n",
            "Epoch 164/200\n",
            "7/7 [==============================] - 0s 60ms/step - loss: 0.1047\n",
            "Epoch 165/200\n",
            "7/7 [==============================] - 0s 54ms/step - loss: 0.0946\n",
            "Epoch 166/200\n",
            "7/7 [==============================] - 0s 53ms/step - loss: 0.0977\n",
            "Epoch 167/200\n",
            "7/7 [==============================] - 0s 55ms/step - loss: 0.1085\n",
            "Epoch 168/200\n",
            "7/7 [==============================] - 0s 55ms/step - loss: 0.0962\n",
            "Epoch 169/200\n",
            "7/7 [==============================] - 0s 59ms/step - loss: 0.0990\n",
            "Epoch 170/200\n",
            "7/7 [==============================] - 0s 56ms/step - loss: 0.0858\n",
            "Epoch 171/200\n",
            "7/7 [==============================] - 0s 53ms/step - loss: 0.1080\n",
            "Epoch 172/200\n",
            "7/7 [==============================] - 0s 55ms/step - loss: 0.0902\n",
            "Epoch 173/200\n",
            "7/7 [==============================] - 0s 50ms/step - loss: 0.0910\n",
            "Epoch 174/200\n",
            "7/7 [==============================] - 0s 53ms/step - loss: 0.0849\n",
            "Epoch 175/200\n",
            "7/7 [==============================] - 0s 60ms/step - loss: 0.0801\n",
            "Epoch 176/200\n",
            "7/7 [==============================] - 0s 54ms/step - loss: 0.0648\n",
            "Epoch 177/200\n",
            "7/7 [==============================] - 0s 53ms/step - loss: 0.0728\n",
            "Epoch 178/200\n",
            "7/7 [==============================] - 0s 55ms/step - loss: 0.0626\n",
            "Epoch 179/200\n",
            "7/7 [==============================] - 0s 52ms/step - loss: 0.0700\n",
            "Epoch 180/200\n",
            "7/7 [==============================] - 0s 56ms/step - loss: 0.0735\n",
            "Epoch 181/200\n",
            "7/7 [==============================] - 1s 85ms/step - loss: 0.0744\n",
            "Epoch 182/200\n",
            "7/7 [==============================] - 1s 86ms/step - loss: 0.0842\n",
            "Epoch 183/200\n",
            "7/7 [==============================] - 1s 82ms/step - loss: 0.0705\n",
            "Epoch 184/200\n",
            "7/7 [==============================] - 1s 82ms/step - loss: 0.0678\n",
            "Epoch 185/200\n",
            "7/7 [==============================] - 1s 82ms/step - loss: 0.0750\n",
            "Epoch 186/200\n",
            "7/7 [==============================] - 1s 83ms/step - loss: 0.0724\n",
            "Epoch 187/200\n",
            "7/7 [==============================] - 1s 84ms/step - loss: 0.1204\n",
            "Epoch 188/200\n",
            "7/7 [==============================] - 1s 81ms/step - loss: 0.1020\n",
            "Epoch 189/200\n",
            "7/7 [==============================] - 1s 71ms/step - loss: 0.0871\n",
            "Epoch 190/200\n",
            "7/7 [==============================] - 0s 55ms/step - loss: 0.0813\n",
            "Epoch 191/200\n",
            "7/7 [==============================] - 0s 55ms/step - loss: 0.0805\n",
            "Epoch 192/200\n",
            "7/7 [==============================] - 0s 54ms/step - loss: 0.0774\n",
            "Epoch 193/200\n",
            "7/7 [==============================] - 0s 55ms/step - loss: 0.0760\n",
            "Epoch 194/200\n",
            "7/7 [==============================] - 0s 54ms/step - loss: 0.0763\n",
            "Epoch 195/200\n",
            "7/7 [==============================] - 0s 55ms/step - loss: 0.0733\n",
            "Epoch 196/200\n",
            "7/7 [==============================] - 0s 56ms/step - loss: 0.0613\n",
            "Epoch 197/200\n",
            "7/7 [==============================] - 0s 56ms/step - loss: 0.0645\n",
            "Epoch 198/200\n",
            "7/7 [==============================] - 0s 52ms/step - loss: 0.0535\n",
            "Epoch 199/200\n",
            "7/7 [==============================] - 0s 52ms/step - loss: 0.0595\n",
            "Epoch 200/200\n",
            "7/7 [==============================] - 0s 52ms/step - loss: 0.0467\n"
          ]
        },
        {
          "output_type": "execute_result",
          "data": {
            "text/plain": [
              "<keras.callbacks.History at 0x7f1e57aa4760>"
            ]
          },
          "metadata": {},
          "execution_count": 81
        }
      ]
    },
    {
      "cell_type": "code",
      "source": [
        "model.save('benWebsterBot.h5')"
      ],
      "metadata": {
        "id": "pen8cqP2SBuR"
      },
      "execution_count": 82,
      "outputs": []
    },
    {
      "cell_type": "code",
      "source": [],
      "metadata": {
        "id": "jwVOSPxrHhAj"
      },
      "execution_count": null,
      "outputs": []
    }
  ]
}